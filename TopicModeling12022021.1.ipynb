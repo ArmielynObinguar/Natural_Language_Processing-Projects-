{
 "cells": [
  {
   "cell_type": "code",
   "execution_count": null,
   "id": "5324f13d-b895-457b-830b-249c07611420",
   "metadata": {},
   "outputs": [],
   "source": [
    "# install packages\n",
    "\n",
    "# !pip install bs4\n",
    "# !pip install contractions\n",
    "# !pip install wordninja\n",
    "# !pip install spellchecker\n",
    "# !pip install nltk\n",
    "# !pip install spacy\n",
    "# !pip install deep_translator\n",
    "# !pip install tqdm\n",
    "# !pip install langdetect\n",
    "# !pip install gensim\n",
    "# !pip install contractions\n",
    "# !pip install pycld2 \n",
    "# !pip install dask\n",
    "# !pip install pyLDAvis\n"
   ]
  },
  {
   "cell_type": "code",
   "execution_count": 303,
   "id": "f7f40336-9bf0-4884-bb6a-d893d1ac21e6",
   "metadata": {},
   "outputs": [
    {
     "name": "stderr",
     "output_type": "stream",
     "text": [
      "[nltk_data] Downloading package stopwords to\n",
      "[nltk_data]     /home/jupyter/nltk_data...\n",
      "[nltk_data]   Package stopwords is already up-to-date!\n",
      "[nltk_data] Downloading package punkt to /home/jupyter/nltk_data...\n",
      "[nltk_data]   Package punkt is already up-to-date!\n",
      "[nltk_data] Downloading package vader_lexicon to\n",
      "[nltk_data]     /home/jupyter/nltk_data...\n",
      "[nltk_data]   Package vader_lexicon is already up-to-date!\n",
      "[nltk_data] Downloading package wordnet to /home/jupyter/nltk_data...\n",
      "[nltk_data]   Package wordnet is already up-to-date!\n",
      "[nltk_data] Downloading package omw to /home/jupyter/nltk_data...\n",
      "[nltk_data]   Package omw is already up-to-date!\n",
      "[nltk_data] Downloading package averaged_perceptron_tagger to\n",
      "[nltk_data]     /home/jupyter/nltk_data...\n",
      "[nltk_data]   Package averaged_perceptron_tagger is already up-to-\n",
      "[nltk_data]       date!\n"
     ]
    },
    {
     "name": "stdout",
     "output_type": "stream",
     "text": [
      "Collecting en-core-web-sm==3.2.0\n",
      "  Downloading https://github.com/explosion/spacy-models/releases/download/en_core_web_sm-3.2.0/en_core_web_sm-3.2.0-py3-none-any.whl (13.9 MB)\n",
      "     |████████████████████████████████| 13.9 MB 463 kB/s            \n",
      "\u001b[?25hRequirement already satisfied: spacy<3.3.0,>=3.2.0 in /opt/conda/lib/python3.7/site-packages (from en-core-web-sm==3.2.0) (3.2.0)\n",
      "Requirement already satisfied: cymem<2.1.0,>=2.0.2 in /opt/conda/lib/python3.7/site-packages (from spacy<3.3.0,>=3.2.0->en-core-web-sm==3.2.0) (2.0.6)\n",
      "Requirement already satisfied: wasabi<1.1.0,>=0.8.1 in /opt/conda/lib/python3.7/site-packages (from spacy<3.3.0,>=3.2.0->en-core-web-sm==3.2.0) (0.8.2)\n",
      "Requirement already satisfied: typing-extensions<4.0.0.0,>=3.7.4 in /opt/conda/lib/python3.7/site-packages (from spacy<3.3.0,>=3.2.0->en-core-web-sm==3.2.0) (3.10.0.2)\n",
      "Requirement already satisfied: langcodes<4.0.0,>=3.2.0 in /opt/conda/lib/python3.7/site-packages (from spacy<3.3.0,>=3.2.0->en-core-web-sm==3.2.0) (3.3.0)\n",
      "Requirement already satisfied: setuptools in /opt/conda/lib/python3.7/site-packages (from spacy<3.3.0,>=3.2.0->en-core-web-sm==3.2.0) (59.1.1)\n",
      "Requirement already satisfied: blis<0.8.0,>=0.4.0 in /opt/conda/lib/python3.7/site-packages (from spacy<3.3.0,>=3.2.0->en-core-web-sm==3.2.0) (0.7.5)\n",
      "Requirement already satisfied: pathy>=0.3.5 in /opt/conda/lib/python3.7/site-packages (from spacy<3.3.0,>=3.2.0->en-core-web-sm==3.2.0) (0.6.1)\n",
      "Requirement already satisfied: catalogue<2.1.0,>=2.0.6 in /opt/conda/lib/python3.7/site-packages (from spacy<3.3.0,>=3.2.0->en-core-web-sm==3.2.0) (2.0.6)\n",
      "Requirement already satisfied: jinja2 in /opt/conda/lib/python3.7/site-packages (from spacy<3.3.0,>=3.2.0->en-core-web-sm==3.2.0) (3.0.3)\n",
      "Requirement already satisfied: typer<0.5.0,>=0.3.0 in /opt/conda/lib/python3.7/site-packages (from spacy<3.3.0,>=3.2.0->en-core-web-sm==3.2.0) (0.4.0)\n",
      "Requirement already satisfied: requests<3.0.0,>=2.13.0 in /opt/conda/lib/python3.7/site-packages (from spacy<3.3.0,>=3.2.0->en-core-web-sm==3.2.0) (2.25.1)\n",
      "Requirement already satisfied: numpy>=1.15.0 in /opt/conda/lib/python3.7/site-packages (from spacy<3.3.0,>=3.2.0->en-core-web-sm==3.2.0) (1.21.4)\n",
      "Requirement already satisfied: spacy-legacy<3.1.0,>=3.0.8 in /opt/conda/lib/python3.7/site-packages (from spacy<3.3.0,>=3.2.0->en-core-web-sm==3.2.0) (3.0.8)\n",
      "Requirement already satisfied: preshed<3.1.0,>=3.0.2 in /opt/conda/lib/python3.7/site-packages (from spacy<3.3.0,>=3.2.0->en-core-web-sm==3.2.0) (3.0.6)\n",
      "Requirement already satisfied: srsly<3.0.0,>=2.4.1 in /opt/conda/lib/python3.7/site-packages (from spacy<3.3.0,>=3.2.0->en-core-web-sm==3.2.0) (2.4.2)\n",
      "Requirement already satisfied: pydantic!=1.8,!=1.8.1,<1.9.0,>=1.7.4 in /opt/conda/lib/python3.7/site-packages (from spacy<3.3.0,>=3.2.0->en-core-web-sm==3.2.0) (1.8.2)\n",
      "Requirement already satisfied: spacy-loggers<2.0.0,>=1.0.0 in /opt/conda/lib/python3.7/site-packages (from spacy<3.3.0,>=3.2.0->en-core-web-sm==3.2.0) (1.0.1)\n",
      "Requirement already satisfied: murmurhash<1.1.0,>=0.28.0 in /opt/conda/lib/python3.7/site-packages (from spacy<3.3.0,>=3.2.0->en-core-web-sm==3.2.0) (1.0.6)\n",
      "Requirement already satisfied: tqdm<5.0.0,>=4.38.0 in /opt/conda/lib/python3.7/site-packages (from spacy<3.3.0,>=3.2.0->en-core-web-sm==3.2.0) (4.62.3)\n",
      "Requirement already satisfied: packaging>=20.0 in /opt/conda/lib/python3.7/site-packages (from spacy<3.3.0,>=3.2.0->en-core-web-sm==3.2.0) (21.0)\n",
      "Requirement already satisfied: thinc<8.1.0,>=8.0.12 in /opt/conda/lib/python3.7/site-packages (from spacy<3.3.0,>=3.2.0->en-core-web-sm==3.2.0) (8.0.13)\n",
      "Requirement already satisfied: zipp>=0.5 in /opt/conda/lib/python3.7/site-packages (from catalogue<2.1.0,>=2.0.6->spacy<3.3.0,>=3.2.0->en-core-web-sm==3.2.0) (3.6.0)\n",
      "Requirement already satisfied: pyparsing>=2.0.2 in /opt/conda/lib/python3.7/site-packages (from packaging>=20.0->spacy<3.3.0,>=3.2.0->en-core-web-sm==3.2.0) (3.0.6)\n",
      "Requirement already satisfied: smart-open<6.0.0,>=5.0.0 in /opt/conda/lib/python3.7/site-packages (from pathy>=0.3.5->spacy<3.3.0,>=3.2.0->en-core-web-sm==3.2.0) (5.2.1)\n",
      "Requirement already satisfied: idna<3,>=2.5 in /opt/conda/lib/python3.7/site-packages (from requests<3.0.0,>=2.13.0->spacy<3.3.0,>=3.2.0->en-core-web-sm==3.2.0) (2.10)\n",
      "Requirement already satisfied: urllib3<1.27,>=1.21.1 in /opt/conda/lib/python3.7/site-packages (from requests<3.0.0,>=2.13.0->spacy<3.3.0,>=3.2.0->en-core-web-sm==3.2.0) (1.26.7)\n",
      "Requirement already satisfied: certifi>=2017.4.17 in /opt/conda/lib/python3.7/site-packages (from requests<3.0.0,>=2.13.0->spacy<3.3.0,>=3.2.0->en-core-web-sm==3.2.0) (2021.10.8)\n",
      "Requirement already satisfied: chardet<5,>=3.0.2 in /opt/conda/lib/python3.7/site-packages (from requests<3.0.0,>=2.13.0->spacy<3.3.0,>=3.2.0->en-core-web-sm==3.2.0) (4.0.0)\n",
      "Requirement already satisfied: click<9.0.0,>=7.1.1 in /opt/conda/lib/python3.7/site-packages (from typer<0.5.0,>=0.3.0->spacy<3.3.0,>=3.2.0->en-core-web-sm==3.2.0) (8.0.3)\n",
      "Requirement already satisfied: MarkupSafe>=2.0 in /opt/conda/lib/python3.7/site-packages (from jinja2->spacy<3.3.0,>=3.2.0->en-core-web-sm==3.2.0) (2.0.1)\n",
      "Requirement already satisfied: importlib-metadata in /opt/conda/lib/python3.7/site-packages (from click<9.0.0,>=7.1.1->typer<0.5.0,>=0.3.0->spacy<3.3.0,>=3.2.0->en-core-web-sm==3.2.0) (4.8.2)\n",
      "\u001b[38;5;2m✔ Download and installation successful\u001b[0m\n",
      "You can now load the package via spacy.load('en_core_web_sm')\n"
     ]
    }
   ],
   "source": [
    "#import libraries\n",
    "\n",
    "import pandas as pd\n",
    "from pandas.core.common import flatten\n",
    "import numpy as np\n",
    "import matplotlib.pyplot as plt\n",
    "import seaborn as sns\n",
    "import re\n",
    "from bs4 import BeautifulSoup\n",
    "import nltk\n",
    "from nltk.corpus import stopwords, wordnet\n",
    "from nltk.stem import WordNetLemmatizer\n",
    "from nltk import tokenize\n",
    "from sklearn.feature_extraction.text import TfidfVectorizer, CountVectorizer,  TfidfTransformer\n",
    "from sklearn.decomposition import LatentDirichletAllocation\n",
    "from sklearn.decomposition import NMF\n",
    "from sklearn.model_selection import GridSearchCV\n",
    "from sklearn.preprocessing import normalize\n",
    "from gensim.models import CoherenceModel\n",
    "from itertools import chain\n",
    "# import spacy\n",
    "from string import punctuation\n",
    "from deep_translator import GoogleTranslator\n",
    "import unicodedata\n",
    "import contractions\n",
    "from langdetect import detect\n",
    "import time\n",
    "import gensim\n",
    "from gensim import corpora\n",
    "from nltk.sentiment.vader import SentimentIntensityAnalyzer\n",
    "import pyLDAvis\n",
    "import pyLDAvis.gensim_models as gensimvis\n",
    "pyLDAvis.enable_notebook()\n",
    "\n",
    "nltk.download('stopwords')\n",
    "nltk.download('punkt')\n",
    "nltk.download('vader_lexicon')\n",
    "nltk.download('wordnet')\n",
    "nltk.download('omw')\n",
    "nltk.download('averaged_perceptron_tagger')\n",
    "\n",
    "!python -m spacy download en_core_web_sm\n",
    "%matplotlib inline\n",
    "\n",
    "import warnings\n",
    "warnings.filterwarnings(\"ignore\")\n",
    "\n",
    "from tqdm.notebook import tqdm\n",
    "tqdm.pandas()"
   ]
  },
  {
   "cell_type": "markdown",
   "id": "925e1ae3-3c93-41fe-b284-d594acac45d5",
   "metadata": {
    "jp-MarkdownHeadingCollapsed": true,
    "tags": []
   },
   "source": [
    "### Data Pre-processing -- Skip this step -- Download preprocessed data here:\n",
    "https://drive.google.com/file/d/1Ppgcqob9UYaoaWJrw_mSC49IV9W4eHDt/view?usp=sharing"
   ]
  },
  {
   "cell_type": "code",
   "execution_count": null,
   "id": "0b4f9607-0785-436a-a1ed-45c75f03aae9",
   "metadata": {},
   "outputs": [],
   "source": [
    "#Import data using pandas\n",
    "df = pd.read_csv('task-8-dataset-120212021.csv', encoding='utf-8')"
   ]
  },
  {
   "cell_type": "code",
   "execution_count": null,
   "id": "7a5ffc72-47ca-4903-81a2-dfb5ab7685f3",
   "metadata": {},
   "outputs": [],
   "source": [
    "#language detection\n",
    "def detect_my(text):\n",
    "   try:\n",
    "       return detect(text)\n",
    "   except:\n",
    "       return 'unknown'\n",
    "\n",
    "df['language'] = df['content'].apply(detect_my)"
   ]
  },
  {
   "cell_type": "code",
   "execution_count": null,
   "id": "fcbe700a-4362-4521-bb27-bf27542f6af8",
   "metadata": {},
   "outputs": [],
   "source": [
    "#This function prepares text data for translation (data cleaning part 1)\n",
    "\n",
    "def content_cleaning(content):\n",
    "    text = re.sub(r\"http\\S+\", \"\", str(content))                    #remove url\n",
    "    text = text.encode('ascii', 'ignore').decode('utf-8')     #remove emojis\n",
    "    text = text.replace('\\xa0', ' ')                          #remove non-utf characters\n",
    "    text = unicodedata.normalize('NFKD', text).encode('ascii', 'ignore').decode('utf-8', 'ignore')    #remove accented characters\n",
    "    text = re.sub(r'[＃#](\\w+)', ' ', text)                   #remove hashtags\n",
    "    text = re.sub(r'[0-9]', ' ', text)                        #remove numerics\n",
    "    text = BeautifulSoup(text, 'html.parser').get_text()   #remove html tags\n",
    "    \n",
    "    return text"
   ]
  },
  {
   "cell_type": "code",
   "execution_count": null,
   "id": "caa522d4-a4e7-49e9-bef3-5f3e1d3e6b77",
   "metadata": {},
   "outputs": [],
   "source": [
    "df['text_clean'] = df['content'].apply(lambda x: content_cleaning(x))"
   ]
  },
  {
   "cell_type": "code",
   "execution_count": null,
   "id": "a76f9fad-3fde-43e9-b646-511809ecdf15",
   "metadata": {},
   "outputs": [],
   "source": [
    "#Text translation\n",
    "\n",
    "def split_paragraphs(doc):\n",
    "    if len(doc) > 5000:\n",
    "        return re.split(r'\\n{1,}', doc.strip())\n",
    "    else:\n",
    "        return tokenize.sent_tokenize(doc)\n",
    "\n",
    "\n",
    "#Translating to english\n",
    "def trans_char(text):\n",
    "    try:\n",
    "        translated = GoogleTranslator(source='auto', target='en').translate(text)\n",
    "        if translated is None:\n",
    "            translated = text\n",
    "        return translated\n",
    "    except:\n",
    "        return 'Unable to Translate'\n",
    "  \n",
    "    \n",
    "def translate_text_en(text):\n",
    "    translated_para = []\n",
    "    if isinstance(text, str):\n",
    "        translated_string = trans_char(text)\n",
    "        time.sleep(2)\n",
    "        return translated_string\n",
    "    elif isinstance(text, list):\n",
    "        for paragraph in text:\n",
    "            if len(paragraph) > 1:\n",
    "                translated = trans_char(paragraph)\n",
    "                translated_para.append(translated)\n",
    "            else: \n",
    "                translated_para.append(paragraph)\n",
    "                time.sleep(2)\n",
    "        return translated_para\n",
    "    \n",
    "\n",
    "#Returning back to doc\n",
    "def join_translated_paragraphs(doc):\n",
    "    if isinstance(doc, str):\n",
    "        return doc\n",
    "    elif isinstance(doc, list):\n",
    "        return '\\n'.join(doc)\n",
    "\n",
    "\n",
    "def text_translation(clean_text):\n",
    "    split_text = split_paragraphs(clean_text)\n",
    "    trans_text = translate_text_en(split_text)\n",
    "    trans_doc = join_translated_paragraphs(trans_text)\n",
    "    return trans_doc"
   ]
  },
  {
   "cell_type": "code",
   "execution_count": null,
   "id": "440b1711-1bdf-4549-8d9a-c02cf05778f9",
   "metadata": {},
   "outputs": [],
   "source": [
    "#Create a subset for non-english texts to be translated\n",
    "lang_exclude = ['en', 'unknown']\n",
    "\n",
    "df_non_en = df[~df['language'].isin(lang_exclude)]"
   ]
  },
  {
   "cell_type": "code",
   "execution_count": null,
   "id": "5c58e6ab-5058-478e-b4a5-a0cc5baa69ca",
   "metadata": {},
   "outputs": [],
   "source": [
    "df_non_en['text_clean'] = df_non_en['text_clean'].progress_apply(lambda x: text_translation(x))"
   ]
  },
  {
   "cell_type": "code",
   "execution_count": null,
   "id": "bc8e1cd3-33cd-4087-9500-4502e33f18a0",
   "metadata": {},
   "outputs": [],
   "source": [
    "#Filter english texts\n",
    "df_en = df[df['language'] == 'en']\n",
    "\n",
    "#Concat english and non-english texts\n",
    "final_df = pd.concat([df_en, df_non_en], ignore_index=True)"
   ]
  },
  {
   "cell_type": "markdown",
   "id": "bf63c4f3-79b0-4f5d-8e6d-9d09ed603f07",
   "metadata": {
    "jp-MarkdownHeadingCollapsed": true,
    "tags": []
   },
   "source": [
    "### Please start here: Download preprocessed data here:\n",
    "https://drive.google.com/file/d/1Ppgcqob9UYaoaWJrw_mSC49IV9W4eHDt/view?usp=sharing"
   ]
  },
  {
   "cell_type": "code",
   "execution_count": 346,
   "id": "8838c2d9-1bc7-40c1-8593-44e16e66dbe0",
   "metadata": {},
   "outputs": [],
   "source": [
    "# import dill\n",
    "dill.load_session('notebook_env.db')"
   ]
  },
  {
   "cell_type": "code",
   "execution_count": 304,
   "id": "3550efff-8c30-44f4-9b4a-a5f79478bca1",
   "metadata": {},
   "outputs": [],
   "source": [
    "final_df = pd.read_csv('final_df_translated.csv')"
   ]
  },
  {
   "cell_type": "code",
   "execution_count": 305,
   "id": "72b3d0f1-188c-4d3e-8951-9af95d3a2046",
   "metadata": {},
   "outputs": [],
   "source": [
    "#Part 2 of Data Cleaning Process\n",
    "#This function converts parts of speech tags to wordnet’s format\n",
    "def get_wordnet_pos(tag):\n",
    "    if tag.startswith('J'):\n",
    "        return wordnet.ADJ\n",
    "    elif tag.startswith('V'):\n",
    "        return wordnet.VERB\n",
    "    elif tag.startswith('N'):\n",
    "        return wordnet.NOUN\n",
    "    elif tag.startswith('R'):\n",
    "        return wordnet.ADV\n",
    "    else:\n",
    "        return wordnet.NOUN"
   ]
  },
  {
   "cell_type": "code",
   "execution_count": 306,
   "id": "40b98006-a45e-4722-bf88-06eb4d84e6fb",
   "metadata": {},
   "outputs": [],
   "source": [
    "#This function further preprocess data to prepare for modeling\n",
    "\n",
    "stop = stopwords.words('english')\n",
    "stop.extend(['akin', 'natin', 'wala', 'pala', 'well', 'aking', 'ako', 'alin', 'am', 'amin', 'aming', 'ang', 'ano', 'anumang', 'apat', 'at', 'atin', 'ating', 'ay', 'bababa', 'bago', 'bakit', 'bawat', 'bilang', 'dahil', 'dalawa', 'dapat', 'din', 'dito', 'doon', 'gagawin', 'gayunman', 'ginagawa', 'ginawa', 'ginawang', 'gumawa', 'gusto', 'habang', 'hanggang', 'hindi', 'huwag', 'iba', 'ibaba', 'ibabaw', 'ibig', 'ikaw', 'ilagay', 'ilalim', 'ilan', 'inyong', 'isa', 'isang', 'itaas', 'ito', 'iyo', 'iyon', 'iyong', 'ka', 'kahit', 'kailangan', 'kailanman', 'kami', 'kanila', 'kanilang', 'kanino', 'kanya', 'kanyang', 'kapag', 'kapwa', 'karamihan', 'katiyakan', 'katulad', 'kaya', 'kaysa', 'ko', 'kong', 'kulang', 'kumuha', 'kung', 'laban', 'lahat', 'lamang', 'likod', 'lima', 'maaari', 'maaaring', 'maging', 'mahusay', 'makita', 'marami', 'marapat', 'masyado', 'may', 'mayroon', 'mga', 'minsan', 'mismo', 'mula', 'muli', 'na', 'nabanggit', 'naging', 'nagkaroon', 'nais', 'nakita', 'namin', 'napaka', 'narito', 'nasaan', 'ng', 'ngayon', 'ni', 'nila', 'nilang', 'nito', 'niya', 'niyang', 'noon', 'o', 'pa', 'paano', 'pababa', 'paggawa', 'pagitan', 'pagkakaroon', 'pagkatapos', 'palabas', 'pamamagitan', 'panahon', 'pangalawa', 'para', 'paraan', 'pareho', 'pataas', 'pero', 'pumunta', 'pumupunta', 'sa', 'saan', 'sabi', 'sabihin', 'sarili', 'sila', 'sino', 'siya', 'tatlo', 'tayo', 'tulad', 'tungkol', 'una', 'walang', 'ba', 'eh', 'kasi', 'lang', 'mo', 'naman', 'opo', 'po', 'si', 'talaga', 'yung'])\n",
    "w_tokenizer = nltk.tokenize.WhitespaceTokenizer()\n",
    "lemmatizer = nltk.stem.WordNetLemmatizer()\n",
    "\n",
    "def text_preprocessing(doc):\n",
    "    clean_text = str(doc).lower()      #Lowercase\n",
    "    clean_text = contractions.fix(clean_text)     #fixes contractions\n",
    "    clean_text = re.sub(r'\\n{1,}', ' ', clean_text)     #remove newline characters\n",
    "    clean_text = re.sub(r'[^\\w\\s]', '',clean_text)      #remove punctuations\n",
    "    clean_text = re.sub(' +', ' ', clean_text)          #remove extra whitespace\n",
    "    clean_text = re.sub(r'(^|\\s)press release.*?clickbacktrue($|\\s)', ' ',clean_text)  #remove Senate News Intro\n",
    "    clean_text = ' '.join([word for word in clean_text.split() if word not in (stop)])  #removes stopwords\n",
    "    clean_text = re.sub(r'\\b(\\w{1,3})\\b', '', clean_text)\n",
    "    tokenized_text = w_tokenizer.tokenize(clean_text)      #tokenizes text\n",
    "    pos_tag_text = nltk.tag.pos_tag(tokenized_text)  #pos tagging text\n",
    "    wordnet_pos = [(word, get_wordnet_pos(pos_tag)) for (word, pos_tag) in pos_tag_text]   #converts pos to wordnet format\n",
    "    lemmatized_text = [lemmatizer.lemmatize(word, tag) for word, tag in wordnet_pos]      #lemmatizes text\n",
    "    return lemmatized_text"
   ]
  },
  {
   "cell_type": "code",
   "execution_count": 307,
   "id": "08e31fd3-949f-4510-9ba2-a6766136a313",
   "metadata": {},
   "outputs": [
    {
     "data": {
      "application/vnd.jupyter.widget-view+json": {
       "model_id": "fd8b6078435b4ac3899b04033d724f1b",
       "version_major": 2,
       "version_minor": 0
      },
      "text/plain": [
       "  0%|          | 0/199507 [00:00<?, ?it/s]"
      ]
     },
     "metadata": {},
     "output_type": "display_data"
    }
   ],
   "source": [
    "final_df['lemma_text'] = final_df['text_clean'].progress_apply(lambda x: str(text_preprocessing(x)))"
   ]
  },
  {
   "cell_type": "code",
   "execution_count": 308,
   "id": "ef781dab-00e1-4f48-8bb8-dbcd16e9fbed",
   "metadata": {},
   "outputs": [],
   "source": [
    "final_df['lemma_text_unlist'] = final_df.lemma_text.astype(str).str.replace('\\[|\\]|\\'|\\,', '')"
   ]
  },
  {
   "cell_type": "code",
   "execution_count": null,
   "id": "61b077f2-8215-4b1d-aa60-360187b79efa",
   "metadata": {},
   "outputs": [],
   "source": [
    "#Feature Extraction\n",
    "final_df['word_count'] = final_df['content'].str.split().str.len()\n",
    "final_df['char_count'] = final_df['content'].str.len()"
   ]
  },
  {
   "cell_type": "code",
   "execution_count": null,
   "id": "efd7bd0f-5137-414a-9725-e8632128a581",
   "metadata": {},
   "outputs": [],
   "source": [
    "#Word count distribution\n",
    "sns.distplot(final_df['word_count'], color=\"r\")"
   ]
  },
  {
   "cell_type": "code",
   "execution_count": null,
   "id": "7644d456-d1e4-4ae4-a483-1ad1afe18259",
   "metadata": {},
   "outputs": [],
   "source": [
    "#Character count distribution\n",
    "sns.distplot(final_df['char_count'], color=\"r\")"
   ]
  },
  {
   "cell_type": "code",
   "execution_count": null,
   "id": "6a08dde7-e967-48f6-a26f-6ea58ddead39",
   "metadata": {},
   "outputs": [],
   "source": [
    "#Source frequency\n",
    "plt.figure(figsize=(10,5))\n",
    "plt.xticks(rotation=90)\n",
    "ax = sns.countplot(x='source', data=final_df, order = final_df['source'].value_counts().index)"
   ]
  },
  {
   "cell_type": "code",
   "execution_count": null,
   "id": "f0cb159b-231c-4cdb-bc1f-40c87271875c",
   "metadata": {},
   "outputs": [],
   "source": [
    "plt.figure(figsize=(12,5))\n",
    "plt.xticks(rotation=90)\n",
    "ax = sns.countplot(x='candidate', data=final_df, order = final_df['candidate'].value_counts().index)"
   ]
  },
  {
   "cell_type": "code",
   "execution_count": null,
   "id": "7c958a40-8c23-4b71-aef4-e99d2f07dd1e",
   "metadata": {},
   "outputs": [],
   "source": [
    "#Sentiment Analysis\n",
    "sid = SentimentIntensityAnalyzer()\n",
    "\n",
    "final_df['sid_score'] = final_df['text_clean'].progress_apply(lambda x: sid.polarity_scores(str(x)))"
   ]
  },
  {
   "cell_type": "code",
   "execution_count": null,
   "id": "5c7f2814-6d69-4c9a-a9ba-be9b3e4e0586",
   "metadata": {},
   "outputs": [],
   "source": [
    "final_df['sid_compound'] = final_df['sid_score'].progress_apply(lambda score_dict: score_dict['compound'])\n",
    "# df_en.head(20)"
   ]
  },
  {
   "cell_type": "code",
   "execution_count": null,
   "id": "ea742a55-2593-42cc-ae27-9ca833ecc22d",
   "metadata": {},
   "outputs": [],
   "source": [
    "final_df.to_csv('final_df_sentiment.csv')"
   ]
  },
  {
   "cell_type": "code",
   "execution_count": null,
   "id": "f31152fd-32a1-43eb-85e7-ab7e74cd7139",
   "metadata": {},
   "outputs": [],
   "source": [
    "def sentiment_score(sid):\n",
    "    if sid >= 0.5:\n",
    "        return 'Positive'\n",
    "    elif sid >= -0.5 and sid <= 0.5:\n",
    "        return 'Neutral'\n",
    "    else:\n",
    "        return 'Negative'\n",
    "\n",
    "final_df['sentiment'] = final_df['sid_compound'].apply(lambda x: sentiment_score(x))"
   ]
  },
  {
   "cell_type": "code",
   "execution_count": null,
   "id": "56b34ba7-38e7-4ff5-8f84-1a5525cdffb1",
   "metadata": {},
   "outputs": [],
   "source": [
    "plt.figure(figsize=(12,5))\n",
    "plt.xticks(rotation=90)\n",
    "ax = sns.countplot(x='sentiment', data=final_df, order = final_df['sentiment'].value_counts().index)"
   ]
  },
  {
   "cell_type": "markdown",
   "id": "9f255671-f3aa-4ae7-8150-d7479f53ab16",
   "metadata": {
    "tags": []
   },
   "source": [
    "### Checkpoint: Identifying Bigrams and Trigrams"
   ]
  },
  {
   "cell_type": "code",
   "execution_count": 309,
   "id": "e60e7040-d15d-43d4-ba21-39f16a6cdd64",
   "metadata": {},
   "outputs": [],
   "source": [
    "#Identifying bigrams\n",
    "bigram_measures = nltk.collocations.BigramAssocMeasures()\n",
    "finder = nltk.collocations.BigramCollocationFinder.from_documents([content.split() for content in final_df.lemma_text_unlist])\n",
    "# Filter only those that occur at least 50 times\n",
    "finder.apply_freq_filter(100)\n",
    "bigram_scores = finder.score_ngrams(bigram_measures.pmi)"
   ]
  },
  {
   "cell_type": "code",
   "execution_count": 310,
   "id": "b7fc76cd-c7b6-43dc-8e6f-4b63ef50271b",
   "metadata": {},
   "outputs": [],
   "source": [
    "#Identifying Trigrams\n",
    "trigram_measures = nltk.collocations.TrigramAssocMeasures()\n",
    "finder = nltk.collocations.TrigramCollocationFinder.from_documents([content.split() for content in final_df.lemma_text_unlist])\n",
    "# Filter only those that occur at least 50 times\n",
    "finder.apply_freq_filter(100)\n",
    "trigram_scores = finder.score_ngrams(trigram_measures.pmi)\n",
    "# trigram_scores"
   ]
  },
  {
   "cell_type": "code",
   "execution_count": 311,
   "id": "23b96a20-7915-4727-bcb9-50fae279f16a",
   "metadata": {},
   "outputs": [],
   "source": [
    "bigram_pmi = pd.DataFrame(bigram_scores)\n",
    "bigram_pmi.columns = ['bigram', 'pmi']\n",
    "bigram_pmi.sort_values(by='pmi', axis = 0, ascending = False, inplace = True)\n",
    "# bigram_pmi"
   ]
  },
  {
   "cell_type": "code",
   "execution_count": 312,
   "id": "ed19cd7e-d0ef-4d0e-b070-711c374f7533",
   "metadata": {},
   "outputs": [],
   "source": [
    "trigram_pmi.to_csv('trigrams.csv')"
   ]
  },
  {
   "cell_type": "code",
   "execution_count": 313,
   "id": "7f1d7888-40ea-4786-b73e-a4e66f0928e3",
   "metadata": {},
   "outputs": [],
   "source": [
    "trigram_pmi = pd.DataFrame(trigram_scores)\n",
    "trigram_pmi.columns = ['trigram', 'pmi']\n",
    "trigram_pmi.sort_values(by='pmi', axis = 0, ascending = False, inplace = True)\n",
    "# trigram_pmi"
   ]
  },
  {
   "cell_type": "code",
   "execution_count": 314,
   "id": "0b7df159-2c46-4fdd-94a4-02dafce30d96",
   "metadata": {},
   "outputs": [],
   "source": [
    "# Filter for bigrams with only noun-type structures\n",
    "def bigram_filter(bigram):\n",
    "    tag = nltk.pos_tag(bigram)\n",
    "    if tag[0][1] not in ['JJ', 'NN'] and tag[1][1] not in ['NN']:\n",
    "        return False\n",
    "    if 'n' in bigram or 't' in bigram:\n",
    "        return False\n",
    "    if 'PRON' in bigram:\n",
    "        return False\n",
    "    return True"
   ]
  },
  {
   "cell_type": "code",
   "execution_count": 315,
   "id": "1e012d8a-2938-4928-97e1-78aedc15537e",
   "metadata": {},
   "outputs": [],
   "source": [
    "# Filter for trigrams with only noun-type structures\n",
    "def trigram_filter(trigram):\n",
    "    tag = nltk.pos_tag(trigram)\n",
    "    if tag[0][1] not in ['JJ', 'NN'] and tag[1][1] not in ['JJ','NN']:\n",
    "        return False\n",
    "    if 'n' in trigram or 't' in trigram:\n",
    "         return False\n",
    "    if 'PRON' in trigram:\n",
    "        return False\n",
    "    return True "
   ]
  },
  {
   "cell_type": "code",
   "execution_count": 316,
   "id": "504ba91a-8557-466b-b5d8-16fff628a8d3",
   "metadata": {},
   "outputs": [],
   "source": [
    "# Can set pmi threshold to whatever makes sense - eyeball through and select threshold where n-grams stop making sense\n",
    "# choose top 500 ngrams in this case ranked by PMI that have noun like structures\n",
    "filtered_bigram = bigram_pmi[bigram_pmi.apply(lambda bigram:\\\n",
    "                                              bigram_filter(bigram['bigram'])\\\n",
    "                                              and bigram.pmi > 5, axis = 1)][:500]\n",
    "\n",
    "filtered_trigram = trigram_pmi[trigram_pmi.apply(lambda trigram: \\\n",
    "                                                 trigram_filter(trigram['trigram'])\\\n",
    "                                                 and trigram.pmi > 5, axis = 1)][:500]\n",
    "\n",
    "\n",
    "bigrams = [' '.join(x) for x in filtered_bigram.bigram.values if len(x[0]) > 2 or len(x[1]) > 2]\n",
    "trigrams = [' '.join(x) for x in filtered_trigram.trigram.values if len(x[0]) > 2 or len(x[1]) > 2 and len(x[2]) > 2]"
   ]
  },
  {
   "cell_type": "code",
   "execution_count": 317,
   "id": "194d6057-ecbd-44f5-8062-20eae799b190",
   "metadata": {},
   "outputs": [],
   "source": [
    "# Concatenate n-grams\n",
    "def replace_ngram(x):\n",
    "    for gram in trigrams:\n",
    "        x = x.replace(gram, '_'.join(gram.split()))\n",
    "    for gram in bigrams:\n",
    "        x = x.replace(gram, '_'.join(gram.split()))\n",
    "    return x"
   ]
  },
  {
   "cell_type": "code",
   "execution_count": 318,
   "id": "b500577c-0140-46d6-85b6-95b986c31df7",
   "metadata": {},
   "outputs": [],
   "source": [
    "final_df['lemma_ngram'] = final_df['lemma_text_unlist'].map(lambda x: replace_ngram(x))\n",
    "# df_en['lemma_ngram']"
   ]
  },
  {
   "cell_type": "code",
   "execution_count": 368,
   "id": "918f0c2f-9ce9-43c8-9e69-302b07abc9da",
   "metadata": {},
   "outputs": [],
   "source": [
    "#Filter for only nouns¶\n",
    "#Nouns are most likely indicators of a topic. For example, for the sentence ‘The store is nice’, we know the sentence is talking about ‘store’. The other words in the sentence provide more context and explanation about the topic (‘store’) itself. Therefore, filtering for the noun cleans the text for words that are more interpretable in the topic model.\n",
    "\n",
    "# Filter for only nouns\n",
    "def noun_only(x):\n",
    "    pos_comment = nltk.pos_tag(x)\n",
    "    filtered = [word[0] for word in pos_comment if word[1] in ['NN']]\n",
    "    # to filter both noun and verbs\n",
    "    #filtered = [word[0] for word in pos_comment if word[1] in ['NN','VB', 'VBD', 'VBG', 'VBN', 'VBZ']]\n",
    "    return filtered"
   ]
  },
  {
   "cell_type": "code",
   "execution_count": 320,
   "id": "9c3b8641-519b-4cdf-bc9e-56d3b6f1bf37",
   "metadata": {},
   "outputs": [],
   "source": [
    "final_df['lemma_noun'] = final_df['lemma_ngram'].apply(lambda row: nltk.word_tokenize(row))\n",
    "final_df = final_df['lemma_noun'].map(noun_only)"
   ]
  },
  {
   "cell_type": "markdown",
   "id": "057f168e-f1fd-4582-9f96-5188c8c0e33c",
   "metadata": {},
   "source": [
    "### Topic Modeling - Presidential Candidate"
   ]
  },
  {
   "cell_type": "code",
   "execution_count": 376,
   "id": "f48e83b8-e3e3-44b2-a57c-6521059e371c",
   "metadata": {},
   "outputs": [],
   "source": [
    "pres = ['Antonio Parlade Jr.', 'Ferdinand Marcos Jr.', 'Francisco Moreno Domagoso', 'Leni Robredo', 'Leody de Guzman', 'Manny Pacquiao', 'Norberto B. Gonzales', 'Panfilo Lacson']"
   ]
  },
  {
   "cell_type": "code",
   "execution_count": 378,
   "id": "e661e5f0-8cee-418b-a2fb-db219a545d5c",
   "metadata": {},
   "outputs": [],
   "source": [
    "def get_candidate_data(pres_list, df=final_df):\n",
    "  df_list = {}\n",
    "  for candidate in pres_list:\n",
    "    candidate_df = final_df[final_df.candidate == candidate]\n",
    "    candidate_df = candidate_df.reset_index(drop=True)\n",
    "    df_list[candidate] = candidate_df\n",
    "  return df_list"
   ]
  },
  {
   "cell_type": "code",
   "execution_count": 385,
   "id": "0972c145-f7f9-4a86-b97f-6fbaa67596d3",
   "metadata": {},
   "outputs": [],
   "source": [
    "candidate_data = get_candidate_data(pres)\n",
    "\n",
    "parlade_df = candidate_data['Antonio Parlade Jr.'].lemma_noun.map(noun_only)\n",
    "marcos_df = candidate_data['Ferdinand Marcos Jr.'].lemma_noun.map(noun_only)\n",
    "moreno_df = candidate_data['Francisco Moreno Domagoso'].lemma_noun.map(noun_only)\n",
    "robredo_df = candidate_data['Leni Robredo'].lemma_noun.map(noun_only)\n",
    "deguzman_df = candidate_data['Leody de Guzman'].lemma_noun.map(noun_only)\n",
    "pacquiao_df = candidate_data['Manny Pacquiao'].lemma_noun.map(noun_only)\n",
    "gonzales_df = candidate_data['Norberto B. Gonzales'].lemma_noun.map(noun_only)\n",
    "lacson_df = candidate_data['Panfilo Lacson'].lemma_noun.map(noun_only)"
   ]
  },
  {
   "cell_type": "code",
   "execution_count": 380,
   "id": "c2af5a39-20c8-43d7-b44b-d05cc97b6318",
   "metadata": {},
   "outputs": [],
   "source": [
    "def create_dict_corpus(texts):\n",
    "  dictionary = corpora.Dictionary(texts)\n",
    "  dictionary.filter_extremes(no_below=5, no_above=0.5)\n",
    "  corpus = [dictionary.doc2bow(text) for text in texts]\n",
    "  return dictionary, corpus"
   ]
  },
  {
   "cell_type": "code",
   "execution_count": 390,
   "id": "47e34200-b4bd-4798-b17a-400ce7d0867b",
   "metadata": {},
   "outputs": [],
   "source": [
    "parlade_dict, parlade_corpus = create_dict_corpus(parlade_df)\n",
    "marcos_dict, marcos_corpus = create_dict_corpus(marcos_df)\n",
    "moreno_dict, moreno_corpus = create_dict_corpus(moreno_df)\n",
    "robredo_dict, robredo_corpus = create_dict_corpus(robredo_df)\n",
    "deguzman_dict, deguzman_corpus = create_dict_corpus(deguzman_df)\n",
    "pacquiao_dict, pacquiao_corpus = create_dict_corpus(pacquiao_df)\n",
    "gonzales_dict, gonzales_corpus = create_dict_corpus(gonzales_df)\n",
    "lacson_dict, lacson_corpus = create_dict_corpus(lacson_df)"
   ]
  },
  {
   "cell_type": "code",
   "execution_count": 404,
   "id": "078ef0fa-b77c-455c-975d-e24e68850d39",
   "metadata": {},
   "outputs": [],
   "source": [
    "Lda = gensim.models.ldamodel.LdaModel\n",
    "\n",
    "\n",
    "def compute_coherence_values(dictionary, corpus, texts, start, limit, step):\n",
    "    coherence_values = []\n",
    "    model_list = []\n",
    "    for num_topics in range(start, limit, step):\n",
    "        model = Lda(corpus, num_topics=num_topics, id2word=dictionary, passes=40, iterations=500,  chunksize =500, eval_every=None, random_state=123)\n",
    "        model_list.append(model)\n",
    "        coherencemodel = CoherenceModel(model=model, texts=texts, dictionary=dictionary, coherence='c_v')\n",
    "        coherence_values.append(coherencemodel.get_coherence())\n",
    "    return model_list, coherence_values"
   ]
  },
  {
   "cell_type": "code",
   "execution_count": 408,
   "id": "2b065671-48c3-49b3-8433-cc180ae39a2e",
   "metadata": {},
   "outputs": [],
   "source": [
    "# Can take a long time to run.\n",
    "\n",
    "parlade_model_list, parlade_coherence_values = compute_coherence_values(dictionary=parlade_dict, corpus=parlade_corpus, texts=parlade_df, start=3, limit=10, step=1)\n",
    "marcos_model_list, marcos_coherence_values = compute_coherence_values(dictionary=marcos_dict, corpus=marcos_corpus, texts=marcos_df, start=3, limit=10, step=1)\n",
    "moreno_model_list, moreno_coherence_values = compute_coherence_values(dictionary=moreno_dict, corpus=moreno_corpus, texts=moreno_df, start=3, limit=10, step=1)\n",
    "robredo_model_list, robredo_coherence_values = compute_coherence_values(dictionary=robredo_dict, corpus=robredo_corpus, texts=robredo_df, start=3, limit=10, step=1)\n",
    "deguzman_model_list, deguzman_coherence_values = compute_coherence_values(dictionary=deguzman_dict, corpus=deguzman_corpus, texts=deguzman_df, start=3, limit=10, step=1)\n",
    "pacquiao_model_list, pacquiao_coherence_values = compute_coherence_values(dictionary=pacquiao_dict, corpus=pacquiao_corpus, texts=pacquiao_df, start=3, limit=10, step=1)\n",
    "gonzales_model_list, gonzales_coherence_values = compute_coherence_values(dictionary=gonzales_dict, corpus=gonzales_corpus, texts=gonzales_df, start=3, limit=10, step=1)\n",
    "lacson_model_list, lacson_coherence_values = compute_coherence_values(dictionary=lacson_dict, corpus=lacson_corpus, texts=lacson_df, start=3, limit=10, step=1)"
   ]
  },
  {
   "cell_type": "code",
   "execution_count": 410,
   "id": "e3cee7b0-05a6-440e-857a-f00140cf3bf4",
   "metadata": {},
   "outputs": [
    {
     "data": {
      "image/png": "[encoded data removed]",
      "text/plain": [
       "<Figure size 1224x720 with 8 Axes>"
      ]
     },
     "metadata": {
      "needs_background": "light"
     },
     "output_type": "display_data"
    }
   ],
   "source": [
    "limit=10; start=3; step=1;\n",
    "\n",
    "pres_names = ['parlade', 'marcos', 'moreno', 'robredo', 'deguzman', 'pacquiao', 'gonzales', 'lacson']\n",
    "pres_coherence_scores = [parlade_coherence_values, marcos_coherence_values, moreno_coherence_values, robredo_coherence_values, \n",
    "                         deguzman_coherence_values, pacquiao_coherence_values, gonzales_coherence_values, lacson_coherence_values]\n",
    "\n",
    "num_topics = range(start, limit, step)\n",
    "\n",
    "plt.rcParams['figure.figsize'] = [17, 10]\n",
    "\n",
    "for i in range(len(pres_names)):\n",
    "  plt.subplot(2, 4, i+1)\n",
    "  plt.plot(num_topics, pres_coherence_scores[i])\n",
    "  plt.xlabel(\"Num Topics\")\n",
    "  plt.ylabel(\"Coherence score\")\n",
    "  plt.legend((\"coherence_values\"), loc='best')\n",
    "  plt.title(pres_names[i])\n",
    "plt.show()"
   ]
  },
  {
   "cell_type": "code",
   "execution_count": 411,
   "id": "3aa6a0cd-f018-4b70-be7b-5c474795c756",
   "metadata": {},
   "outputs": [],
   "source": [
    "parlade_best_model = parlade_model_list[2]\n",
    "marcos_best_model = marcos_model_list[2]\n",
    "moreno_best_model = moreno_model_list[3]\n",
    "robredo_best_model = robredo_model_list[3]\n",
    "deguzman_best_model = deguzman_model_list[2]\n",
    "pacquiao_best_model = pacquiao_model_list[2]\n",
    "gonzales_best_model = gonzales_model_list[0]\n",
    "lacson_best_model = lacson_model_list[1]"
   ]
  },
  {
   "cell_type": "code",
   "execution_count": 416,
   "id": "edbc3782-ae31-47d7-8ca1-ee358ea401eb",
   "metadata": {},
   "outputs": [],
   "source": [
    "# import pickle\n",
    "import pickle\n",
    "\n",
    "def save_model(model, model_name):\n",
    "  pickle.dump(model, open(f\"lda_models/{model_name}.pkl\", \"wb\"))\n",
    "\n",
    "def load_model(model_name):\n",
    "  model = pickle.load(open(f\"lda_models/{model_name}.pkl\", \"rb\"))\n",
    "  return model"
   ]
  },
  {
   "cell_type": "code",
   "execution_count": 417,
   "id": "750a48bd-be0c-492e-87fa-29051484e091",
   "metadata": {},
   "outputs": [],
   "source": [
    "candidate_best_models = [parlade_best_model, marcos_best_model, moreno_best_model, robredo_best_model, deguzman_best_model, pacquiao_best_model, gonzales_best_model, lacson_best_model]\n",
    "pres_candidate_models = dict(zip(pres_names, candidate_best_models))\n",
    "\n",
    "for candidate_name, candidate_model in pres_candidate_models.items():\n",
    "  save_model(candidate_model, candidate_name)"
   ]
  },
  {
   "cell_type": "code",
   "execution_count": 418,
   "id": "4ff6a6a7-50a7-42e6-8182-2df195c39886",
   "metadata": {},
   "outputs": [
    {
     "data": {
      "text/plain": [
       "[<gensim.models.ldamodel.LdaModel at 0x7fd7bd9d6ed0>,\n",
       " <gensim.models.ldamodel.LdaModel at 0x7fd779b35dd0>,\n",
       " <gensim.models.ldamodel.LdaModel at 0x7fd73ce5b2d0>,\n",
       " <gensim.models.ldamodel.LdaModel at 0x7fd7de65ccd0>,\n",
       " <gensim.models.ldamodel.LdaModel at 0x7fd7379bbf10>,\n",
       " <gensim.models.ldamodel.LdaModel at 0x7fd757ec5a90>,\n",
       " <gensim.models.ldamodel.LdaModel at 0x7fd757ec5410>,\n",
       " <gensim.models.ldamodel.LdaModel at 0x7fd757ecdf10>]"
      ]
     },
     "execution_count": 418,
     "metadata": {},
     "output_type": "execute_result"
    }
   ],
   "source": [
    "candidate_models = []\n",
    "pres_names = ['parlade', 'marcos', 'moreno', 'robredo', 'deguzman', 'pacquiao', 'gonzales', 'lacson']\n",
    "\n",
    "for candidate_name in pres_names:\n",
    "  candidate_model = load_model(candidate_name)\n",
    "  candidate_models.append(candidate_model)\n",
    "candidate_models"
   ]
  },
  {
   "cell_type": "code",
   "execution_count": 419,
   "id": "6c3931a5-8a53-4edd-a700-429cb27e2e3f",
   "metadata": {},
   "outputs": [],
   "source": [
    "def display_topics(model):\n",
    "  topics = [[(term, round(wt, 3)) for term, wt in model.show_topic(n, topn=15)] for n in range(0, model.num_topics)]\n",
    "  \n",
    "  # set column width\n",
    "  pd.set_option('display.max_colwidth', -1)\n",
    "  topics_df = pd.DataFrame([', '.join([term for term, wt in topic]) for topic in topics], columns = ['Words per Topic'], index=['Topic_'+str(t) for t in range(1, model.num_topics+1)] )\n",
    "  return topics_df"
   ]
  },
  {
   "cell_type": "code",
   "execution_count": 420,
   "id": "6ce91eee-73cf-4e7d-b693-f7b7cd05bbb7",
   "metadata": {},
   "outputs": [],
   "source": [
    "parlade_df_topic = display_topics(parlade_best_model)\n",
    "marcos_df_topic = display_topics(marcos_best_model)\n",
    "moreno_df_topic = display_topics(moreno_best_model)\n",
    "robredo_df_topic = display_topics(robredo_best_model)\n",
    "deguzman_df_topic = display_topics(deguzman_best_model)\n",
    "pacquiao_df_topic = display_topics(pacquiao_best_model)\n",
    "gonzales_df_topic = display_topics(gonzales_best_model)\n",
    "lacson_df_topic = display_topics(lacson_best_model)"
   ]
  },
  {
   "cell_type": "code",
   "execution_count": 421,
   "id": "3f1c2b6c-110a-45b5-9de9-974f0f5cd21e",
   "metadata": {},
   "outputs": [],
   "source": [
    "def display_wordcloud(df_topic, rows, cols, fig_size):\n",
    "\n",
    "  # initiate wordcloud object\n",
    "  wc = WordCloud(background_color=\"white\", colormap=\"Dark2\", max_font_size=150, random_state=42)\n",
    "\n",
    "  # set the figure size\n",
    "  plt.rcParams['figure.figsize'] = fig_size\n",
    "\n",
    "  # Create subplots for each topic\n",
    "  for i in range(df_topic.shape[0]):\n",
    "\n",
    "      wc.generate(text=df_topic[\"Words per Topic\"][i])\n",
    "      \n",
    "      plt.subplot(rows, cols, i+1)\n",
    "      plt.imshow(wc, interpolation=\"bilinear\")\n",
    "      plt.axis(\"off\")\n",
    "      plt.title(df_topic.index[i])\n",
    "\n",
    "  plt.show()"
   ]
  },
  {
   "cell_type": "code",
   "execution_count": 422,
   "id": "740ab17e-888a-4d15-8c21-2674fe1097e0",
   "metadata": {},
   "outputs": [
    {
     "data": {
      "image/png": "[encoded data removed]",
      "text/plain": [
       "<Figure size 1440x720 with 5 Axes>"
      ]
     },
     "metadata": {
      "needs_background": "light"
     },
     "output_type": "display_data"
    }
   ],
   "source": [
    "display_wordcloud(parlade_df_topic, 1, 5, [20,10])"
   ]
  },
  {
   "cell_type": "code",
   "execution_count": 423,
   "id": "304bdcd7-486e-4c6b-bf10-67d1fb2834fa",
   "metadata": {},
   "outputs": [],
   "source": [
    "parlade_model = load_model('parlade')\n",
    "marcos_model = load_model('marcos')\n",
    "moreno_model = load_model('moreno')\n",
    "robredo_model = load_model('robredo')\n",
    "deguzman_model = load_model('deguzman')\n",
    "pacquiao_model = load_model('pacquiao')\n",
    "gonzales_model = load_model('gonzales')\n",
    "lacson_model = load_model('lacson')"
   ]
  },
  {
   "cell_type": "code",
   "execution_count": 425,
   "id": "38bd41fb-7eb4-464a-a34b-afffe0324b88",
   "metadata": {},
   "outputs": [],
   "source": [
    "parlade_viz = gensimvis.prepare(parlade_model, parlade_corpus, parlade_dict)\n",
    "marcos_viz = gensimvis.prepare(marcos_model, marcos_corpus, marcos_dict)\n",
    "moreno_viz = gensimvis.prepare(moreno_model, moreno_corpus, moreno_dict)\n",
    "robredo_viz = gensimvis.prepare(robredo_model, robredo_corpus, robredo_dict)\n",
    "deguzman_viz = gensimvis.prepare(deguzman_model, deguzman_corpus, deguzman_dict)\n",
    "pacquiao_viz = gensimvis.prepare(pacquiao_model, pacquiao_corpus, pacquiao_dict)\n",
    "gonzales_viz = gensimvis.prepare(gonzales_model, gonzales_corpus, gonzales_dict)\n",
    "lacson_viz = gensimvis.prepare(lacson_model, lacson_corpus, lacson_dict)"
   ]
  },
  {
   "cell_type": "code",
   "execution_count": 427,
   "id": "70db5a24-a9bd-495e-9f4e-6dd55ff0bf93",
   "metadata": {},
   "outputs": [
    {
     "name": "stderr",
     "output_type": "stream",
     "text": [
      "/opt/conda/lib/python3.7/site-packages/past/builtins/misc.py:45: DeprecationWarning: the imp module is deprecated in favour of importlib; see the module's documentation for alternative uses\n",
      "  from imp import reload\n",
      "/opt/conda/lib/python3.7/site-packages/past/builtins/misc.py:45: DeprecationWarning: the imp module is deprecated in favour of importlib; see the module's documentation for alternative uses\n",
      "  from imp import reload\n",
      "/opt/conda/lib/python3.7/site-packages/past/builtins/misc.py:45: DeprecationWarning: the imp module is deprecated in favour of importlib; see the module's documentation for alternative uses\n",
      "  from imp import reload\n",
      "/opt/conda/lib/python3.7/site-packages/past/builtins/misc.py:45: DeprecationWarning: the imp module is deprecated in favour of importlib; see the module's documentation for alternative uses\n",
      "  from imp import reload\n",
      "/opt/conda/lib/python3.7/site-packages/past/builtins/misc.py:45: DeprecationWarning: the imp module is deprecated in favour of importlib; see the module's documentation for alternative uses\n",
      "  from imp import reload\n",
      "/opt/conda/lib/python3.7/site-packages/past/builtins/misc.py:45: DeprecationWarning: the imp module is deprecated in favour of importlib; see the module's documentation for alternative uses\n",
      "  from imp import reload\n",
      "/opt/conda/lib/python3.7/site-packages/past/builtins/misc.py:45: DeprecationWarning: the imp module is deprecated in favour of importlib; see the module's documentation for alternative uses\n",
      "  from imp import reload\n",
      "/opt/conda/lib/python3.7/site-packages/past/builtins/misc.py:45: DeprecationWarning: the imp module is deprecated in favour of importlib; see the module's documentation for alternative uses\n",
      "  from imp import reload\n"
     ]
    }
   ],
   "source": [
    "parlade_html = pyLDAvis.prepared_data_to_html(parlade_viz)\n",
    "marcos_html = pyLDAvis.prepared_data_to_html(marcos_viz)\n",
    "moreno_html = pyLDAvis.prepared_data_to_html(moreno_viz)\n",
    "robredo_html = pyLDAvis.prepared_data_to_html(robredo_viz)\n",
    "deguzman_html = pyLDAvis.prepared_data_to_html(deguzman_viz)\n",
    "pacquiao_html = pyLDAvis.prepared_data_to_html(pacquiao_viz)\n",
    "gonzales_html = pyLDAvis.prepared_data_to_html(gonzales_viz)\n",
    "lacson_html = pyLDAvis.prepared_data_to_html(lacson_viz)"
   ]
  },
  {
   "cell_type": "code",
   "execution_count": null,
   "id": "36e39612-7828-42a0-8529-4af06f1368e7",
   "metadata": {},
   "outputs": [],
   "source": []
  },
  {
   "cell_type": "code",
   "execution_count": null,
   "id": "8db426e0-e524-4b6a-8c88-522c62ba4d89",
   "metadata": {},
   "outputs": [],
   "source": []
  },
  {
   "cell_type": "code",
   "execution_count": 393,
   "id": "01071ed6-5d7f-4be8-b512-67bb80c64d72",
   "metadata": {},
   "outputs": [
    {
     "data": {
      "image/png": "[encoded data removed]",
      "text/plain": [
       "<Figure size 432x288 with 1 Axes>"
      ]
     },
     "metadata": {
      "needs_background": "light"
     },
     "output_type": "display_data"
    }
   ],
   "source": [
    "# Show graph\n",
    "limit=15; start=3; step=1;\n",
    "x = range(start, limit, step)\n",
    "plt.plot(x, coherence_values)\n",
    "plt.xlabel(\"Num Topics\")\n",
    "plt.ylabel(\"Coherence score\")\n",
    "plt.legend((\"coherence_values\"), loc='best')\n",
    "plt.show()"
   ]
  },
  {
   "cell_type": "code",
   "execution_count": 394,
   "id": "d931685f-cc98-48c3-94c3-083a7a90130e",
   "metadata": {},
   "outputs": [
    {
     "name": "stdout",
     "output_type": "stream",
     "text": [
      "Num Topics = 3  has Coherence Value of 0.4071\n",
      "Num Topics = 4  has Coherence Value of 0.4568\n",
      "Num Topics = 5  has Coherence Value of 0.4949\n",
      "Num Topics = 6  has Coherence Value of 0.4552\n",
      "Num Topics = 7  has Coherence Value of 0.4472\n",
      "Num Topics = 8  has Coherence Value of 0.461\n",
      "Num Topics = 9  has Coherence Value of 0.4735\n",
      "Num Topics = 10  has Coherence Value of 0.451\n",
      "Num Topics = 11  has Coherence Value of 0.4745\n",
      "Num Topics = 12  has Coherence Value of 0.4617\n",
      "Num Topics = 13  has Coherence Value of 0.4563\n",
      "Num Topics = 14  has Coherence Value of 0.4693\n"
     ]
    }
   ],
   "source": [
    "# Print the coherence scores\n",
    "for m, cv in zip(x, coherence_values):\n",
    "    print(\"Num Topics =\", m, \" has Coherence Value of\", round(cv, 4))"
   ]
  },
  {
   "cell_type": "code",
   "execution_count": 399,
   "id": "e70f20f1-6e8d-4e92-8660-4561e9944e8b",
   "metadata": {},
   "outputs": [
    {
     "name": "stdout",
     "output_type": "stream",
     "text": [
      "[(0,\n",
      "  '0.020*\"child\" + 0.020*\"member\" + 0.018*\"school\" + 0.016*\"medium\" + '\n",
      "  '0.015*\"year\" + 0.014*\"kill\" + 0.014*\"talk\" + 0.013*\"call\" + 0.013*\"time\" + '\n",
      "  '0.012*\"news\" + 0.012*\"elcac\" + 0.011*\"work\" + 0.011*\"philippinestar\" + '\n",
      "  '0.011*\"book\" + 0.010*\"ibon\" + 0.010*\"government\" + 0.010*\"teddycasino\" + '\n",
      "  '0.010*\"story\" + 0.009*\"share\" + 0.009*\"quismorio\"'),\n",
      " (1,\n",
      "  '0.045*\"president\" + 0.025*\"candidate\" + 0.022*\"senator\" + 0.019*\"vice\" + '\n",
      "  '0.017*\"election\" + 0.017*\"duterte\" + 0.016*\"substitution\" + 0.015*\"party\" + '\n",
      "  '0.011*\"substitute\" + 0.009*\"file\" + 0.009*\"marcos\" + 0.008*\"year\" + '\n",
      "  '0.008*\"poll\" + 0.008*\"group\" + 0.007*\"medium\" + 0.007*\"robredo\" + '\n",
      "  '0.007*\"member\" + 0.006*\"candidacy\" + 0.006*\"withdrawal\" + 0.006*\"talk\"'),\n",
      " (2,\n",
      "  '0.036*\"president\" + 0.029*\"decision\" + 0.023*\"parlade\" + 0.020*\"control\" + '\n",
      "  '0.015*\"statement\" + 0.015*\"duterte\" + 0.014*\"defense\" + 0.012*\"senator\" + '\n",
      "  '0.011*\"time\" + 0.011*\"retire\" + 0.010*\"claim\" + 0.009*\"army\" + '\n",
      "  '0.009*\"government\" + 0.008*\"organization\" + 0.008*\"spokesperson\" + '\n",
      "  '0.008*\"country\" + 0.008*\"filipino\" + 0.008*\"candidacy\" + 0.007*\"person\" + '\n",
      "  '0.007*\"year\"')]\n"
     ]
    }
   ],
   "source": [
    "from pprint import pprint\n",
    "# Select the model and print the topics\n",
    "optimal_model = model_list[0]\n",
    "model_topics = optimal_model.show_topics(formatted=False)\n",
    "pprint(optimal_model.print_topics(num_words=20))"
   ]
  },
  {
   "cell_type": "code",
   "execution_count": 400,
   "id": "8dfb8ecd-29e2-4b46-b605-58bb418dc92d",
   "metadata": {},
   "outputs": [
    {
     "data": {
      "text/html": [
       "\n",
       "<link rel=\"stylesheet\" type=\"text/css\" href=\"https://cdn.jsdelivr.net/gh/bmabey/pyLDAvis@3.3.1/pyLDAvis/js/ldavis.v1.0.0.css\">\n",
       "\n",
       "\n",
       "<div id=\"ldavis_el56841405633504762402372327390\"></div>\n",
       "<script type=\"text/javascript\">\n",
       "\n",
       "var ldavis_el56841405633504762402372327390_data = {\"mdsDat\": {\"x\": [-0.10276099456943673, -0.13669316864546316, 0.2394541632148998], \"y\": [0.13835196556716897, -0.12587126297606727, -0.012480702591101704], \"topics\": [1, 2, 3], \"cluster\": [1, 1, 1], \"Freq\": [62.251036865563556, 24.66476822315834, 13.084194911278098]}, \"tinfo\": {\"Term\": [\"decision\", \"member\", \"president\", \"parlade\", \"control\", \"child\", \"medium\", \"vice\", \"school\", \"talk\", \"defense\", \"statement\", \"kill\", \"news\", \"call\", \"time\", \"year\", \"candidate\", \"elcac\", \"substitution\", \"work\", \"philippinestar\", \"government\", \"book\", \"story\", \"duterte\", \"claim\", \"retire\", \"ibon\", \"teddycasino\", \"vice\", \"marcos\", \"poll\", \"robredo\", \"withdrawal\", \"sara\", \"comelec\", \"survey\", \"campaign\", \"substitution\", \"senate\", \"position\", \"race\", \"daughter\", \"covid\", \"month\", \"rule\", \"vote\", \"day\", \"city\", \"lacson\", \"leni\", \"davao\", \"cocs\", \"seat\", \"roque\", \"katipunan_demokratikong_pilipino\", \"supporter\", \"surprise\", \"system\", \"substitute\", \"candidate\", \"party\", \"election\", \"group\", \"president\", \"senator\", \"duterte\", \"file\", \"administration\", \"case\", \"list\", \"post\", \"year\", \"medium\", \"candidacy\", \"member\", \"talk\", \"name\", \"time\", \"decision\", \"defense\", \"allegation\", \"bridge\", \"lorenzana\", \"instance\", \"bong\", \"action\", \"evidence\", \"secretary_delfin_lorenzana\", \"discontent\", \"reporter\", \"right\", \"problema\", \"officer\", \"student\", \"landscape\", \"modernization\", \"trouble\", \"commander\", \"ceasefire\", \"act\", \"bayan\", \"palabay\", \"college\", \"sorry\", \"assistant\", \"agenda\", \"waste\", \"complain\", \"implement\", \"watch\", \"parlade\", \"person\", \"decision\", \"organization\", \"control\", \"army\", \"night\", \"department\", \"statement\", \"claim\", \"command\", \"effort\", \"president\", \"retire\", \"filipino\", \"spokesperson\", \"duterte\", \"time\", \"influence\", \"government\", \"help\", \"country\", \"senator\", \"candidacy\", \"chief\", \"program\", \"support\", \"problem\", \"year\", \"name\", \"child\", \"school\", \"elcac\", \"philippinestar\", \"book\", \"kill\", \"ibon\", \"quismorio\", \"bloc\", \"parent\", \"bishop\", \"recruit\", \"jabidah\", \"democracy\", \"priest\", \"extortion\", \"cppnpa\", \"massacre\", \"govt\", \"caser\", \"money\", \"version\", \"rebellion\", \"pay\", \"foundation\", \"teach\", \"activism\", \"silence\", \"gabriela\", \"shout\", \"rice\", \"share\", \"town\", \"teddycasino\", \"lie\", \"story\", \"news\", \"call\", \"member\", \"activist\", \"truth\", \"medium\", \"work\", \"talk\", \"year\", \"time\", \"government\", \"please\"], \"Freq\": [169.0, 109.0, 585.0, 122.0, 114.0, 43.0, 111.0, 190.0, 39.0, 91.0, 55.0, 102.0, 31.0, 39.0, 46.0, 131.0, 139.0, 263.0, 26.0, 159.0, 59.0, 24.0, 89.0, 23.0, 28.0, 230.0, 65.0, 87.0, 21.0, 28.0, 190.0053962131245, 86.93714194494626, 80.43782922776565, 72.09140715180017, 61.88915219788303, 58.15966072255997, 57.2194048218511, 52.56050065545583, 51.64458194162313, 156.4463458608126, 51.540435406816414, 53.392019667704304, 54.21613130846333, 45.97823369010507, 41.74677272675942, 43.196105312948646, 37.70691284783479, 36.79911037801251, 36.76535465363464, 45.22180436639673, 34.012837290187896, 34.00880803107035, 34.31671038955011, 32.14807077124725, 29.343212292799645, 28.441332487525493, 30.23444746510424, 28.410608520867587, 27.504376192134085, 31.02311086175293, 104.37754874149594, 249.47958829133947, 152.07936786731872, 172.6177646294061, 75.88429538261394, 442.74753449223044, 218.51690477119465, 172.54343230303823, 88.68070973504979, 47.57824440407337, 54.69372204705152, 44.38274405886007, 56.90291517703429, 83.27788195691215, 73.14742863137276, 62.34356026510151, 67.06364451721508, 61.37578071471864, 55.32620258598635, 61.040509411642745, 56.603493889464986, 54.25480379778367, 25.429687209050687, 22.539424390801173, 19.813933633395546, 19.8019195376342, 19.738004767753043, 18.154251991756556, 18.399874928233512, 18.15773948285024, 16.610942036139768, 16.83760334082037, 16.327520258627487, 17.290272731755312, 24.185536654711537, 15.202763211685786, 13.389339202966145, 13.382302009500085, 13.379723900921386, 15.6680569178363, 12.834225218590099, 11.726579932775435, 13.23543856307353, 11.238300074020302, 11.195226997372414, 12.439657502465673, 11.674446881232281, 11.660819866583692, 10.423679059558237, 10.383217941743633, 9.635195015992151, 22.766863336465413, 89.20885114060782, 29.009660857739707, 112.74934283323658, 32.788458093638546, 76.70293496684913, 37.234562780674125, 20.21391739025308, 23.171781911517943, 59.26131134275579, 39.04954756059152, 18.384289173177894, 19.646270577836013, 142.8855621203848, 42.265138771525734, 30.36247255903034, 31.93569516123661, 57.618772567883184, 42.652151476776176, 22.6501915725107, 34.91200715637688, 22.7927871422447, 31.527146375098102, 47.313119282462935, 30.20709257152532, 24.435073412515557, 24.095094263699092, 25.22369102735648, 23.587792391612403, 25.680793886769912, 23.40307246723056, 42.15028586693229, 38.234962391632, 25.73364615845867, 23.47435471559318, 22.877035649217937, 29.639051588733057, 20.838796832904592, 18.39378616288342, 17.48509406226856, 15.197007481045413, 14.179814802128945, 14.01969729307889, 13.312764319213871, 13.716759159140222, 12.877767095442595, 11.982175783016682, 11.139794228887418, 10.711814764514976, 10.237874314624658, 10.119697381766066, 11.617170760143141, 9.676054627847428, 8.822020487053845, 8.815464754414878, 8.387829868823431, 8.38663597614562, 8.38591866989448, 8.38253112075175, 8.22404914760585, 7.952767126551542, 16.242806022651102, 18.470492311466042, 14.312402893188715, 20.760885143910716, 15.209386109760953, 19.814881470503153, 25.862928234509802, 27.68328454905615, 42.022688829652445, 14.33150032281141, 17.536297498479815, 33.330598809144675, 23.886426288017137, 28.553024687751886, 30.45493843185947, 27.67279188251377, 20.77880518181131, 13.728209851758212], \"Total\": [169.0, 109.0, 585.0, 122.0, 114.0, 43.0, 111.0, 190.0, 39.0, 91.0, 55.0, 102.0, 31.0, 39.0, 46.0, 131.0, 139.0, 263.0, 26.0, 159.0, 59.0, 24.0, 89.0, 23.0, 28.0, 230.0, 65.0, 87.0, 21.0, 28.0, 190.863258346153, 87.7480189320574, 81.24826725939712, 72.88820341831925, 62.674273497332464, 58.956002226262335, 58.02260248080007, 53.37774392504474, 52.44927243093538, 159.0155498813817, 52.40221507832646, 54.29268724474247, 55.20917741902787, 46.85524568050821, 42.55444811245841, 44.04530653789031, 38.511145798332414, 37.59017135774244, 37.577593822649064, 46.24578191645076, 34.80150148697543, 34.800551124587315, 35.12902642305414, 32.94502138441697, 30.148208273417676, 29.230321106800968, 31.079391097020146, 29.224419756428503, 28.29843724816074, 31.963735390793115, 108.59752801097314, 263.21133622253586, 160.84461463405717, 192.05144843385412, 83.4796361785224, 585.916489607177, 277.1100336977204, 230.43703581075886, 108.16468759131746, 51.90030877805936, 62.067094052853555, 48.45583099482591, 73.0742412552143, 139.41361427554153, 111.9511968823354, 92.82739169946818, 109.61680743360006, 91.92676590378704, 79.00565277565627, 131.36545277093268, 169.66443412747313, 55.36971176839664, 26.322181829691896, 23.40304671933226, 20.702149273248175, 20.703934379611233, 20.71242478236168, 19.075113753942645, 19.346871535348473, 19.097343448477755, 17.47679193753981, 17.76139251803279, 17.241664868475556, 18.296254244332953, 25.606023985920935, 16.114369188433347, 14.254082031021284, 14.24683831510433, 14.248505401213396, 16.691799601801126, 13.723174858273557, 12.625244725480277, 14.256875297694416, 12.11086278244458, 12.09816891157377, 13.455350765929513, 12.644512455515713, 12.631008227671343, 11.31380135107318, 11.284557272489787, 10.503633222481477, 25.843231547784836, 122.47463323268404, 35.401559826956564, 169.66443412747313, 41.8850031911185, 114.47266575128792, 50.46219380915528, 24.56985392815973, 29.452272613794467, 102.89811637427267, 65.12193771892593, 22.76603114777983, 25.344938614662087, 585.916489607177, 87.86557246558611, 51.59271542316322, 62.50196519816995, 230.43703581075886, 131.36545277093268, 34.20064373888983, 89.52884905360504, 35.432066994030386, 81.46083725793748, 277.1100336977204, 92.82739169946818, 53.431748940009754, 50.58016348439627, 76.01557808734809, 72.08992431629318, 139.41361427554153, 79.00565277565627, 43.250366902005766, 39.35853751543914, 26.891777690151056, 24.566566151528523, 23.987499940418367, 31.10371013452616, 21.936491992598988, 19.486359888049037, 18.59872653210332, 16.301372998053182, 15.274433346277362, 15.124531098617881, 14.40647128134869, 14.865723491956189, 13.973844016313317, 13.136616267440072, 12.241555693550954, 11.803018030857508, 11.347504396694763, 11.217656957217578, 12.884685559313967, 10.794854282353688, 9.913551772044544, 9.920681814124672, 9.480418477628739, 9.481449013509327, 9.482198190528928, 9.484874996385184, 9.33448394745407, 9.047684862235844, 19.15439997815577, 22.710293823807607, 17.304465954715045, 28.504413545997245, 20.071549304991514, 28.079235958432953, 39.74366726468712, 46.503191004425275, 109.61680743360006, 21.003717479585575, 31.7335441997429, 111.9511968823354, 59.15179536952671, 91.92676590378704, 139.41361427554153, 131.36545277093268, 89.52884905360504, 22.916039428765103], \"Category\": [\"Default\", \"Default\", \"Default\", \"Default\", \"Default\", \"Default\", \"Default\", \"Default\", \"Default\", \"Default\", \"Default\", \"Default\", \"Default\", \"Default\", \"Default\", \"Default\", \"Default\", \"Default\", \"Default\", \"Default\", \"Default\", \"Default\", \"Default\", \"Default\", \"Default\", \"Default\", \"Default\", \"Default\", \"Default\", \"Default\", \"Topic1\", \"Topic1\", \"Topic1\", \"Topic1\", \"Topic1\", \"Topic1\", \"Topic1\", \"Topic1\", \"Topic1\", \"Topic1\", \"Topic1\", \"Topic1\", \"Topic1\", \"Topic1\", \"Topic1\", \"Topic1\", \"Topic1\", \"Topic1\", \"Topic1\", \"Topic1\", \"Topic1\", \"Topic1\", \"Topic1\", \"Topic1\", \"Topic1\", \"Topic1\", \"Topic1\", \"Topic1\", \"Topic1\", \"Topic1\", \"Topic1\", \"Topic1\", \"Topic1\", \"Topic1\", \"Topic1\", \"Topic1\", \"Topic1\", \"Topic1\", \"Topic1\", \"Topic1\", \"Topic1\", \"Topic1\", \"Topic1\", \"Topic1\", \"Topic1\", \"Topic1\", \"Topic1\", \"Topic1\", \"Topic1\", \"Topic1\", \"Topic1\", \"Topic2\", \"Topic2\", \"Topic2\", \"Topic2\", \"Topic2\", \"Topic2\", \"Topic2\", \"Topic2\", \"Topic2\", \"Topic2\", \"Topic2\", \"Topic2\", \"Topic2\", \"Topic2\", \"Topic2\", \"Topic2\", \"Topic2\", \"Topic2\", \"Topic2\", \"Topic2\", \"Topic2\", \"Topic2\", \"Topic2\", \"Topic2\", \"Topic2\", \"Topic2\", \"Topic2\", \"Topic2\", \"Topic2\", \"Topic2\", \"Topic2\", \"Topic2\", \"Topic2\", \"Topic2\", \"Topic2\", \"Topic2\", \"Topic2\", \"Topic2\", \"Topic2\", \"Topic2\", \"Topic2\", \"Topic2\", \"Topic2\", \"Topic2\", \"Topic2\", \"Topic2\", \"Topic2\", \"Topic2\", \"Topic2\", \"Topic2\", \"Topic2\", \"Topic2\", \"Topic2\", \"Topic2\", \"Topic2\", \"Topic2\", \"Topic2\", \"Topic2\", \"Topic2\", \"Topic2\", \"Topic2\", \"Topic3\", \"Topic3\", \"Topic3\", \"Topic3\", \"Topic3\", \"Topic3\", \"Topic3\", \"Topic3\", \"Topic3\", \"Topic3\", \"Topic3\", \"Topic3\", \"Topic3\", \"Topic3\", \"Topic3\", \"Topic3\", \"Topic3\", \"Topic3\", \"Topic3\", \"Topic3\", \"Topic3\", \"Topic3\", \"Topic3\", \"Topic3\", \"Topic3\", \"Topic3\", \"Topic3\", \"Topic3\", \"Topic3\", \"Topic3\", \"Topic3\", \"Topic3\", \"Topic3\", \"Topic3\", \"Topic3\", \"Topic3\", \"Topic3\", \"Topic3\", \"Topic3\", \"Topic3\", \"Topic3\", \"Topic3\", \"Topic3\", \"Topic3\", \"Topic3\", \"Topic3\", \"Topic3\", \"Topic3\"], \"logprob\": [30.0, 29.0, 28.0, 27.0, 26.0, 25.0, 24.0, 23.0, 22.0, 21.0, 20.0, 19.0, 18.0, 17.0, 16.0, 15.0, 14.0, 13.0, 12.0, 11.0, 10.0, 9.0, 8.0, 7.0, 6.0, 5.0, 4.0, 3.0, 2.0, 1.0, -3.955, -4.7368, -4.8145, -4.9241, -5.0767, -5.1388, -5.1551, -5.2401, -5.2576, -4.1493, -5.2597, -5.2244, -5.209, -5.3739, -5.4704, -5.4363, -5.5722, -5.5966, -5.5975, -5.3904, -5.6753, -5.6754, -5.6664, -5.7317, -5.823, -5.8542, -5.793, -5.8553, -5.8877, -5.7673, -4.554, -3.6827, -4.1776, -4.0509, -4.8728, -3.109, -3.8152, -4.0514, -4.717, -5.3397, -5.2003, -5.4092, -5.1607, -4.7798, -4.9096, -5.0694, -4.9964, -5.085, -5.1888, -5.0905, -5.166, -4.2825, -5.0403, -5.161, -5.2898, -5.2904, -5.2937, -5.3773, -5.3639, -5.3771, -5.4662, -5.4526, -5.4834, -5.4261, -5.0905, -5.5548, -5.6818, -5.6823, -5.6825, -5.5246, -5.7241, -5.8144, -5.6933, -5.8569, -5.8607, -5.7553, -5.8188, -5.82, -5.9321, -5.936, -6.0108, -5.1509, -3.7852, -4.9086, -3.5511, -4.7862, -3.9363, -4.659, -5.2699, -5.1333, -4.1943, -4.6114, -5.3647, -5.2983, -3.3142, -4.5323, -4.863, -4.8125, -4.2224, -4.5232, -5.1561, -4.7234, -5.1498, -4.8254, -4.4194, -4.8682, -5.0802, -5.0942, -5.0484, -5.1155, -5.0305, -5.1234, -3.901, -3.9985, -4.3945, -4.4863, -4.5121, -4.2532, -4.6054, -4.7302, -4.7809, -4.9212, -4.9904, -5.0018, -5.0535, -5.0236, -5.0868, -5.1588, -5.2317, -5.2709, -5.3162, -5.3278, -5.1898, -5.3726, -5.465, -5.4657, -5.5155, -5.5156, -5.5157, -5.5161, -5.5352, -5.5687, -4.8546, -4.7261, -4.9811, -4.6092, -4.9203, -4.6558, -4.3894, -4.3214, -3.904, -4.9798, -4.778, -4.1358, -4.4689, -4.2905, -4.226, -4.3218, -4.6083, -5.0228], \"loglift\": [30.0, 29.0, 28.0, 27.0, 26.0, 25.0, 24.0, 23.0, 22.0, 21.0, 20.0, 19.0, 18.0, 17.0, 16.0, 15.0, 14.0, 13.0, 12.0, 11.0, 10.0, 9.0, 8.0, 7.0, 6.0, 5.0, 4.0, 3.0, 2.0, 1.0, 0.4695, 0.4647, 0.464, 0.463, 0.4614, 0.4604, 0.4601, 0.4586, 0.4585, 0.4577, 0.4574, 0.4573, 0.4558, 0.4551, 0.4548, 0.4545, 0.4529, 0.4527, 0.4521, 0.4516, 0.4511, 0.451, 0.4506, 0.4495, 0.4469, 0.4466, 0.4464, 0.4458, 0.4455, 0.4441, 0.4344, 0.4204, 0.418, 0.3673, 0.3786, 0.1938, 0.2364, 0.1847, 0.2754, 0.387, 0.3475, 0.3862, 0.2239, -0.0413, 0.0484, 0.0759, -0.0174, 0.07, 0.1177, -0.2925, -0.6238, 1.3795, 1.3653, 1.3622, 1.3559, 1.3552, 1.3516, 1.3503, 1.3496, 1.3493, 1.349, 1.3464, 1.3453, 1.3432, 1.3427, 1.3416, 1.3372, 1.3372, 1.3369, 1.3365, 1.3328, 1.326, 1.3255, 1.325, 1.3222, 1.3213, 1.32, 1.3199, 1.3179, 1.3166, 1.3135, 1.2731, 1.0829, 1.2007, 0.9911, 1.1549, 0.9994, 1.0958, 1.2046, 1.16, 0.848, 0.8884, 1.186, 1.1451, -0.0113, 0.6679, 0.8696, 0.7283, 0.0137, 0.2749, 0.9877, 0.4581, 0.9586, 0.4505, -0.3678, 0.2771, 0.6174, 0.6582, 0.2966, 0.2826, -0.2919, 0.1831, 2.008, 2.0048, 1.9897, 1.9883, 1.9864, 1.9855, 1.9824, 1.9761, 1.972, 1.9636, 1.9594, 1.9579, 1.9548, 1.9533, 1.9521, 1.9418, 1.9395, 1.9368, 1.9309, 1.9308, 1.9302, 1.9243, 1.9171, 1.9157, 1.9113, 1.9111, 1.9109, 1.9102, 1.9071, 1.9048, 1.8689, 1.8271, 1.8439, 1.7168, 1.7564, 1.6852, 1.6041, 1.5151, 1.075, 1.6515, 1.4407, 0.8222, 1.127, 0.8645, 0.5126, 0.4762, 0.5731, 1.5214]}, \"token.table\": {\"Topic\": [1, 2, 1, 2, 1, 2, 3, 1, 2, 3, 1, 2, 1, 2, 1, 2, 1, 2, 3, 1, 2, 1, 2, 1, 2, 3, 1, 2, 3, 1, 2, 1, 2, 3, 1, 2, 1, 2, 3, 1, 2, 1, 2, 1, 2, 1, 2, 3, 1, 2, 3, 1, 2, 1, 2, 1, 2, 3, 1, 2, 1, 2, 1, 2, 1, 2, 1, 2, 1, 2, 1, 2, 1, 2, 1, 2, 1, 2, 1, 2, 1, 2, 3, 1, 2, 1, 2, 1, 2, 1, 2, 1, 2, 1, 2, 3, 1, 2, 1, 2, 1, 2, 1, 2, 1, 2, 3, 1, 2, 1, 2, 1, 2, 3, 1, 2, 1, 2, 1, 2, 3, 1, 2, 3, 1, 2, 3, 1, 2, 3, 1, 2, 3, 1, 2, 3, 1, 2, 3, 1, 2, 1, 2, 1, 2, 1, 2, 3, 1, 2, 1, 2, 3, 1, 2, 1, 2, 1, 2, 1, 2, 3, 1, 2, 3, 1, 2, 1, 2, 1, 2, 3, 1, 2, 3, 1, 2, 3, 1, 2, 1, 2, 3, 1, 2, 1, 2, 1, 2, 3, 1, 2, 1, 2, 1, 2, 1, 2, 1, 2, 3, 1, 2, 1, 2, 1, 2, 3, 1, 2, 1, 2, 3, 1, 2, 3, 1, 2, 1, 2, 1, 2, 3, 1, 2, 1, 2, 3, 1, 2, 1, 2, 1, 2, 3, 1, 2, 3, 1, 2, 1, 2, 3, 1, 2, 3, 1, 2, 1, 2, 1, 2, 3, 1, 2, 1, 2, 1, 2, 1, 2, 1, 2, 1, 2, 3, 1, 2, 1, 2, 1, 2, 1, 2, 3, 1, 2, 3, 1, 2, 3, 1, 2, 3, 1, 2, 1, 2, 1, 2, 1, 2, 3, 1, 2, 1, 2, 1, 2, 1, 2, 3, 1, 2, 1, 2, 1, 2, 1, 2, 1, 2, 3, 1, 2, 3, 1, 2, 3, 1, 2, 3, 1, 2, 3, 1, 2, 1, 2, 3, 1, 2, 3, 1, 2, 1, 2, 1, 2, 1, 2, 1, 2, 1, 2, 3, 1, 2, 3], \"Freq\": [0.07920638543994314, 0.9504766252793178, 0.052424326947634034, 0.9436378850574126, 0.10546077817681838, 0.10546077817681838, 0.8436862254145471, 0.19044247780840576, 0.09522123890420288, 0.6665486723294202, 0.9248499889521236, 0.07707083241267695, 0.07917024373472048, 0.9500429248166458, 0.037990771679571864, 0.9497692919892966, 0.17835134227491994, 0.7332221849080043, 0.07926726323329776, 0.0790856906122771, 0.9490282873473254, 0.07014159688706244, 0.9118407595318117, 0.06546887713145293, 0.06546887713145293, 0.916564279840341, 0.053767122080853054, 0.053767122080853054, 0.914041075374502, 0.048280199470009985, 0.9656039894001996, 0.041688379467800386, 0.041688379467800386, 0.9588327277594089, 0.04272947928501731, 0.982778023555398, 0.27955070865487297, 0.12902340399455675, 0.6021092186412649, 0.9914341532282077, 0.019066041408234764, 0.667906302923248, 0.32318046915641035, 0.9460078869455657, 0.049389970001174115, 0.8861378293812896, 0.01611159689784163, 0.11278117828489141, 0.08914517566492242, 0.08914517566492242, 0.891451756649224, 0.07286943512179403, 0.9473026565833225, 0.5427484702505174, 0.4491711477935317, 0.023121191139620696, 0.023121191139620696, 0.9710900278640693, 0.9730617179594577, 0.021623593732432392, 0.3992510190992643, 0.5988765286488965, 0.9713151989373434, 0.030353599966791982, 0.08265713657240686, 0.9092285022964754, 0.9823757908629064, 0.01723466299759485, 0.17570036577895504, 0.7906516460052977, 0.05990965766759476, 0.9585545226815162, 0.0886166799328374, 0.8861667993283739, 0.3232212664671323, 0.6726496626478158, 0.6137918745136398, 0.39282679968872947, 0.98697085411628, 0.023499306050387622, 0.08168896380766506, 0.08168896380766506, 0.8985786018843157, 0.9817470665645449, 0.021342327534011846, 0.967860583169672, 0.02846648774028447, 0.9846293026271168, 0.026611602773705858, 0.33595726937782655, 0.666020551573586, 0.018060415488215884, 0.9752624363636577, 0.06726884167737264, 0.06726884167737264, 0.941763783483217, 0.20371942357989037, 0.7809244570562465, 0.05721873920419109, 0.9727185664712485, 0.7507473761382363, 0.25169565211570927, 0.19727804734581175, 0.789112189383247, 0.0371860875663212, 0.0371860875663212, 0.9668382767243512, 0.9008002876874122, 0.0989318235032418, 0.051687943354196055, 0.930382980375529, 0.07612310351780334, 0.07612310351780334, 0.9134772422136401, 0.822819369074239, 0.17565806755517463, 0.40703420682082914, 0.5814774383154702, 0.1054805758163243, 0.1054805758163243, 0.8438446065305945, 0.1071296501905437, 0.1071296501905437, 0.8570372015243496, 0.37976585602750945, 0.3909354400283186, 0.23456126401699115, 0.08812510355063395, 0.08812510355063395, 0.8812510355063394, 0.9104016677489215, 0.01197896931248581, 0.08385278518740066, 0.19756115275971237, 0.6491295019247693, 0.14111510911408026, 0.04558614022412442, 0.04558614022412442, 0.9573089447066129, 0.09520515223814627, 0.9520515223814627, 0.3216313729057623, 0.6725019615302302, 0.048299998525148796, 0.9659999705029759, 0.06941325050879378, 0.06941325050879378, 0.9023722566143192, 0.9652698763096541, 0.032175662543655136, 0.03215050537941988, 0.03215050537941988, 0.9645151613825964, 0.9769693417602859, 0.02873439240471429, 0.07015534201526911, 0.9120194461984985, 0.9769960216514586, 0.02873517710739584, 0.04982176436929629, 0.19928705747718517, 0.7473264655394444, 0.9080434510492308, 0.02063735116020979, 0.08254940464083917, 0.04830416334077083, 0.9660832668154167, 0.9914753752715877, 0.011396268681282618, 0.0847240932264634, 0.0847240932264634, 0.9319650254910974, 0.6520698485852325, 0.044662318396248804, 0.2947713014152421, 0.6112201364793897, 0.009122688604169994, 0.3831529213751398, 0.07019101206053639, 0.9124831567869731, 0.07761151759556359, 0.07761151759556359, 0.9313382111467631, 0.9762674704740429, 0.022703894662187044, 0.6961527190488191, 0.2911184097840516, 0.32709613618244804, 0.025161241244803696, 0.6541922723648961, 0.16280113067402344, 0.8140056533701171, 0.03905331028940042, 0.93727944694561, 0.21487404355524567, 0.7878714930359008, 0.08257050038165405, 0.9082755041981946, 0.061344526017497215, 0.061344526017497215, 0.9201678902624583, 0.26944355030077766, 0.7266810902051277, 0.9450114344569146, 0.04973744391878498, 0.10079952353438448, 0.10079952353438448, 0.9071957118094603, 0.16948405746323336, 0.8191729444056279, 0.04070572964214538, 0.04070572964214538, 0.9362317817693437, 0.04363755801295931, 0.3927380221166337, 0.6109258121814303, 0.9846363830084912, 0.01230795478760614, 0.9761903985537639, 0.018418686765165355, 0.7800286259685617, 0.20527069104435836, 0.013684712736290556, 0.756080444667133, 0.2440620848474041, 0.07156227011211676, 0.07156227011211676, 0.9303095114575178, 0.6658350727266811, 0.33291753636334054, 0.0546559960659564, 0.9291519331212588, 0.35587073587757206, 0.4744943145034294, 0.15816477150114314, 0.05131794782325143, 0.05131794782325143, 0.9237230608185257, 0.9780982533057788, 0.01811293061677368, 0.10087202074436362, 0.10087202074436362, 0.9078481866992726, 0.0661177522449858, 0.0661177522449858, 0.9256485314298012, 0.056301891813083906, 0.9571321608224264, 0.5121459832020663, 0.4780029176552618, 0.10441465158297089, 0.052207325791485445, 0.8353172126637671, 0.05799903939835807, 0.9279846303737291, 0.9878141677711318, 0.013719641219043498, 0.9579094221269191, 0.03421105079024711, 0.9867273282127443, 0.025966508637177484, 0.9837844801180146, 0.01696180138134508, 0.025407448119934103, 0.025407448119934103, 0.9654830285574959, 0.9619145435441987, 0.033169467018765476, 0.0523633039693649, 0.9425394714485682, 0.9923244641905831, 0.019083162772895828, 0.7902997848099991, 0.16960771637474864, 0.039695422981324155, 0.17613158293032424, 0.04403289573258106, 0.7925921231864591, 0.11052551179958783, 0.11052551179958783, 0.8842040943967027, 0.10543101520906852, 0.10543101520906852, 0.8434481216725481, 0.07431987596578414, 0.8918385115894096, 0.4799849077526029, 0.5119839016027764, 0.4178890879167849, 0.573382702025356, 0.2849080370934161, 0.035613504636677014, 0.7122700927335404, 0.062056416128146365, 0.9308462419221954, 0.9576645242743593, 0.03683325093362921, 0.9810361321038655, 0.012577386309023917, 0.5788287230998943, 0.32887995630675815, 0.09208638776589227, 0.9581028548510645, 0.03421795910182373, 0.989453931835754, 0.0353376404227055, 0.992923194251612, 0.018734399891539848, 0.9698490999562364, 0.031285454837297944, 0.6635716964506746, 0.021756449063956546, 0.31546851142736987, 0.10546911116382984, 0.10546911116382984, 0.8437528893106387, 0.03508228641106092, 0.24557600487742645, 0.7367280146322793, 0.4643534408271572, 0.327331114025701, 0.2131458416911541, 0.11557710045683604, 0.05778855022841802, 0.8090397031978523, 0.07018279965804979, 0.9123763955546471, 0.03151239564372711, 0.4411735390121796, 0.567223121587088, 0.09263672985699276, 0.09263672985699276, 0.9263672985699276, 0.9954770847273948, 0.005239353077512604, 0.9842998492311772, 0.026602698627869653, 0.08838762224733107, 0.8838762224733107, 0.11608455368489497, 0.8899815782508614, 0.9892416224439975, 0.015955510039419314, 0.28739617950392604, 0.30430183712180403, 0.4057357828290721, 0.5953507512971878, 0.18649541606899858, 0.21518701854115221], \"Term\": [\"act\", \"act\", \"action\", \"action\", \"activism\", \"activism\", \"activism\", \"activist\", \"activist\", \"activist\", \"administration\", \"administration\", \"agenda\", \"agenda\", \"allegation\", \"allegation\", \"army\", \"army\", \"army\", \"assistant\", \"assistant\", \"bayan\", \"bayan\", \"bishop\", \"bishop\", \"bishop\", \"bloc\", \"bloc\", \"bloc\", \"bong\", \"bong\", \"book\", \"book\", \"book\", \"bridge\", \"bridge\", \"call\", \"call\", \"call\", \"campaign\", \"campaign\", \"candidacy\", \"candidacy\", \"candidate\", \"candidate\", \"case\", \"case\", \"case\", \"caser\", \"caser\", \"caser\", \"ceasefire\", \"ceasefire\", \"chief\", \"chief\", \"child\", \"child\", \"child\", \"city\", \"city\", \"claim\", \"claim\", \"cocs\", \"cocs\", \"college\", \"college\", \"comelec\", \"comelec\", \"command\", \"command\", \"commander\", \"commander\", \"complain\", \"complain\", \"control\", \"control\", \"country\", \"country\", \"covid\", \"covid\", \"cppnpa\", \"cppnpa\", \"cppnpa\", \"daughter\", \"daughter\", \"davao\", \"davao\", \"day\", \"day\", \"decision\", \"decision\", \"defense\", \"defense\", \"democracy\", \"democracy\", \"democracy\", \"department\", \"department\", \"discontent\", \"discontent\", \"duterte\", \"duterte\", \"effort\", \"effort\", \"elcac\", \"elcac\", \"elcac\", \"election\", \"election\", \"evidence\", \"evidence\", \"extortion\", \"extortion\", \"extortion\", \"file\", \"file\", \"filipino\", \"filipino\", \"foundation\", \"foundation\", \"foundation\", \"gabriela\", \"gabriela\", \"gabriela\", \"government\", \"government\", \"government\", \"govt\", \"govt\", \"govt\", \"group\", \"group\", \"group\", \"help\", \"help\", \"help\", \"ibon\", \"ibon\", \"ibon\", \"implement\", \"implement\", \"influence\", \"influence\", \"instance\", \"instance\", \"jabidah\", \"jabidah\", \"jabidah\", \"katipunan_demokratikong_pilipino\", \"katipunan_demokratikong_pilipino\", \"kill\", \"kill\", \"kill\", \"lacson\", \"lacson\", \"landscape\", \"landscape\", \"leni\", \"leni\", \"lie\", \"lie\", \"lie\", \"list\", \"list\", \"list\", \"lorenzana\", \"lorenzana\", \"marcos\", \"marcos\", \"massacre\", \"massacre\", \"massacre\", \"medium\", \"medium\", \"medium\", \"member\", \"member\", \"member\", \"modernization\", \"modernization\", \"money\", \"money\", \"money\", \"month\", \"month\", \"name\", \"name\", \"news\", \"news\", \"news\", \"night\", \"night\", \"officer\", \"officer\", \"organization\", \"organization\", \"palabay\", \"palabay\", \"parent\", \"parent\", \"parent\", \"parlade\", \"parlade\", \"party\", \"party\", \"pay\", \"pay\", \"pay\", \"person\", \"person\", \"philippinestar\", \"philippinestar\", \"philippinestar\", \"please\", \"please\", \"please\", \"poll\", \"poll\", \"position\", \"position\", \"post\", \"post\", \"post\", \"president\", \"president\", \"priest\", \"priest\", \"priest\", \"problem\", \"problem\", \"problema\", \"problema\", \"program\", \"program\", \"program\", \"quismorio\", \"quismorio\", \"quismorio\", \"race\", \"race\", \"rebellion\", \"rebellion\", \"rebellion\", \"recruit\", \"recruit\", \"recruit\", \"reporter\", \"reporter\", \"retire\", \"retire\", \"rice\", \"rice\", \"rice\", \"right\", \"right\", \"robredo\", \"robredo\", \"roque\", \"roque\", \"rule\", \"rule\", \"sara\", \"sara\", \"school\", \"school\", \"school\", \"seat\", \"seat\", \"secretary_delfin_lorenzana\", \"secretary_delfin_lorenzana\", \"senate\", \"senate\", \"senator\", \"senator\", \"senator\", \"share\", \"share\", \"share\", \"shout\", \"shout\", \"shout\", \"silence\", \"silence\", \"silence\", \"sorry\", \"sorry\", \"spokesperson\", \"spokesperson\", \"statement\", \"statement\", \"story\", \"story\", \"story\", \"student\", \"student\", \"substitute\", \"substitute\", \"substitution\", \"substitution\", \"support\", \"support\", \"support\", \"supporter\", \"supporter\", \"surprise\", \"surprise\", \"survey\", \"survey\", \"system\", \"system\", \"talk\", \"talk\", \"talk\", \"teach\", \"teach\", \"teach\", \"teddycasino\", \"teddycasino\", \"teddycasino\", \"time\", \"time\", \"time\", \"town\", \"town\", \"town\", \"trouble\", \"trouble\", \"truth\", \"truth\", \"truth\", \"version\", \"version\", \"version\", \"vice\", \"vice\", \"vote\", \"vote\", \"waste\", \"waste\", \"watch\", \"watch\", \"withdrawal\", \"withdrawal\", \"work\", \"work\", \"work\", \"year\", \"year\", \"year\"]}, \"R\": 30, \"lambda.step\": 0.01, \"plot.opts\": {\"xlab\": \"PC1\", \"ylab\": \"PC2\"}, \"topic.order\": [2, 3, 1]};\n",
       "\n",
       "function LDAvis_load_lib(url, callback){\n",
       "  var s = document.createElement('script');\n",
       "  s.src = url;\n",
       "  s.async = true;\n",
       "  s.onreadystatechange = s.onload = callback;\n",
       "  s.onerror = function(){console.warn(\"failed to load library \" + url);};\n",
       "  document.getElementsByTagName(\"head\")[0].appendChild(s);\n",
       "}\n",
       "\n",
       "if(typeof(LDAvis) !== \"undefined\"){\n",
       "   // already loaded: just create the visualization\n",
       "   !function(LDAvis){\n",
       "       new LDAvis(\"#\" + \"ldavis_el56841405633504762402372327390\", ldavis_el56841405633504762402372327390_data);\n",
       "   }(LDAvis);\n",
       "}else if(typeof define === \"function\" && define.amd){\n",
       "   // require.js is available: use it to load d3/LDAvis\n",
       "   require.config({paths: {d3: \"https://d3js.org/d3.v5\"}});\n",
       "   require([\"d3\"], function(d3){\n",
       "      window.d3 = d3;\n",
       "      LDAvis_load_lib(\"https://cdn.jsdelivr.net/gh/bmabey/pyLDAvis@3.3.1/pyLDAvis/js/ldavis.v3.0.0.js\", function(){\n",
       "        new LDAvis(\"#\" + \"ldavis_el56841405633504762402372327390\", ldavis_el56841405633504762402372327390_data);\n",
       "      });\n",
       "    });\n",
       "}else{\n",
       "    // require.js not available: dynamically load d3 & LDAvis\n",
       "    LDAvis_load_lib(\"https://d3js.org/d3.v5.js\", function(){\n",
       "         LDAvis_load_lib(\"https://cdn.jsdelivr.net/gh/bmabey/pyLDAvis@3.3.1/pyLDAvis/js/ldavis.v3.0.0.js\", function(){\n",
       "                 new LDAvis(\"#\" + \"ldavis_el56841405633504762402372327390\", ldavis_el56841405633504762402372327390_data);\n",
       "            })\n",
       "         });\n",
       "}\n",
       "</script>"
      ],
      "text/plain": [
       "<IPython.core.display.HTML object>"
      ]
     },
     "execution_count": 400,
     "metadata": {},
     "output_type": "execute_result"
    }
   ],
   "source": [
    "topic_data =  gensimvis.prepare(optimal_model, parlade_corpus, parlade_dict, mds = 'pcoa')\n",
    "pyLDAvis.display(topic_data)"
   ]
  },
  {
   "cell_type": "code",
   "execution_count": null,
   "id": "1223c51c-2413-48be-a214-627bf081e0d3",
   "metadata": {},
   "outputs": [],
   "source": []
  },
  {
   "cell_type": "code",
   "execution_count": null,
   "id": "70aba7a1-42e1-4d8a-a919-a6d6c5ebd975",
   "metadata": {},
   "outputs": [],
   "source": []
  },
  {
   "cell_type": "code",
   "execution_count": null,
   "id": "8a6d9cc9-b047-4452-9893-c980e498c5d9",
   "metadata": {},
   "outputs": [],
   "source": []
  },
  {
   "cell_type": "code",
   "execution_count": null,
   "id": "4de27d30-4870-4401-ae4c-72f465ceb221",
   "metadata": {},
   "outputs": [],
   "source": []
  },
  {
   "cell_type": "code",
   "execution_count": null,
   "id": "a5e86f3e-db37-4196-a2e0-1e9927a4bd18",
   "metadata": {},
   "outputs": [],
   "source": []
  },
  {
   "cell_type": "markdown",
   "id": "264edab8-2c24-408f-a0da-43be608d3ed9",
   "metadata": {
    "jp-MarkdownHeadingCollapsed": true,
    "tags": []
   },
   "source": [
    "### Topic Modeling - Antonio Parlade Jr."
   ]
  },
  {
   "cell_type": "code",
   "execution_count": 321,
   "id": "8a0d6290-1700-4e99-b494-d640f609edde",
   "metadata": {},
   "outputs": [
    {
     "data": {
      "text/plain": [
       "(581, 13)"
      ]
     },
     "execution_count": 321,
     "metadata": {},
     "output_type": "execute_result"
    }
   ],
   "source": [
    "final_df_parlade = final_df[final_df['candidate'] == 'Antonio Parlade Jr.']\n",
    "final_df_parlade.shape"
   ]
  },
  {
   "cell_type": "code",
   "execution_count": 322,
   "id": "def52e95-159e-42ca-bc02-9fbb5fc30b8f",
   "metadata": {},
   "outputs": [],
   "source": []
  },
  {
   "cell_type": "code",
   "execution_count": 323,
   "id": "4ec6ee6b-7e6b-44e9-bac0-d4ca8a59d0de",
   "metadata": {},
   "outputs": [],
   "source": [
    "dictionary = corpora.Dictionary(final_content_parlade)\n",
    "dictionary.filter_extremes(no_below=5, no_above=0.5, keep_n=10000)"
   ]
  },
  {
   "cell_type": "code",
   "execution_count": 324,
   "id": "d8c1d6d5-1135-42a8-a865-af03147d9022",
   "metadata": {},
   "outputs": [],
   "source": [
    "doc_term_matrix = [dictionary.doc2bow(doc) for doc in final_content_parlade]"
   ]
  },
  {
   "cell_type": "code",
   "execution_count": 325,
   "id": "f1329eb1-5ac4-4418-bbcb-48d85b0763c2",
   "metadata": {},
   "outputs": [],
   "source": [
    "Lda = gensim.models.ldamodel.LdaModel\n",
    "ldamodel_parlade = Lda(doc_term_matrix, num_topics=10, id2word = dictionary, passes=40,\\\n",
    "               iterations=500,  chunksize = 500, eval_every = None, random_state=123)"
   ]
  },
  {
   "cell_type": "code",
   "execution_count": 326,
   "id": "7b36f577-ce2e-4bc5-9026-3a3c81c8bc50",
   "metadata": {},
   "outputs": [
    {
     "data": {
      "text/plain": [
       "[(0,\n",
       "  [('talk', 0.086339),\n",
       "   ('medium', 0.05973419),\n",
       "   ('please', 0.047367025),\n",
       "   ('truth', 0.047044247),\n",
       "   ('share', 0.046797708),\n",
       "   ('news', 0.038129944),\n",
       "   ('town', 0.03744464),\n",
       "   ('bishop', 0.037035007),\n",
       "   ('forum', 0.036681253),\n",
       "   ('part', 0.031428307)]),\n",
       " (1,\n",
       "  [('president', 0.066369206),\n",
       "   ('senator', 0.037404824),\n",
       "   ('vice', 0.036652558),\n",
       "   ('candidate', 0.027037643),\n",
       "   ('substitute', 0.020253707),\n",
       "   ('covid', 0.016010897),\n",
       "   ('robredo', 0.013931733),\n",
       "   ('file', 0.013901603),\n",
       "   ('member', 0.013291593),\n",
       "   ('election', 0.012736936)]),\n",
       " (2,\n",
       "  [('teddycasino', 0.041710965),\n",
       "   ('kill', 0.036523372),\n",
       "   ('nothing', 0.033330526),\n",
       "   ('time', 0.025951225),\n",
       "   ('watch', 0.0226642),\n",
       "   ('cppnpa', 0.018919714),\n",
       "   ('church', 0.017844247),\n",
       "   ('anything', 0.016081253),\n",
       "   ('evidence', 0.015388836),\n",
       "   ('person', 0.015024235)]),\n",
       " (3,\n",
       "  [('government', 0.049136337),\n",
       "   ('budget', 0.04121606),\n",
       "   ('bloc', 0.030306457),\n",
       "   ('challenge', 0.021331422),\n",
       "   ('fund', 0.020242127),\n",
       "   ('issue', 0.019825064),\n",
       "   ('interview', 0.019241067),\n",
       "   ('terror', 0.019184096),\n",
       "   ('senator', 0.01898125),\n",
       "   ('death', 0.018066036)]),\n",
       " (4,\n",
       "  [('president', 0.06719923),\n",
       "   ('decision', 0.043435656),\n",
       "   ('parlade', 0.04057974),\n",
       "   ('control', 0.03406851),\n",
       "   ('statement', 0.030891173),\n",
       "   ('duterte', 0.023317397),\n",
       "   ('retire', 0.022002595),\n",
       "   ('defense', 0.021577073),\n",
       "   ('senator', 0.018412896),\n",
       "   ('claim', 0.0145924585)]),\n",
       " (5,\n",
       "  [('book', 0.040188376),\n",
       "   ('ibon', 0.03327135),\n",
       "   ('lie', 0.0310053),\n",
       "   ('story', 0.030672796),\n",
       "   ('jabidah', 0.025282403),\n",
       "   ('priest', 0.024446769),\n",
       "   ('quismorio', 0.02157486),\n",
       "   ('school', 0.020796945),\n",
       "   ('friend', 0.020729091),\n",
       "   ('massacre', 0.020269243)]),\n",
       " (6,\n",
       "  [('child', 0.0397383),\n",
       "   ('member', 0.036343135),\n",
       "   ('school', 0.03258175),\n",
       "   ('group', 0.030086666),\n",
       "   ('year', 0.025068715),\n",
       "   ('time', 0.024520008),\n",
       "   ('force', 0.01954366),\n",
       "   ('freedom', 0.01937293),\n",
       "   ('look', 0.019074995),\n",
       "   ('parent', 0.01862181)]),\n",
       " (7,\n",
       "  [('percent', 0.046927914),\n",
       "   ('join', 0.037710655),\n",
       "   ('democracy', 0.029381031),\n",
       "   ('extortion', 0.025621159),\n",
       "   ('year', 0.025313534),\n",
       "   ('mind', 0.021525426),\n",
       "   ('member', 0.021461673),\n",
       "   ('judge', 0.021217104),\n",
       "   ('time', 0.020268453),\n",
       "   ('support', 0.01905622)]),\n",
       " (8,\n",
       "  [('senator', 0.041476887),\n",
       "   ('elcac', 0.04029892),\n",
       "   ('medium', 0.03276967),\n",
       "   ('call', 0.02607097),\n",
       "   ('question', 0.025546428),\n",
       "   ('time', 0.021771224),\n",
       "   ('insurgency', 0.017915439),\n",
       "   ('news', 0.017262094),\n",
       "   ('election', 0.01646831),\n",
       "   ('post', 0.015785934)]),\n",
       " (9,\n",
       "  [('president', 0.044212032),\n",
       "   ('candidate', 0.029709172),\n",
       "   ('duterte', 0.02514577),\n",
       "   ('substitution', 0.024310581),\n",
       "   ('election', 0.021205131),\n",
       "   ('party', 0.020312188),\n",
       "   ('vice', 0.016321128),\n",
       "   ('senator', 0.015457771),\n",
       "   ('candidacy', 0.012218906),\n",
       "   ('marcos', 0.01096215)])]"
      ]
     },
     "execution_count": 326,
     "metadata": {},
     "output_type": "execute_result"
    }
   ],
   "source": [
    "ldamodel_parlade.show_topics(10, num_words=10, formatted=False)"
   ]
  },
  {
   "cell_type": "code",
   "execution_count": 327,
   "id": "e35a686a-906d-4a58-8205-f6733a61233e",
   "metadata": {
    "tags": []
   },
   "outputs": [
    {
     "data": {
      "text/html": [
       "\n",
       "<link rel=\"stylesheet\" type=\"text/css\" href=\"https://cdn.jsdelivr.net/gh/bmabey/pyLDAvis@3.3.1/pyLDAvis/js/ldavis.v1.0.0.css\">\n",
       "\n",
       "\n",
       "<div id=\"ldavis_el56841405633523381287407386417\"></div>\n",
       "<script type=\"text/javascript\">\n",
       "\n",
       "var ldavis_el56841405633523381287407386417_data = {\"mdsDat\": {\"x\": [0.16257365880844327, 0.20879184413877963, 0.1698370804335416, -0.06517443169077387, 0.07038069089859804, 0.013627722960674105, -0.13366711171906384, -0.017155762711067505, -0.2413935571076624, -0.16782013401146914], \"y\": [0.00613195949914798, -0.03654057522302257, 0.022003324739973483, -0.1288202243709063, -0.018381875159021347, 0.07173036158538418, -0.00025270957441950783, -0.02672647887410027, -0.17570929623345058, 0.28656551361041477], \"topics\": [1, 2, 3, 4, 5, 6, 7, 8, 9, 10], \"cluster\": [1, 1, 1, 1, 1, 1, 1, 1, 1, 1], \"Freq\": [34.685093703202114, 17.113828037771533, 15.042162998968678, 6.841126670395549, 6.0825313389774225, 5.45298762253865, 4.779774827184639, 4.364340191827785, 3.234359165998476, 2.4037954431351514]}, \"tinfo\": {\"Term\": [\"president\", \"talk\", \"medium\", \"senator\", \"parlade\", \"government\", \"year\", \"vice\", \"budget\", \"member\", \"decision\", \"time\", \"percent\", \"join\", \"part\", \"child\", \"group\", \"control\", \"candidate\", \"statement\", \"elcac\", \"school\", \"teddycasino\", \"news\", \"truth\", \"call\", \"kill\", \"substitution\", \"nothing\", \"question\", \"philippinestar\", \"daughter\", \"rice\", \"wake\", \"eleazar\", \"lakascmd\", \"spokesman\", \"aquino\", \"presidency\", \"speculation\", \"rule\", \"joma\", \"placeholder\", \"field\", \"play\", \"advocacy\", \"trust\", \"column\", \"china\", \"inquiry\", \"bomb\", \"generate\", \"spokesperson_harry_roque\", \"analyst\", \"guillermo_eleazar\", \"slide\", \"disqualification\", \"davao_city_mayor_sara_dutertecarpio\", \"circus\", \"choice\", \"life\", \"drug\", \"substitution\", \"roque\", \"announce\", \"campaign\", \"party\", \"sara\", \"candidate\", \"commission\", \"poll\", \"name\", \"candidacy\", \"marcos\", \"election\", \"duterte\", \"administration\", \"place\", \"position\", \"comelec\", \"president\", \"vice\", \"country\", \"file\", \"withdrawal\", \"senator\", \"work\", \"post\", \"year\", \"substitute\", \"plan\", \"allegation\", \"officer\", \"council\", \"instance\", \"lorenzana\", \"secretary_delfin_lorenzana\", \"discontent\", \"july\", \"deputy\", \"commander\", \"react\", \"defense\", \"trouble\", \"modernization\", \"act\", \"bridge\", \"implement\", \"anyone\", \"endeavor\", \"appoint\", \"air\", \"abate\", \"jail\", \"management\", \"retirement\", \"assist\", \"landscape\", \"baseless\", \"nagkokontrol\", \"general\", \"parlade\", \"bayan\", \"bong\", \"control\", \"statement\", \"command\", \"decision\", \"department\", \"army\", \"retire\", \"influence\", \"security\", \"monday\", \"claim\", \"president\", \"spokesperson\", \"duterte\", \"chief\", \"problem\", \"senator\", \"aspirant\", \"organization\", \"candidacy\", \"manila\", \"force\", \"viber\", \"sent\", \"covid\", \"corruption\", \"rest\", \"die\", \"livelihood\", \"justify\", \"partido_demokratiko_pilipinolakas_bayan_pdplaban\", \"representative\", \"meet\", \"begin\", \"withdrew\", \"quality\", \"round\", \"reach\", \"crisis\", \"davao_city_mayor\", \"proposal\", \"joseph\", \"team\", \"robredos\", \"manuel\", \"read\", \"petition\", \"chairperson_senate_committee_health_demography\", \"discussion\", \"lacson\", \"cocs\", \"brief\", \"body\", \"vice\", \"substitute\", \"number\", \"robredo\", \"president\", \"senator\", \"sison\", \"candidate\", \"plan\", \"file\", \"member\", \"withdrawal\", \"talk\", \"survey\", \"manila\", \"time\", \"race\", \"election\", \"party\", \"medium\", \"substitution\", \"duterte\", \"control\", \"comelec\", \"decision\", \"poll\", \"marcos\", \"parent\", \"recruit\", \"kabataan\", \"gabriela\", \"complain\", \"npas\", \"kind\", \"today\", \"society\", \"freedom\", \"violence\", \"child\", \"page\", \"student\", \"victim\", \"mnlf\", \"surrender\", \"school\", \"hope\", \"soberano\", \"dinforcor\", \"govt\", \"count\", \"reveal\", \"worker\", \"tama\", \"activist\", \"mass\", \"badoy\", \"npa\", \"look\", \"davao\", \"group\", \"member\", \"arm\", \"case\", \"press\", \"force\", \"time\", \"year\", \"health\", \"city\", \"work\", \"leni\", \"task\", \"fact\", \"medium\", \"decision\", \"bloc\", \"terror\", \"version\", \"rebel\", \"understand\", \"agency\", \"panel\", \"become\", \"solcom\", \"speak\", \"opinion\", \"bank\", \"challenge\", \"finance\", \"budget\", \"deliberation\", \"college\", \"fund\", \"death\", \"remark\", \"butch\", \"view\", \"chairman\", \"caser\", \"drilon\", \"denounce\", \"stress\", \"association\", \"chairperson\", \"courage\", \"government\", \"interview\", \"development\", \"issue\", \"ask\", \"think\", \"peace\", \"problem\", \"service\", \"senate\", \"insurgency\", \"senator\", \"time\", \"program\", \"report\", \"claim\", \"elcac\", \"president\", \"talk\", \"pantry\", \"revolution\", \"waste\", \"twist\", \"gain\", \"shock\", \"elcac\", \"drive\", \"prog\", \"sign\", \"garner\", \"duplicity\", \"message\", \"ronald_dela_rosa\", \"funding\", \"brand\", \"respond\", \"attempt\", \"machinery\", \"comfort\", \"relate\", \"road\", \"drag\", \"rise\", \"company\", \"malac\", \"insurgency\", \"admit\", \"firm\", \"mention\", \"question\", \"call\", \"news\", \"medium\", \"video\", \"senator\", \"report\", \"post\", \"time\", \"drop\", \"labor\", \"race\", \"election\", \"show\", \"period\", \"day\", \"candidate\", \"file\", \"effort\", \"kill\", \"teddycasino\", \"watch\", \"cppnpa\", \"church\", \"family\", \"palabay\", \"character\", \"hndi\", \"reclamation\", \"evidence\", \"ceasefire\", \"path\", \"speech\", \"enemy\", \"fight\", \"research\", \"programa\", \"rescue\", \"nothing\", \"mean\", \"anything\", \"baka\", \"kill\", \"oath\", \"love\", \"star\", \"door\", \"troop\", \"pilipino\", \"conflict\", \"investigation\", \"release\", \"person\", \"step\", \"leader\", \"quismorio\", \"help\", \"time\", \"case\", \"accord\", \"hand\", \"plan\", \"filipino\", \"democracy\", \"extortion\", \"mind\", \"iamkarendavila\", \"operation\", \"woman\", \"judge\", \"unit\", \"catch\", \"crime\", \"percent\", \"policeman\", \"turn\", \"arrest\", \"staff\", \"constitution\", \"wait\", \"money\", \"history\", \"hide\", \"respect\", \"bill\", \"makabayan_bloc\", \"push\", \"cover\", \"law\", \"join\", \"gordon\", \"dance\", \"make\", \"power\", \"conduct\", \"caser\", \"side\", \"change\", \"survey\", \"break\", \"support\", \"year\", \"member\", \"peace\", \"time\", \"face\", \"labor\", \"order\", \"jabidah\", \"priest\", \"massacre\", \"rebellion\", \"pay\", \"foundation\", \"teach\", \"activism\", \"manilabulletin\", \"farmer\", \"document\", \"lie\", \"tentorio\", \"pop\", \"decline\", \"book\", \"ibon\", \"africa\", \"sharpmoderato\", \"rapplerdotcom\", \"product\", \"propaganda\", \"hero\", \"genesperon\", \"escape\", \"traitor\", \"story\", \"friend\", \"kid\", \"gun\", \"quismorio\", \"wife\", \"justice\", \"mindanao\", \"policy\", \"state\", \"explain\", \"school\", \"report\", \"call\", \"child\", \"news\", \"issue\", \"please\", \"bishop\", \"silence\", \"shout\", \"rappler\", \"terrorist\", \"town\", \"phil\", \"deception\", \"sister\", \"share\", \"forum\", \"tweet\", \"opportunity\", \"dissenter\", \"wonder\", \"entry\", \"truth\", \"debate\", \"side\", \"something\", \"link\", \"think\", \"talk\", \"inquirerdotnet\", \"twitter\", \"street\", \"news\", \"faith\", \"answer\", \"medium\", \"part\", \"year\", \"look\"], \"Freq\": [600.0, 80.0, 108.0, 280.0, 135.0, 98.0, 142.0, 186.0, 59.0, 119.0, 179.0, 126.0, 43.0, 59.0, 57.0, 54.0, 70.0, 122.0, 258.0, 111.0, 44.0, 48.0, 32.0, 41.0, 31.0, 56.0, 43.0, 157.0, 36.0, 44.0, 49.499034477755366, 45.328621737534284, 35.93513998476506, 24.208060582976607, 18.61485038010532, 18.614735877319653, 18.614506871748322, 18.02091799811744, 41.9952063488541, 14.926143139890213, 34.97453623282415, 13.408411288989896, 13.082370396273985, 13.08155215164833, 12.489225381756073, 12.48772526660904, 12.16025501889454, 12.159650341262374, 11.566636554656125, 11.565544275273764, 11.564722171003648, 11.563301821842135, 11.238058588981422, 11.23810490471495, 11.238017419440508, 11.237944086195757, 11.237806425543328, 11.237775548387642, 11.237619876061062, 11.237262215674377, 24.623919261935978, 20.52981169270167, 134.33254791144486, 25.359521180399653, 23.42249942661446, 41.56152640487182, 112.23869764015232, 44.79356694524525, 164.16344146852813, 34.4337434357703, 57.43161764430714, 57.346854705758965, 67.5177897884267, 60.57335794287954, 117.17281565670312, 138.94752993921983, 37.254016520312646, 25.57066431716689, 37.9968668510734, 39.65674297471816, 244.3016408077353, 90.18536848950384, 48.82581985235341, 57.481170332989095, 39.109682115060245, 85.41472957372774, 40.83754716242727, 36.858297466148876, 49.68449811337784, 42.60089006167646, 36.02256350489477, 29.204234845822135, 28.267911415715727, 24.522272369322597, 22.64974738886302, 22.649762623832174, 20.77674885477889, 18.90417436066956, 18.903730007402554, 18.90367541542975, 17.96743831681522, 16.760675140504556, 58.827817295945614, 15.1584235911693, 15.158280128543094, 13.285220654582345, 23.920371747127163, 10.810080277957832, 10.476035805114199, 9.540249407670489, 9.539718722911607, 7.667428614893161, 7.667426075731636, 7.666633857335601, 7.665588992367753, 15.158169675016723, 6.730437385305482, 13.285861792867598, 5.794630674569566, 5.794555134514175, 5.793681662949315, 110.63676242264846, 12.131852236416002, 18.76465505231395, 92.88451931472167, 84.22181428699791, 19.843838057763097, 118.42314186795787, 24.432375894664798, 37.989081160419246, 59.98796019706267, 25.924740150649995, 30.07826248705569, 36.62615828069394, 39.78493615860868, 183.2122451660544, 36.27666047080457, 63.572641794338246, 28.414233137798835, 30.098982045105842, 50.200990620580754, 27.981458447349304, 23.2807468021436, 26.461404634925756, 23.572582792944623, 24.358636104795373, 23.80349134471766, 22.89700939641192, 38.36798533620209, 10.463852050284894, 9.234620811751315, 6.515927638233774, 12.276804787943083, 5.609468565782286, 5.609450711457015, 5.60914384024143, 5.608905596588602, 5.608757182509792, 5.608518938856964, 5.608392842684742, 4.702413605224896, 4.701334534441364, 9.163032778684139, 12.861378831099355, 9.135538791610648, 9.083866142487322, 10.445197628063267, 14.134353166545523, 12.981030707794568, 4.702853825932346, 8.328968531622985, 5.60946075451498, 9.235255756193746, 22.43474306083484, 21.117229995106218, 12.866549890055808, 14.611411810609168, 87.83297838490623, 48.53531386829077, 23.363670127796187, 33.385543935487874, 159.04497258039964, 89.63568497164984, 10.14139512463336, 64.79211445799967, 26.248978190894523, 33.313343275884854, 31.851533785111158, 21.72166585923053, 24.12915423765057, 17.785571611514072, 19.88321268150483, 27.934096191406987, 18.047869504062174, 30.52237300393423, 24.816907310649412, 20.873520686955306, 22.385143745233545, 24.352612277363477, 19.8834849599652, 16.651188128293743, 20.867639918569356, 17.280223904954738, 16.979156460977197, 20.295163432893784, 18.703922391873608, 12.25425961050642, 10.872885312122282, 7.354839033801227, 6.768672653909979, 6.768131652987063, 5.972613141093773, 5.386913666314236, 21.11378004516672, 4.7993800664545665, 43.3091802919884, 8.527552930256434, 9.699512165949562, 4.214246714122978, 4.21390389411976, 4.203081591886425, 35.50954258099959, 9.3461228520182, 3.0399529528712987, 6.768871596088013, 10.391661438649063, 7.941398222992979, 9.80085696547964, 15.222736749605422, 7.309385313670664, 15.338111032731286, 7.339525561148239, 3.627413218178096, 2.45536415400152, 20.789071900238838, 13.552309616650277, 32.7902506699982, 39.608924801327916, 9.542335665170043, 18.253685792651275, 15.169815085215275, 21.299851882294437, 26.723372939388994, 27.32138703648989, 13.700285041695762, 10.938424579650848, 14.154322857534087, 9.982517564312806, 10.927974025237434, 9.242919567141291, 10.687173803939471, 10.16320578250028, 29.367200777537587, 18.589543472328398, 16.119094221536677, 11.440655187643038, 10.70510410724297, 17.47908742497373, 6.025664697455985, 5.289897929335114, 5.289409247741747, 5.289292830520059, 11.17266815807074, 3.817520142621359, 20.670319915733664, 8.78697244958637, 39.93869491510462, 5.290547699874771, 7.025217096888919, 19.61478391832529, 17.50613412368693, 10.654556471553114, 3.769297692758482, 4.554379788691569, 3.0823749431938046, 9.616985727107158, 6.011029518509307, 2.8186064586043167, 3.080982674443728, 3.082511891359628, 3.079541672903178, 2.3465192828532717, 47.61350657212881, 18.644748699344873, 9.802864321943956, 19.210646496758816, 7.287679271955972, 7.77268424701902, 9.16696187101378, 15.686668317558993, 10.934338641338343, 11.592809789012586, 8.427730562473824, 18.392984274245997, 13.526846385545442, 10.106351384458566, 8.771266051708341, 10.111848262732243, 8.8774439726427, 11.032537921521168, 8.957305284261889, 13.306182132702812, 9.324155156527237, 9.323968264981126, 8.315726399273062, 6.086112681349704, 5.34060554013617, 35.008294645806274, 3.855988045628213, 3.8560030131329883, 8.581376146454314, 5.185844776979887, 5.184005796528342, 4.599637193613867, 4.59944382963326, 7.838170764758881, 4.59963678908671, 5.278460055783201, 3.750889463315391, 3.741253626457538, 3.856411181033474, 3.419683663328252, 7.503066941095744, 4.5729226247534225, 4.522592974102428, 4.522355516661809, 2.908314817418714, 15.563418582952018, 4.9780735617092615, 7.254490667064055, 12.786284640761616, 22.192576609168196, 22.648253796972885, 14.995847565666656, 28.46751771265071, 5.342910131344364, 36.031612429567176, 10.397066351515058, 13.713485154129003, 18.91299890371287, 7.600232745877815, 8.37331245804984, 9.347846693950284, 14.30627601243309, 8.675632591929848, 6.756222433104206, 7.602502952277742, 11.60409124361278, 9.326100932147986, 6.661513321741016, 7.17308281311997, 31.76147872171856, 17.258016365720504, 14.40671732948898, 13.587785785419266, 11.143493827432048, 7.725622953723006, 6.584936542351383, 6.584857115266139, 6.584697551925247, 11.718074326281558, 7.72557543930594, 4.099863031113683, 3.5294616734547466, 5.662748369123377, 10.434083014698862, 8.1668148821201, 2.9589005751623167, 2.958813347202629, 25.380059901897408, 10.142511858130565, 12.245326210711168, 5.988398000283867, 27.811303124451648, 9.84203706714047, 2.388785367761381, 6.551245274799755, 3.529453163409899, 2.2131797058682547, 4.002933974884779, 6.013194852628951, 6.584572028763745, 10.377818144018583, 11.440442623173622, 7.578971478375615, 10.983841840239148, 9.319139488991214, 11.00026339011339, 19.760973736205425, 9.307576465554543, 8.68953942269079, 6.978816876418275, 8.537028072295426, 7.451970405751724, 20.428132427448993, 17.81395710736986, 14.966263334753252, 7.543571082294331, 7.311685059903293, 10.75981202366216, 14.75189242661481, 4.697620791696473, 4.697414552505027, 4.697027004134285, 32.62818233476043, 6.237795323673513, 8.198431346462348, 3.9969411077896924, 5.225581142444555, 8.660081426313901, 2.9298245644721157, 10.065688609185212, 7.544669945427411, 4.618286046398793, 8.136116676604514, 2.737146652103437, 2.0830789680620496, 7.54496586790933, 5.186369147225496, 3.2664927230075524, 26.219578870937813, 2.083567693430165, 2.083387031783654, 3.2340623386268774, 7.922529930666521, 6.862037647721013, 6.549948862336422, 5.3511073150649455, 10.747370976298665, 12.739863021889482, 6.420706499073285, 13.249466142000422, 17.600070553753245, 14.92193712561253, 7.66431975804032, 14.092311648457315, 7.04344525199821, 6.942815419826039, 6.52179737458709, 13.027156719136137, 12.59658273899451, 10.444046833812939, 8.568275170006094, 8.568163838163906, 8.137789487532409, 8.137727103310494, 8.13745933103489, 7.553461914423606, 6.261947281566936, 6.261785082589958, 15.975969631624881, 5.831521583922015, 5.400976396498196, 5.4005224313141085, 20.707693853964358, 17.14358728024418, 3.09465378672397, 2.6640179022390593, 2.6640306190227574, 2.663940641779611, 9.69877132731429, 8.996773195193846, 2.233591484776193, 2.2335132645594844, 4.109372026337695, 15.804641443587036, 10.6809907464608, 4.622053240091838, 4.063705816138781, 11.116786765855327, 5.970044309048002, 7.415402752054309, 7.2049385422161425, 5.677729120785799, 9.972910632582291, 6.858793448499525, 10.715953743693651, 8.428846434026452, 9.60987860987196, 8.91386648378356, 6.725929452179844, 6.321892280404895, 18.139138328563657, 14.182505934189997, 8.310071443988688, 7.870130978963188, 6.834275436551455, 6.834035768610005, 14.33937430824906, 5.075762203626572, 5.07568909063848, 9.097422002906137, 17.921118964562417, 14.047036483474752, 5.33529084248142, 4.636103134443044, 2.2808732561283382, 2.28060862277632, 5.008959401380571, 18.015531014355332, 4.9799499509495275, 7.273872092208563, 10.01284297814399, 4.196546780091566, 9.001213870147234, 33.063402275594775, 2.2810567518960116, 4.7723504360218385, 1.3436503444903634, 14.60181070413761, 1.199896657251281, 3.3381086411772385, 22.875128070688405, 12.035427841349614, 7.878096371529201, 3.6337779216674573], \"Total\": [600.0, 80.0, 108.0, 280.0, 135.0, 98.0, 142.0, 186.0, 59.0, 119.0, 179.0, 126.0, 43.0, 59.0, 57.0, 54.0, 70.0, 122.0, 258.0, 111.0, 44.0, 48.0, 32.0, 41.0, 31.0, 56.0, 43.0, 157.0, 36.0, 44.0, 50.63183240607428, 46.47742596297941, 37.06748242243913, 25.340880713885024, 19.74711569815638, 19.747023169749184, 19.746838675799385, 19.153294486194284, 45.09238081659865, 16.058461832825753, 37.78501176933421, 14.541006136451434, 14.214631802735763, 14.213932398487835, 13.621488742877741, 13.620186751511163, 13.292509935783626, 13.292000939181072, 12.698957357126423, 12.69799041209948, 12.697193221251954, 12.69608900298554, 12.37032613945871, 12.370377437256126, 12.370289959202381, 12.37024289980058, 12.37011668734727, 12.370104369726684, 12.369957192054352, 12.369661698372985, 27.372782996064796, 22.759652795170883, 157.6789681027821, 28.925910038469624, 27.07994937618262, 51.23225807431126, 157.26823816126787, 58.26259120165822, 258.0941648243632, 43.76228613170232, 79.41124838786914, 79.43983331849742, 96.21895580041544, 85.09203013855841, 187.7864505616143, 235.84342362598136, 49.84720578109635, 32.66760657905213, 53.61459976979744, 57.26921056822329, 600.042464925289, 186.13950030730808, 82.65881107346826, 107.49655525848675, 61.79259752689385, 280.44705747735094, 75.53279182649905, 66.46231749809046, 142.89167537310496, 107.67348840105535, 71.66248290977002, 30.333819955571226, 29.397480261919913, 25.651841380867836, 23.779292460926598, 23.779308792680627, 21.90631292769465, 20.033717775455, 20.03331588131097, 20.033280812681614, 19.09702129293944, 17.890525576795305, 63.16963938198981, 16.28798340124807, 16.287878494110156, 14.4148355013745, 26.356647634063137, 11.939714292547974, 11.60565170322037, 10.669781035715253, 10.669299816505205, 8.79695971392287, 8.796959561099731, 8.796262544624733, 8.796171799132507, 17.428147109533956, 7.860016350563175, 15.55579039947784, 6.9241625416499675, 6.92408829571138, 6.9232997764000705, 135.25937069964783, 14.652746366585433, 22.94732166300464, 122.2364971858983, 111.23983129834174, 24.862979391605535, 179.87026990804696, 31.5204284968534, 53.08586890459211, 93.8069925902411, 36.62071870267551, 44.17795905506762, 60.638502887281646, 67.90635985660397, 600.042464925289, 65.50497712426099, 235.84342362598136, 55.38685867208335, 71.51419836999546, 280.44705747735094, 65.19077326648906, 41.0144959127026, 96.21895580041544, 59.28721111496772, 79.3581576301802, 24.938659840894715, 24.032174803347196, 40.80408170409098, 11.599234788491062, 10.36993974278101, 7.6511123217572505, 14.719055951345466, 6.744657474412502, 6.744648416029343, 6.744370203265739, 6.744134367444517, 6.744013058265728, 6.743795360667874, 6.743679423170448, 5.837667722065967, 5.836689522385861, 11.65684167040605, 16.44356986517448, 12.215740335596951, 12.24743071143435, 14.30475862449366, 19.50591561510508, 18.010919439187816, 6.573664110336086, 11.745265041189315, 7.916588706578739, 13.13364755906627, 32.1331715544482, 31.292698489927247, 19.528066983266175, 22.593263300018556, 186.13950030730808, 107.67348840105535, 43.60437940227211, 68.96453450982142, 600.042464925289, 280.44705747735094, 16.165797726548007, 258.0941648243632, 71.66248290977002, 107.49655525848675, 119.34026656052504, 61.79259752689385, 80.74458701879634, 47.45377416782242, 59.28721111496772, 126.39831804352536, 52.26350329380344, 187.7864505616143, 157.26823816126787, 108.84848433340174, 157.6789681027821, 235.84342362598136, 122.2364971858983, 57.26921056822329, 179.87026990804696, 79.41124838786914, 85.09203013855841, 21.49073779509495, 19.89952840160288, 13.449938646413571, 12.068480674282037, 8.55049232722596, 7.964310623085482, 7.963880301358814, 7.168313554195575, 6.582504256635837, 26.158057440438238, 5.995228135429987, 54.38004908348173, 10.863636135251019, 12.366999767873716, 5.409867989239043, 5.409556846093124, 5.412675333628151, 48.96633764722957, 12.941647257786563, 4.235949653677722, 9.450811606911866, 14.872816498927529, 11.584148963660699, 14.462569059139188, 22.60502917386441, 11.562258197302283, 24.55314022752049, 12.246848160610261, 6.3092185393241165, 4.304205959537968, 37.595833958743206, 25.761370533742582, 70.15354681039192, 119.34026656052504, 17.913795948196103, 51.81923874049104, 39.42268132900642, 79.3581576301802, 126.39831804352536, 142.89167537310496, 45.05346692235327, 36.11270218627209, 75.53279182649905, 28.8461488475191, 48.704720955040855, 31.80402789514305, 108.84848433340174, 179.87026990804696, 30.534613166905178, 19.757010123335547, 17.286535201896363, 12.608073500045322, 11.87245247175455, 20.83469857844194, 7.193506694599126, 6.457305138894089, 6.45693074682843, 6.457219975910978, 14.189700173901876, 4.984984791941188, 27.463954421032472, 12.72691885653819, 59.143668832258825, 8.301081190511946, 11.20527278459062, 31.366021532023506, 28.00044662988225, 17.086924046585047, 6.147797615183254, 7.4325774687081285, 5.421833418743213, 17.211130438792644, 10.816153532255319, 5.237397758656452, 6.0611555595293245, 6.093022428469563, 6.0906721438573586, 4.654263140269245, 98.8254987964207, 47.87775669320142, 23.57750029557757, 60.63116389688806, 17.99939606799231, 20.044796634104202, 27.590752589690858, 71.51419836999546, 37.74361514022049, 47.062733976115396, 27.17884500826171, 280.44705747735094, 126.39831804352536, 54.2366329004696, 37.53409969617335, 67.90635985660397, 44.9129046246212, 600.042464925289, 80.74458701879634, 14.472200620103767, 10.490190856040574, 10.49007319857614, 9.481746302508993, 7.252095054555011, 6.506959448251691, 44.9129046246212, 5.022009939170513, 5.02204253516257, 11.61965847473017, 7.1430716309654905, 7.322919077278737, 6.937833067184333, 6.9377163083735605, 11.988981224555333, 7.237423611112918, 8.366946031465984, 6.138187298444017, 6.135709045082127, 6.328974176446971, 5.622479952454075, 12.460556030977681, 7.614572246100157, 7.627231526962721, 7.627225895933609, 5.0538146342009975, 27.17884500826171, 8.776553919043275, 12.90253685422905, 22.79558000714127, 44.3625428479267, 56.43389567674546, 41.2580455532861, 108.84848433340174, 10.611964183769047, 280.44705747735094, 37.53409969617335, 66.46231749809046, 126.39831804352536, 22.891347060731686, 32.63597844222763, 52.26350329380344, 187.7864505616143, 44.0915891198883, 22.718213502134677, 34.762812056079675, 258.0941648243632, 107.49655525848675, 25.364731432537376, 43.480812811547914, 32.96006255217788, 18.45667281299502, 15.605302413877894, 14.832504124805391, 12.722731184061773, 8.924212081199228, 7.783513774398689, 7.783459720509186, 7.783333729140618, 14.759684295378948, 9.784489360393895, 5.298461151333862, 4.728055091142454, 7.9177932080184, 14.629197442029296, 11.472857382392743, 4.157544027809205, 4.157474526921769, 36.749500261033944, 15.138580812338258, 18.451494323058483, 9.072531960363067, 43.480812811547914, 16.245762739985587, 4.017703618815835, 11.133419749932253, 6.213449441278009, 3.9746852006510194, 7.2296178011951415, 10.899456566235937, 12.24185509837407, 21.484696014962587, 26.01324510065212, 15.917376025476633, 26.06260909701223, 21.5533682091924, 36.32835736167265, 126.39831804352536, 51.81923874049104, 53.685397935626156, 20.54487403906419, 71.66248290977002, 50.11013895020944, 21.611052454000546, 18.996886569304085, 16.14927305655256, 8.726695726447229, 8.494591297827299, 13.162139880281217, 18.080781581871747, 5.880539523863059, 5.880363550226098, 5.880012430178947, 43.272009653869716, 8.280663531280958, 11.088251885475472, 6.719304738099612, 8.805545356922078, 14.723437543744192, 5.276711440133566, 18.43124074491554, 14.259299338716984, 8.803198277134646, 16.869245446035965, 5.763241500247631, 4.438388238278196, 16.103385409587812, 11.211434831243205, 7.201240099661346, 59.1124002714269, 4.738288446810519, 4.7527305252771255, 7.403114742482828, 19.636403024797758, 17.876342795296296, 17.211130438792644, 13.72501376860175, 35.871781475153526, 47.45377416782242, 18.737738078161758, 75.79630396541307, 142.89167537310496, 119.34026656052504, 27.590752589690858, 126.39831804352536, 31.161455128194685, 32.63597844222763, 28.24550375536043, 14.252112850615474, 13.821556101104168, 11.668997845647088, 9.793237217555355, 9.79317190584162, 9.362740633800833, 9.36269748697496, 9.3625162845699, 8.77845409388222, 7.48692415356539, 7.486810279500992, 19.213835539233095, 7.056478769398317, 6.6259391906148615, 6.625612466071931, 25.83275998984687, 22.938696187949816, 4.319627098999605, 3.889019898388077, 3.8890400482071454, 3.88896102385615, 14.626320668766187, 13.91321287397876, 3.4585771631066664, 3.458509274331539, 7.176763153754833, 28.264280483122796, 19.308259764760166, 8.410440237157577, 7.630204388758348, 21.5533682091924, 11.507725901366312, 16.57525642709473, 16.39718982594324, 12.434512586481903, 34.40802185148332, 20.060391390017756, 48.96633764722957, 37.53409969617335, 56.43389567674546, 54.38004908348173, 41.2580455532861, 60.63116389688806, 19.362415330533835, 15.405751035111717, 9.53334897022317, 9.09348406871206, 8.057538159077346, 8.05737147208048, 17.405501539641776, 6.299015974032029, 6.298951863612732, 11.580453483110446, 23.55227711938758, 19.825944711871855, 8.025922556037466, 6.998538381159369, 3.5041542205444323, 3.503936930864757, 8.57418626645245, 31.6143707436471, 9.313402021290315, 13.72501376860175, 20.08778902735877, 9.106232274681897, 20.044796634104202, 80.74458701879634, 5.7336442687538725, 12.549526008891881, 3.782546076143853, 41.2580455532861, 3.8253894273203732, 15.179880282457283, 108.84848433340174, 57.80669268682987, 142.89167537310496, 37.595833958743206], \"Category\": [\"Default\", \"Default\", \"Default\", \"Default\", \"Default\", \"Default\", \"Default\", \"Default\", \"Default\", \"Default\", \"Default\", \"Default\", \"Default\", \"Default\", \"Default\", \"Default\", \"Default\", \"Default\", \"Default\", \"Default\", \"Default\", \"Default\", \"Default\", \"Default\", \"Default\", \"Default\", \"Default\", \"Default\", \"Default\", \"Default\", \"Topic1\", \"Topic1\", \"Topic1\", \"Topic1\", \"Topic1\", \"Topic1\", \"Topic1\", \"Topic1\", \"Topic1\", \"Topic1\", \"Topic1\", \"Topic1\", \"Topic1\", \"Topic1\", \"Topic1\", \"Topic1\", \"Topic1\", \"Topic1\", \"Topic1\", \"Topic1\", \"Topic1\", \"Topic1\", \"Topic1\", \"Topic1\", \"Topic1\", \"Topic1\", \"Topic1\", \"Topic1\", \"Topic1\", \"Topic1\", \"Topic1\", \"Topic1\", \"Topic1\", \"Topic1\", \"Topic1\", \"Topic1\", \"Topic1\", \"Topic1\", \"Topic1\", \"Topic1\", \"Topic1\", \"Topic1\", \"Topic1\", \"Topic1\", \"Topic1\", \"Topic1\", \"Topic1\", \"Topic1\", \"Topic1\", \"Topic1\", \"Topic1\", \"Topic1\", \"Topic1\", \"Topic1\", \"Topic1\", \"Topic1\", \"Topic1\", \"Topic1\", \"Topic1\", \"Topic1\", \"Topic1\", \"Topic2\", \"Topic2\", \"Topic2\", \"Topic2\", \"Topic2\", \"Topic2\", \"Topic2\", \"Topic2\", \"Topic2\", \"Topic2\", \"Topic2\", \"Topic2\", \"Topic2\", \"Topic2\", \"Topic2\", \"Topic2\", \"Topic2\", \"Topic2\", \"Topic2\", \"Topic2\", \"Topic2\", \"Topic2\", \"Topic2\", \"Topic2\", \"Topic2\", \"Topic2\", \"Topic2\", \"Topic2\", \"Topic2\", \"Topic2\", \"Topic2\", \"Topic2\", \"Topic2\", \"Topic2\", \"Topic2\", \"Topic2\", \"Topic2\", \"Topic2\", \"Topic2\", \"Topic2\", \"Topic2\", \"Topic2\", \"Topic2\", \"Topic2\", \"Topic2\", \"Topic2\", \"Topic2\", \"Topic2\", \"Topic2\", \"Topic2\", \"Topic2\", \"Topic2\", \"Topic2\", \"Topic2\", \"Topic2\", \"Topic3\", \"Topic3\", \"Topic3\", \"Topic3\", \"Topic3\", \"Topic3\", \"Topic3\", \"Topic3\", \"Topic3\", \"Topic3\", \"Topic3\", \"Topic3\", \"Topic3\", \"Topic3\", \"Topic3\", \"Topic3\", \"Topic3\", \"Topic3\", \"Topic3\", \"Topic3\", \"Topic3\", \"Topic3\", \"Topic3\", \"Topic3\", \"Topic3\", \"Topic3\", \"Topic3\", \"Topic3\", \"Topic3\", \"Topic3\", \"Topic3\", \"Topic3\", \"Topic3\", \"Topic3\", \"Topic3\", \"Topic3\", \"Topic3\", \"Topic3\", \"Topic3\", \"Topic3\", \"Topic3\", \"Topic3\", \"Topic3\", \"Topic3\", \"Topic3\", \"Topic3\", \"Topic3\", \"Topic3\", \"Topic3\", \"Topic3\", \"Topic3\", \"Topic3\", \"Topic3\", \"Topic3\", \"Topic3\", \"Topic3\", \"Topic3\", \"Topic3\", \"Topic4\", \"Topic4\", \"Topic4\", \"Topic4\", \"Topic4\", \"Topic4\", \"Topic4\", \"Topic4\", \"Topic4\", \"Topic4\", \"Topic4\", \"Topic4\", \"Topic4\", \"Topic4\", \"Topic4\", \"Topic4\", \"Topic4\", \"Topic4\", \"Topic4\", \"Topic4\", \"Topic4\", \"Topic4\", \"Topic4\", \"Topic4\", \"Topic4\", \"Topic4\", \"Topic4\", \"Topic4\", \"Topic4\", \"Topic4\", \"Topic4\", \"Topic4\", \"Topic4\", \"Topic4\", \"Topic4\", \"Topic4\", \"Topic4\", \"Topic4\", \"Topic4\", \"Topic4\", \"Topic4\", \"Topic4\", \"Topic4\", \"Topic4\", \"Topic4\", \"Topic4\", \"Topic4\", \"Topic4\", \"Topic5\", \"Topic5\", \"Topic5\", \"Topic5\", \"Topic5\", \"Topic5\", \"Topic5\", \"Topic5\", \"Topic5\", \"Topic5\", \"Topic5\", \"Topic5\", \"Topic5\", \"Topic5\", \"Topic5\", \"Topic5\", \"Topic5\", \"Topic5\", \"Topic5\", \"Topic5\", \"Topic5\", \"Topic5\", \"Topic5\", \"Topic5\", \"Topic5\", \"Topic5\", \"Topic5\", \"Topic5\", \"Topic5\", \"Topic5\", \"Topic5\", \"Topic5\", \"Topic5\", \"Topic5\", \"Topic5\", \"Topic5\", \"Topic5\", \"Topic5\", \"Topic5\", \"Topic5\", \"Topic5\", \"Topic5\", \"Topic5\", \"Topic5\", \"Topic5\", \"Topic5\", \"Topic5\", \"Topic5\", \"Topic5\", \"Topic6\", \"Topic6\", \"Topic6\", \"Topic6\", \"Topic6\", \"Topic6\", \"Topic6\", \"Topic6\", \"Topic6\", \"Topic6\", \"Topic6\", \"Topic6\", \"Topic6\", \"Topic6\", \"Topic6\", \"Topic6\", \"Topic6\", \"Topic6\", \"Topic6\", \"Topic6\", \"Topic6\", \"Topic6\", \"Topic6\", \"Topic6\", \"Topic6\", \"Topic6\", \"Topic6\", \"Topic6\", \"Topic6\", \"Topic6\", \"Topic6\", \"Topic6\", \"Topic6\", \"Topic6\", \"Topic6\", \"Topic6\", \"Topic6\", \"Topic6\", \"Topic6\", \"Topic6\", \"Topic6\", \"Topic6\", \"Topic6\", \"Topic6\", \"Topic6\", \"Topic6\", \"Topic6\", \"Topic6\", \"Topic6\", \"Topic6\", \"Topic7\", \"Topic7\", \"Topic7\", \"Topic7\", \"Topic7\", \"Topic7\", \"Topic7\", \"Topic7\", \"Topic7\", \"Topic7\", \"Topic7\", \"Topic7\", \"Topic7\", \"Topic7\", \"Topic7\", \"Topic7\", \"Topic7\", \"Topic7\", \"Topic7\", \"Topic7\", \"Topic7\", \"Topic7\", \"Topic7\", \"Topic7\", \"Topic7\", \"Topic7\", \"Topic7\", \"Topic7\", \"Topic7\", \"Topic7\", \"Topic7\", \"Topic7\", \"Topic7\", \"Topic7\", \"Topic7\", \"Topic7\", \"Topic7\", \"Topic7\", \"Topic7\", \"Topic7\", \"Topic7\", \"Topic7\", \"Topic7\", \"Topic8\", \"Topic8\", \"Topic8\", \"Topic8\", \"Topic8\", \"Topic8\", \"Topic8\", \"Topic8\", \"Topic8\", \"Topic8\", \"Topic8\", \"Topic8\", \"Topic8\", \"Topic8\", \"Topic8\", \"Topic8\", \"Topic8\", \"Topic8\", \"Topic8\", \"Topic8\", \"Topic8\", \"Topic8\", \"Topic8\", \"Topic8\", \"Topic8\", \"Topic8\", \"Topic8\", \"Topic8\", \"Topic8\", \"Topic8\", \"Topic8\", \"Topic8\", \"Topic8\", \"Topic8\", \"Topic8\", \"Topic8\", \"Topic8\", \"Topic8\", \"Topic8\", \"Topic8\", \"Topic8\", \"Topic8\", \"Topic8\", \"Topic8\", \"Topic8\", \"Topic9\", \"Topic9\", \"Topic9\", \"Topic9\", \"Topic9\", \"Topic9\", \"Topic9\", \"Topic9\", \"Topic9\", \"Topic9\", \"Topic9\", \"Topic9\", \"Topic9\", \"Topic9\", \"Topic9\", \"Topic9\", \"Topic9\", \"Topic9\", \"Topic9\", \"Topic9\", \"Topic9\", \"Topic9\", \"Topic9\", \"Topic9\", \"Topic9\", \"Topic9\", \"Topic9\", \"Topic9\", \"Topic9\", \"Topic9\", \"Topic9\", \"Topic9\", \"Topic9\", \"Topic9\", \"Topic9\", \"Topic9\", \"Topic9\", \"Topic9\", \"Topic9\", \"Topic9\", \"Topic9\", \"Topic9\", \"Topic9\", \"Topic10\", \"Topic10\", \"Topic10\", \"Topic10\", \"Topic10\", \"Topic10\", \"Topic10\", \"Topic10\", \"Topic10\", \"Topic10\", \"Topic10\", \"Topic10\", \"Topic10\", \"Topic10\", \"Topic10\", \"Topic10\", \"Topic10\", \"Topic10\", \"Topic10\", \"Topic10\", \"Topic10\", \"Topic10\", \"Topic10\", \"Topic10\", \"Topic10\", \"Topic10\", \"Topic10\", \"Topic10\", \"Topic10\", \"Topic10\", \"Topic10\", \"Topic10\", \"Topic10\", \"Topic10\"], \"logprob\": [30.0, 29.0, 28.0, 27.0, 26.0, 25.0, 24.0, 23.0, 22.0, 21.0, 20.0, 19.0, 18.0, 17.0, 16.0, 15.0, 14.0, 13.0, 12.0, 11.0, 10.0, 9.0, 8.0, 7.0, 6.0, 5.0, 4.0, 3.0, 2.0, 1.0, -4.7152, -4.8032, -5.0354, -5.4305, -5.6932, -5.6932, -5.6932, -5.7256, -4.8796, -5.914, -5.0625, -6.0213, -6.0459, -6.046, -6.0923, -6.0924, -6.119, -6.119, -6.169, -6.1691, -6.1692, -6.1693, -6.1979, -6.1979, -6.1979, -6.1979, -6.1979, -6.1979, -6.1979, -6.1979, -5.4134, -5.5953, -3.7168, -5.384, -5.4635, -4.89, -3.8965, -4.8151, -3.5163, -5.0781, -4.5666, -4.568, -4.4048, -4.5133, -3.8535, -3.6831, -4.9994, -5.3757, -4.9797, -4.9369, -3.1188, -4.1153, -4.7289, -4.5657, -4.9508, -4.1696, -4.9076, -5.0101, -4.7115, -4.8653, -5.033, -4.5364, -4.569, -4.7112, -4.7906, -4.7906, -4.8769, -4.9714, -4.9714, -4.9714, -5.0222, -5.0917, -3.8361, -5.1922, -5.1922, -5.3241, -4.736, -5.5303, -5.5616, -5.6552, -5.6553, -5.8738, -5.8738, -5.8739, -5.874, -5.1922, -6.0041, -5.324, -6.1538, -6.1538, -6.154, -3.2045, -5.4149, -4.9788, -3.3794, -3.4773, -4.9228, -3.1365, -4.7148, -4.2734, -3.8166, -4.6555, -4.5069, -4.31, -4.2273, -2.7001, -4.3196, -3.7586, -4.5638, -4.5062, -3.9947, -4.5792, -4.7631, -4.6351, -4.7507, -4.7179, -4.6119, -4.6507, -4.1345, -5.4338, -5.5587, -5.9075, -5.274, -6.0573, -6.0573, -6.0573, -6.0574, -6.0574, -6.0574, -6.0574, -6.2336, -6.2339, -5.5665, -5.2275, -5.5695, -5.5752, -5.4356, -5.1331, -5.2182, -6.2335, -5.662, -6.0573, -5.5587, -4.6711, -4.7316, -5.2271, -5.0999, -3.3063, -3.8994, -4.6305, -4.2736, -2.7125, -3.286, -5.4651, -3.6105, -4.5141, -4.2758, -4.3206, -4.7034, -4.5983, -4.9033, -4.7918, -4.4519, -4.8887, -4.3632, -4.5702, -4.7432, -4.6733, -4.5891, -4.7918, -4.9692, -4.7435, -4.9321, -4.9497, -3.9834, -4.0651, -4.4879, -4.6075, -4.9984, -5.0815, -5.0816, -5.2066, -5.3098, -3.9439, -5.4253, -3.2254, -4.8505, -4.7217, -5.5553, -5.5554, -5.558, -3.424, -4.7588, -5.882, -5.0815, -4.6528, -4.9217, -4.7113, -4.271, -5.0046, -4.2635, -5.0005, -5.7053, -6.0955, -3.9594, -4.3872, -3.5037, -3.3147, -4.7381, -4.0894, -4.2745, -3.9351, -3.7083, -3.6861, -4.3764, -4.6015, -4.3438, -4.693, -4.6025, -4.7699, -4.6248, -4.675, -3.4964, -3.9537, -4.0963, -4.4391, -4.5056, -4.0153, -5.0802, -5.2105, -5.2106, -5.2106, -4.4628, -5.5367, -3.8476, -4.703, -3.1889, -5.2104, -4.9268, -3.9, -4.0137, -4.5103, -5.5494, -5.3602, -5.7506, -4.6127, -5.0827, -5.84, -5.751, -5.7505, -5.7515, -6.0233, -3.0132, -3.9507, -4.5936, -3.9208, -4.8901, -4.8257, -4.6607, -4.1235, -4.4844, -4.4259, -4.7447, -3.9643, -4.2716, -4.5631, -4.7048, -4.5626, -4.6928, -4.4754, -4.6838, -4.1788, -4.5344, -4.5344, -4.6489, -4.961, -5.0917, -3.2114, -5.4174, -5.4174, -4.6174, -5.1211, -5.1214, -5.241, -5.2411, -4.708, -5.241, -5.1034, -5.445, -5.4476, -5.4173, -5.5375, -4.7517, -5.2469, -5.2579, -5.258, -5.6994, -4.0221, -5.162, -4.7854, -4.2186, -3.6673, -3.6469, -4.0592, -3.4183, -5.0912, -3.1826, -4.4255, -4.1486, -3.8272, -4.7388, -4.642, -4.5319, -4.1063, -4.6065, -4.8566, -4.7385, -4.3157, -4.5342, -4.8707, -4.7967, -3.177, -3.787, -3.9676, -4.0261, -4.2244, -4.5907, -4.7505, -4.7505, -4.7505, -4.1741, -4.5907, -5.2243, -5.3741, -4.9013, -4.2902, -4.5352, -5.5504, -5.5505, -3.4013, -4.3185, -4.1301, -4.8454, -3.3098, -4.3486, -5.7645, -4.7556, -5.3741, -5.8408, -5.2482, -4.8413, -4.7505, -4.2956, -4.1981, -4.6099, -4.2388, -4.4032, -4.2373, -3.6515, -4.4044, -4.4731, -4.6924, -4.4908, -4.6268, -3.5274, -3.6643, -3.8385, -4.5236, -4.5548, -4.1685, -3.8529, -4.9973, -4.9973, -4.9974, -3.0591, -4.7137, -4.4404, -5.1588, -4.8908, -4.3856, -5.4694, -4.2352, -4.5235, -5.0143, -4.448, -5.5374, -5.8105, -4.5234, -4.8983, -5.3606, -3.2778, -5.8102, -5.8103, -5.3706, -4.4746, -4.6183, -4.6649, -4.867, -4.1697, -3.9996, -4.6848, -3.9604, -3.6764, -3.8415, -4.5077, -3.8987, -4.5922, -4.6066, -4.6692, -3.6776, -3.7113, -3.8987, -4.0966, -4.0966, -4.1482, -4.1482, -4.1482, -4.2227, -4.4102, -4.4102, -3.4736, -4.4814, -4.5581, -4.5582, -3.2142, -3.4031, -5.115, -5.2648, -5.2648, -5.2649, -3.9727, -4.0478, -5.4411, -5.4411, -4.8314, -3.4844, -3.8762, -4.7138, -4.8426, -3.8362, -4.4579, -4.2411, -4.2699, -4.5081, -3.9448, -4.3192, -3.8729, -4.113, -3.9819, -4.0571, -4.3387, -4.4007, -3.0498, -3.2959, -3.8304, -3.8848, -4.026, -4.026, -3.2849, -4.3234, -4.3234, -3.7399, -3.0619, -3.3055, -4.2736, -4.414, -5.1233, -5.1235, -4.3367, -3.0567, -4.3425, -3.9636, -3.644, -4.5136, -3.7505, -2.4495, -5.1233, -4.3851, -5.6525, -3.2668, -5.7657, -4.7425, -2.8179, -3.46, -3.8838, -4.6576], \"loglift\": [30.0, 29.0, 28.0, 27.0, 26.0, 25.0, 24.0, 23.0, 22.0, 21.0, 20.0, 19.0, 18.0, 17.0, 16.0, 15.0, 14.0, 13.0, 12.0, 11.0, 10.0, 9.0, 8.0, 7.0, 6.0, 5.0, 4.0, 3.0, 2.0, 1.0, 1.0362, 1.0338, 1.0278, 1.0131, 0.9998, 0.9998, 0.9998, 0.9979, 0.9877, 0.9857, 0.9816, 0.9778, 0.9759, 0.9758, 0.9721, 0.9721, 0.9698, 0.9698, 0.9655, 0.9654, 0.9654, 0.9654, 0.9629, 0.9629, 0.9629, 0.9629, 0.9629, 0.9629, 0.9629, 0.9628, 0.953, 0.9557, 0.8986, 0.9273, 0.9138, 0.8497, 0.7215, 0.796, 0.6064, 0.8191, 0.7348, 0.733, 0.7046, 0.719, 0.5872, 0.5298, 0.7677, 0.8139, 0.7145, 0.6914, 0.1603, 0.3342, 0.5324, 0.4329, 0.6014, -0.13, 0.4439, 0.4693, 0.0025, 0.1316, 0.371, 1.7273, 1.7261, 1.7202, 1.7166, 1.7166, 1.7123, 1.7072, 1.7072, 1.7072, 1.7043, 1.7, 1.6941, 1.6934, 1.6934, 1.6837, 1.6683, 1.6659, 1.6629, 1.6534, 1.6534, 1.6279, 1.6279, 1.6278, 1.6277, 1.6257, 1.6101, 1.6076, 1.5872, 1.5872, 1.5872, 1.5643, 1.5765, 1.5641, 1.4907, 1.487, 1.5398, 1.3473, 1.5106, 1.4307, 1.3182, 1.4199, 1.3809, 1.2611, 1.2306, 0.5789, 1.1743, 0.4543, 1.0978, 0.8999, 0.0449, 0.9195, 1.199, 0.4743, 0.843, 0.5842, 1.8477, 1.8459, 1.8328, 1.7913, 1.7784, 1.7337, 1.7129, 1.71, 1.71, 1.71, 1.71, 1.71, 1.71, 1.71, 1.6781, 1.678, 1.6536, 1.6486, 1.6038, 1.5955, 1.5799, 1.5722, 1.5668, 1.5594, 1.5506, 1.5498, 1.5422, 1.535, 1.501, 1.4771, 1.4585, 1.1433, 1.0975, 1.2703, 1.1688, 0.5665, 0.7537, 1.428, 0.5122, 0.89, 0.7228, 0.5734, 0.8488, 0.6864, 0.9129, 0.8018, 0.3847, 0.831, 0.0775, 0.0479, 0.2428, -0.0579, -0.3762, 0.0782, 0.659, -0.2597, 0.3692, 0.2826, 2.625, 2.6203, 2.5891, 2.5779, 2.5316, 2.5196, 2.5195, 2.4997, 2.4818, 2.468, 2.4597, 2.4546, 2.4401, 2.4393, 2.4325, 2.4324, 2.4293, 2.3609, 2.3567, 2.3505, 2.3485, 2.3237, 2.3047, 2.2931, 2.2868, 2.2236, 2.2117, 2.1702, 2.1287, 2.1209, 2.0898, 2.0399, 1.9217, 1.5793, 2.0524, 1.6388, 1.7272, 1.3669, 1.1283, 1.0278, 1.4918, 1.4879, 1.0077, 1.6211, 1.1878, 1.4465, 0.3613, -0.1912, 2.7608, 2.7388, 2.7298, 2.7026, 2.6962, 2.6241, 2.6226, 2.6003, 2.6003, 2.6002, 2.5607, 2.5329, 2.5156, 2.4293, 2.4071, 2.3493, 2.3329, 2.3303, 2.3301, 2.3274, 2.3105, 2.31, 2.235, 2.2177, 2.2123, 2.1802, 2.1231, 2.1183, 2.1178, 2.1149, 2.0695, 1.8567, 1.9221, 1.6504, 1.8956, 1.8524, 1.6979, 1.2827, 1.5608, 1.3987, 1.6288, 0.0753, 0.565, 1.1196, 1.346, 0.8953, 1.1785, -1.1964, 0.6009, 2.825, 2.7912, 2.7912, 2.7778, 2.7337, 2.7115, 2.6599, 2.6448, 2.6448, 2.6059, 2.5888, 2.5636, 2.498, 2.498, 2.484, 2.4557, 2.4484, 2.4165, 2.4143, 2.4136, 2.4118, 2.4018, 2.3991, 2.3864, 2.3863, 2.3564, 2.3515, 2.342, 2.3332, 2.3308, 2.2164, 1.996, 1.8969, 1.5678, 2.2228, 0.857, 1.6253, 1.3308, 1.0094, 1.8064, 1.5486, 1.1879, 0.3344, 1.2833, 1.6963, 1.3889, -0.193, 0.4644, 1.572, 1.107, 3.0037, 2.9736, 2.9609, 2.9531, 2.9082, 2.8966, 2.8736, 2.8735, 2.8735, 2.81, 2.8045, 2.7843, 2.7484, 2.7056, 2.7028, 2.7009, 2.7007, 2.7007, 2.6706, 2.6403, 2.6308, 2.6253, 2.5939, 2.5396, 2.5209, 2.5105, 2.4752, 2.4553, 2.4496, 2.446, 2.4206, 2.3131, 2.2193, 2.2987, 2.1767, 2.2023, 1.8461, 1.185, 1.3238, 1.2198, 1.961, 0.9132, 1.135, 3.0754, 3.0674, 3.0556, 2.986, 2.9817, 2.9302, 2.9282, 2.9071, 2.9071, 2.9071, 2.8494, 2.8484, 2.8298, 2.6122, 2.6099, 2.601, 2.5433, 2.5268, 2.4951, 2.4866, 2.4025, 2.3871, 2.3753, 2.3736, 2.3608, 2.3412, 2.3188, 2.3101, 2.307, 2.3035, 2.224, 2.1742, 2.1656, 2.1898, 1.9264, 1.8167, 2.0607, 1.3876, 1.0375, 1.0526, 1.8508, 0.9379, 1.6446, 1.584, 1.6659, 3.3415, 3.3385, 3.3204, 3.2977, 3.2977, 3.2911, 3.2911, 3.2911, 3.281, 3.2527, 3.2527, 3.2468, 3.2407, 3.2269, 3.2269, 3.2102, 3.1401, 3.0978, 3.053, 3.053, 3.053, 3.0205, 2.9954, 2.9941, 2.9941, 2.8738, 2.85, 2.8393, 2.8327, 2.8013, 2.7693, 2.7751, 2.627, 2.609, 2.6474, 2.1929, 2.3581, 1.9119, 1.9377, 1.6611, 1.623, 1.6175, 1.1705, 3.6629, 3.6454, 3.5908, 3.5836, 3.5635, 3.5634, 3.5343, 3.5122, 3.5122, 3.4868, 3.4549, 3.3835, 3.3198, 3.3163, 3.2987, 3.2987, 3.1906, 3.1657, 3.1021, 3.0932, 3.0319, 2.9534, 2.9275, 2.8353, 2.8064, 2.7613, 2.6931, 2.6894, 2.5687, 2.2136, 2.1682, 2.1589, 0.8301, 1.3915]}, \"token.table\": {\"Topic\": [2, 1, 2, 3, 4, 6, 7, 2, 9, 2, 4, 7, 1, 3, 5, 8, 4, 6, 1, 9, 1, 4, 5, 2, 2, 1, 1, 3, 1, 5, 6, 10, 2, 1, 7, 2, 1, 4, 5, 6, 9, 1, 2, 7, 9, 6, 8, 1, 3, 5, 6, 1, 2, 3, 6, 2, 1, 5, 6, 7, 4, 6, 1, 7, 5, 2, 2, 9, 5, 3, 1, 8, 10, 5, 1, 3, 1, 2, 5, 1, 9, 5, 6, 1, 8, 2, 8, 1, 3, 1, 3, 5, 4, 5, 1, 2, 4, 6, 8, 9, 1, 3, 6, 1, 2, 7, 1, 2, 3, 6, 8, 1, 3, 4, 7, 8, 5, 8, 8, 7, 9, 4, 5, 1, 5, 3, 4, 1, 3, 5, 1, 3, 6, 7, 8, 7, 1, 2, 5, 8, 4, 9, 10, 1, 1, 7, 1, 1, 3, 4, 5, 7, 8, 1, 2, 3, 5, 6, 2, 3, 6, 2, 5, 7, 1, 1, 3, 6, 8, 1, 2, 4, 2, 1, 2, 3, 1, 6, 4, 1, 3, 4, 8, 1, 7, 1, 8, 2, 3, 4, 5, 8, 3, 2, 4, 7, 8, 1, 2, 3, 5, 6, 7, 5, 7, 1, 8, 3, 4, 7, 8, 3, 8, 6, 8, 1, 1, 4, 5, 8, 3, 7, 8, 1, 1, 3, 6, 8, 1, 5, 3, 4, 10, 10, 1, 2, 3, 4, 5, 9, 2, 5, 1, 5, 8, 1, 5, 2, 5, 2, 1, 3, 5, 6, 3, 4, 6, 2, 3, 5, 9, 1, 10, 9, 6, 7, 1, 6, 3, 5, 6, 1, 6, 1, 7, 6, 10, 1, 2, 3, 5, 2, 4, 6, 5, 6, 1, 1, 2, 3, 6, 8, 2, 7, 8, 6, 10, 9, 1, 7, 3, 5, 9, 8, 1, 5, 6, 8, 10, 2, 3, 4, 5, 7, 8, 10, 7, 10, 7, 9, 1, 1, 7, 1, 2, 3, 6, 1, 2, 6, 7, 5, 8, 3, 6, 7, 1, 2, 3, 4, 5, 8, 3, 4, 8, 10, 9, 3, 4, 1, 5, 9, 3, 5, 6, 3, 4, 6, 4, 6, 6, 8, 2, 1, 9, 5, 8, 1, 2, 3, 4, 5, 7, 8, 4, 8, 9, 1, 4, 6, 8, 1, 7, 9, 1, 2, 7, 2, 3, 4, 8, 1, 2, 5, 7, 8, 1, 9, 4, 8, 1, 8, 7, 1, 4, 8, 4, 9, 2, 1, 2, 5, 6, 10, 1, 2, 1, 5, 6, 1, 2, 5, 6, 9, 7, 9, 1, 2, 3, 5, 6, 9, 9, 2, 1, 3, 5, 6, 8, 1, 2, 3, 1, 8, 2, 1, 8, 9, 3, 4, 4, 7, 9, 5, 6, 7, 4, 1, 3, 6, 7, 8, 1, 3, 5, 8, 1, 2, 7, 5, 7, 8, 1, 4, 7, 1, 4, 2, 9, 1, 5, 1, 10, 3, 8, 1, 4, 10, 2, 7, 9, 6, 7, 4, 8, 1, 8, 6, 9, 2, 1, 2, 3, 6, 8, 9, 1, 3, 1, 3, 6, 1, 4, 9, 1, 7, 1, 2, 3, 4, 5, 6, 7, 10, 3, 1, 3, 4, 5, 6, 8, 9, 2, 3, 6, 8, 4, 6, 8, 1, 5, 9, 4, 2, 1, 2, 3, 4, 6, 8, 2, 1, 2, 3, 6, 7, 8, 3, 6, 9, 10, 1, 3, 7, 4, 8, 4, 1, 3, 4, 1, 7, 2, 8, 1, 5, 7, 10, 1, 2, 8, 1, 2, 4, 5, 8, 4, 7, 7, 5, 6, 4, 1, 2, 3, 5, 1, 2, 3, 6, 10, 3, 1, 2, 3, 4, 7, 9, 1, 5, 8, 10, 1, 8, 1, 3, 6, 1, 6, 7, 9, 3, 7, 10, 1, 2, 7, 1, 3, 6, 8, 1, 1, 3, 7, 1, 10, 8, 9, 1, 9, 1, 3, 6, 9, 1, 3, 1, 3, 4, 6, 7, 9, 1, 8, 1, 6, 1, 2, 3, 5, 6, 1, 2, 3, 4, 9, 1, 2, 3, 5, 9, 6, 1, 2, 3, 4, 5, 8, 7, 1, 9, 1, 3, 1, 8, 3, 1, 2, 6, 7, 9, 1, 3, 6, 10, 9, 3, 2, 3, 5, 5, 9, 7, 4, 6, 8, 1, 2, 7, 1, 5, 1, 3, 5, 6, 9, 3, 7, 7, 8, 1, 2, 8, 1, 6, 3, 1, 2, 3, 6, 2, 7, 3, 4, 6, 6, 1, 1, 6, 6, 9, 1, 3, 4, 6, 1, 3, 4, 6, 1, 3, 3, 1, 6, 1, 3, 4, 8, 9, 2, 1, 2, 1, 5, 8, 1, 2, 3, 5, 6, 3, 2, 3, 5, 1, 10, 9, 6, 10, 1, 3, 6, 7, 8, 8, 10, 2, 6, 10, 3, 9, 7, 10, 1, 4, 4, 5, 1, 7, 10, 5, 1, 7, 1, 1, 2, 3, 5, 1, 3, 8, 10, 1, 6, 7, 1, 5, 7, 9, 1, 2, 3, 4, 1, 5, 7, 1, 3, 4, 6, 9, 7, 10, 3, 5, 4, 5, 1, 2, 3, 1, 3, 1, 2, 3, 4, 6, 8, 4, 1, 3, 8, 1, 2, 3, 5, 9, 10, 2, 4, 7, 1, 2, 3, 4, 9, 3, 6, 7, 9, 5, 10, 3, 5, 10, 2, 3, 4, 5, 6, 7, 8, 4, 1, 10, 1, 9, 7, 9, 2, 1, 2, 7, 10, 7, 8, 9, 10, 6, 3, 7, 10, 5, 8, 5, 3, 1, 3, 5, 6, 4, 4, 6, 5, 7, 4, 8, 9, 1, 6, 7, 1, 9, 1, 3, 3, 4, 8, 10, 1, 2, 4, 9, 1, 3, 4, 5, 1, 2, 3, 4, 5, 6, 8, 10], \"Freq\": [0.9094051125773163, 0.37254077959861415, 0.07450815591972283, 0.2607785457190299, 0.037254077959861416, 0.09313519489965354, 0.16764335081937637, 0.9018486543783597, 0.8544711439578029, 0.08145597595529926, 0.6109198196647444, 0.24436792786589778, 0.7422682860597088, 0.08024522011456313, 0.1003065251432039, 0.040122610057281564, 0.3418198107905007, 0.5696996846508345, 0.8810451882143684, 0.6945043938387133, 0.04799685468138805, 0.0959937093627761, 0.8159465295835968, 0.9094050967788873, 0.9560286189630973, 0.8892210488962987, 0.8493368905714788, 0.11078307268323635, 0.4611367065977187, 0.13175334474220535, 0.13175334474220535, 0.19763001711330802, 0.8616491564385971, 0.2709807624497705, 0.6503538298794492, 0.9372686279309715, 0.9397861037940194, 0.5582289777620799, 0.22329159110483196, 0.11164579555241598, 0.11164579555241598, 0.1318618333737865, 0.7158213811719839, 0.03767480953536757, 0.09418702383841894, 0.2976498429457525, 0.595299685891505, 0.16667225881732742, 0.16667225881732742, 0.38890193724043065, 0.22222967842310323, 0.3374710698716159, 0.4295086343820566, 0.16873553493580795, 0.0613583763402938, 0.8905833891170526, 0.3282443193799891, 0.4923664790699836, 0.65165818596216, 0.16291454649054, 0.6339929382805157, 0.31699646914025786, 0.22044562738800905, 0.6613368821640272, 0.8024096696275721, 0.8665307846124382, 0.8189591015760134, 0.06824659179800112, 0.7743168229550828, 0.8896779926376571, 0.3470269291880386, 0.520540393782058, 0.9087515414271056, 0.9497418500599031, 0.3098268677280564, 0.6639147165601208, 0.9450907606820518, 0.8279833384926809, 0.13073421134094962, 0.15484214623494091, 0.8129212677334399, 0.27634143135259354, 0.6908535783814838, 0.5870505796438766, 0.32020940707847817, 0.9105862146513116, 0.03794109227713798, 0.3072500726846886, 0.6657084908168253, 0.2367117271623156, 0.06763192204637589, 0.6763192204637588, 0.16265987636455267, 0.6506395054582107, 0.17719847053055154, 0.07087938821222062, 0.1594786234774964, 0.4075564822202685, 0.017719847053055154, 0.17719847053055154, 0.8197959953098285, 0.11711371361568979, 0.05855685680784489, 0.7067214504078665, 0.270217025155949, 0.010392962505998037, 0.6354269966219669, 0.05036921314686323, 0.25184606573431617, 0.04649465828941221, 0.015498219429804071, 0.11578711200386006, 0.2894677800096501, 0.3473613360115802, 0.1736806680057901, 0.03859570400128669, 0.5810193604401906, 0.40671355230813344, 0.8502875642455392, 0.8176205937105688, 0.1022025742138211, 0.18443945484252836, 0.5533183645275851, 0.3283709831626818, 0.49255647474402275, 0.7579022003522754, 0.1263170333920459, 0.07282272499215765, 0.1456454499843153, 0.7646386124176553, 0.4460330472040355, 0.05575413090050444, 0.05575413090050444, 0.1393853272512611, 0.30664771995277446, 0.8993367523835057, 0.3610964853307452, 0.5055350794630432, 0.07221929706614903, 0.036109648533074516, 0.7907311730077403, 0.1655018734202247, 0.018389097046691633, 0.9449594689178021, 0.8892725014013002, 0.9438729888223568, 0.8892512584494373, 0.35998413890339753, 0.05538217521590732, 0.30460196368749026, 0.08307326282386097, 0.05538217521590732, 0.08307326282386097, 0.07363080587088404, 0.5890464469670723, 0.14726161174176808, 0.14726161174176808, 0.029452322348353616, 0.15978168203069612, 0.6710830645289237, 0.15978168203069612, 0.178487399499134, 0.6247058982469691, 0.089243699749567, 0.9027986121056749, 0.6984555855252983, 0.29684362384825175, 0.6320139549448381, 0.15800348873620954, 0.1206613235183265, 0.80440882345551, 0.0402204411727755, 0.9425553715361341, 0.776924676596584, 0.13710435469351484, 0.06855217734675742, 0.26221853492844405, 0.6555463373211101, 0.818666309741139, 0.22375941465233584, 0.22375941465233584, 0.11187970732616792, 0.3915789756415877, 0.36699077386950646, 0.5504861608042597, 0.33959460792662777, 0.61127029426793, 0.7608202307905209, 0.16361725393344534, 0.040904313483361335, 0.016361725393344535, 0.008180862696672267, 0.862125836949361, 0.9745889048981098, 0.6905988540976018, 0.08632485676220022, 0.08632485676220022, 0.592798267524658, 0.20566470505957524, 0.12097923827033837, 0.024195847654067675, 0.024195847654067675, 0.04839169530813535, 0.42971356361348784, 0.21485678180674392, 0.4459732474264905, 0.4459732474264905, 0.9312793821847032, 0.024507352162755347, 0.8971309641234323, 0.8503383384595726, 0.7720787718039321, 0.0857865302004369, 0.42081072961387445, 0.42081072961387445, 0.9682119667264658, 0.2717246736089335, 0.543449347217867, 0.11645343154668579, 0.07763562103112386, 0.7905825867856376, 0.06081404513735674, 0.06081404513735674, 0.8892406782694787, 0.6040938220453114, 0.11506548991339265, 0.2301309798267853, 0.05753274495669632, 0.3571371604240033, 0.642846888763206, 0.2147443002490418, 0.1073721501245209, 0.5368607506226044, 0.7937828559833247, 0.1389890614651352, 0.6560283701154382, 0.11675081163071357, 0.055595624586054083, 0.027797812293027042, 0.7546472157259005, 0.9339929842439688, 0.047491168690371295, 0.2409324706143075, 0.6023311765357687, 0.9254523833381231, 0.19093451482602875, 0.5728035444780862, 0.7614109688386964, 0.1903527422096741, 0.9484217876071742, 0.29689322075050467, 0.08482663450014419, 0.42413317250072097, 0.21206658625036048, 0.9148996519230673, 0.7406771281823604, 0.21162203662353155, 0.9484011012313703, 0.6852627923449356, 0.1522806205210968, 0.0761403102605484, 0.8892397928025457, 0.5707511354021584, 0.8014093821006921, 0.321882397032691, 0.643764794065382, 0.26265428120723533, 0.6566357030180883, 0.369817235681005, 0.5547258535215075, 0.7964938437897002, 0.6115848037626368, 0.3494770307215067, 0.9226854288592555, 0.043937401374250264, 0.6827878264439384, 0.13655756528878768, 0.5893740765077974, 0.2713664812697772, 0.10176243047616645, 0.03392081015872215, 0.5913723171047771, 0.07884964228063694, 0.2759737479822293, 0.20038784120558106, 0.7792860491328152, 0.9621658317307508, 0.6230481467117955, 0.10650395670287104, 0.1650811328894501, 0.07455276969200972, 0.02662598917571776, 0.9372263560542361, 0.7577869037958407, 0.12629781729930678, 0.23325828689134548, 0.5831457172283637, 0.5782838331079971, 0.1355042533413924, 0.8130255200483545, 0.5483442364675749, 0.09969895208501361, 0.3489463322975477, 0.9475236868069269, 0.44927298620701733, 0.19254556551729313, 0.06418185517243105, 0.22463649310350867, 0.06418185517243105, 0.12577023304054075, 0.2515404660810815, 0.2829830243412167, 0.06288511652027037, 0.12577023304054075, 0.12577023304054075, 0.03144255826013519, 0.5228225878694315, 0.26141129393471574, 0.8645942322337281, 0.8013971928836365, 0.9145955978644601, 0.20506934928508652, 0.683564497616955, 0.5302495495128892, 0.06511836572965306, 0.30698658129693585, 0.0837236130809825, 0.37916478377517226, 0.33925270127252255, 0.11973624750794913, 0.139692288759274, 0.707162519180865, 0.235720839726955, 0.15500827648048626, 0.5425289676817019, 0.15500827648048626, 0.26462307880007563, 0.30242637577151504, 0.07560659394287876, 0.26462307880007563, 0.03780329697143938, 0.03780329697143938, 0.10087791674322545, 0.050438958371612726, 0.050438958371612726, 0.7061454172025782, 0.8544506691896234, 0.15291655388050046, 0.8028119078726275, 0.3107478391683285, 0.1035826130561095, 0.5697043718086022, 0.19128980045729516, 0.6376326681909839, 0.15940816704774596, 0.16681984586844487, 0.08340992293422243, 0.6672793834737795, 0.911465187448245, 0.8273471258807377, 0.6999789807965536, 0.13999579615931074, 0.8666387696301429, 0.9451729581588589, 0.5782724819137764, 0.42209334076026095, 0.42209334076026095, 0.16190153548285954, 0.16190153548285954, 0.06071307580607233, 0.08095076774142977, 0.48570460644857866, 0.020237691935357443, 0.030356537903036166, 0.6723676043956499, 0.20171028131869498, 0.06723676043956499, 0.44188785042879597, 0.4703967440048473, 0.057017787152102706, 0.028508893576051353, 0.8892273371342433, 0.2621161764613565, 0.524232352922713, 0.29204364984626097, 0.29204364984626097, 0.34071759148730446, 0.3107419019301687, 0.2663502016544303, 0.3107419019301687, 0.08878340055147677, 0.1101068226173117, 0.4404272904692468, 0.08258011696298377, 0.3027937621976072, 0.027526705654327924, 0.2874964996389163, 0.6468671241875616, 0.34078523572417707, 0.5679753928736285, 0.4207780380701276, 0.5610373840935035, 0.8993429980186326, 0.231809748808831, 0.6954292464264931, 0.9167272757952479, 0.21797228399696955, 0.7411057655896964, 0.921295077124711, 0.16384167795051055, 0.7099806044522124, 0.10922778530034037, 0.3488182918670453, 0.3488182918670453, 0.9450314270646802, 0.9672281056214306, 0.07358664429603423, 0.2943465771841369, 0.5886931543682739, 0.2715248352863196, 0.14620568053878746, 0.3968439900338517, 0.10443262895627677, 0.08354610316502141, 0.5718087613150821, 0.4084348295107729, 0.1319453476698079, 0.2473975268808898, 0.16493168458725987, 0.31337020071579375, 0.032986336917451974, 0.09895901075235593, 0.9121454577479435, 0.9094771739036691, 0.4060061829632869, 0.08458462145068477, 0.033833848580273905, 0.033833848580273905, 0.4398400315435608, 0.8940234175000837, 0.16329955621898526, 0.7348480029854336, 0.11061468725473964, 0.8296101544105473, 0.9484201273801635, 0.3619853500541992, 0.1809926750270996, 0.422316241729899, 0.8895929886376674, 0.8921973784021537, 0.11889984017506837, 0.23779968035013674, 0.5944992008753419, 0.18398920081538375, 0.1609905507134608, 0.6439622028538432, 0.8789685097107305, 0.27576927150910596, 0.1838461810060706, 0.2451282413414275, 0.061282060335356874, 0.21448721117374905, 0.09336146588943567, 0.6846507498558616, 0.062240977259623784, 0.12448195451924757, 0.9621703401405047, 0.8357016690348548, 0.0642847437719119, 0.27772994266557705, 0.13886497133278852, 0.41659491399836557, 0.38369143944020484, 0.15347657577608192, 0.4220605833842253, 0.6240001081304856, 0.34666672673915866, 0.10409165811355896, 0.8327332649084717, 0.9133159753465362, 0.07306527802772289, 0.43925960587686963, 0.43925960587686963, 0.8152696775979769, 0.0679391397998314, 0.31918430146192583, 0.5585725275583702, 0.10639476715397528, 0.9672274413240934, 0.4977967988065465, 0.24889839940327324, 0.6519213950025983, 0.16298034875064957, 0.22530701378839596, 0.4506140275767919, 0.4052348375454021, 0.4052348375454021, 0.5936110081477685, 0.19787033604925616, 0.9094865565027929, 0.1349363522005897, 0.4048090566017691, 0.33734088050147426, 0.08433522012536857, 0.03373408805014742, 0.9113221889005798, 0.2220874960606884, 0.7217843621972373, 0.7168708973175455, 0.19978369269505367, 0.07051189153943072, 0.32661464791122874, 0.5715756338446504, 0.8569716210660132, 0.26422556047921725, 0.6605639011980431, 0.1378062367322926, 0.04593541224409752, 0.1929287314252096, 0.10105790693701455, 0.027561247346458515, 0.25723830856694613, 0.027561247346458515, 0.21130289632284863, 0.8896619896785235, 0.15920862712640158, 0.26814084568657104, 0.3351760571082138, 0.05865580999393742, 0.01675880285541069, 0.1256910214155802, 0.041897007138526725, 0.17547261349555054, 0.17547261349555054, 0.5702859938605394, 0.043868153373887636, 0.14413722416152663, 0.7206861208076331, 0.9288343783322035, 0.1829581795322923, 0.3659163590645846, 0.426902418908682, 0.739432103923424, 0.920930249168063, 0.14842055082939168, 0.6101733756319436, 0.23087641240127596, 0.21702282854199295, 0.1627671214064947, 0.5425570713549823, 0.8665400762893595, 0.7175241641239403, 0.06294071615122283, 0.12588143230244567, 0.025176286460489132, 0.012588143230244566, 0.037764429690733695, 0.09695078732786483, 0.3635654524794931, 0.16966387782376344, 0.3635654524794931, 0.16326752628965382, 0.13605627190804487, 0.6802813595402243, 0.46466177938536396, 0.23233088969268198, 0.8789210179359007, 0.27520171516016834, 0.5274699540569893, 0.16053433384343152, 0.30777256076093823, 0.6155451215218765, 0.9524625835456333, 0.8240537719325499, 0.1409473051219546, 0.7752101781707503, 0.14288697804274117, 0.7144348902137058, 0.6018657039095555, 0.14161545974342482, 0.24782705455099346, 0.048763247127476705, 0.5607773419659821, 0.17067136494616847, 0.17067136494616847, 0.024381623563738353, 0.8284519002616653, 0.09205021114018504, 0.8964376829248288, 0.8340855516968922, 0.8982738936013167, 0.9306334752529902, 0.10350484352827505, 0.8206455451170379, 0.03696601554581252, 0.044359218654975024, 0.3113826299926159, 0.3459806999917954, 0.08649517499794886, 0.03459806999917954, 0.20758841999507727, 0.8895941834033023, 0.7121590558237934, 0.08901988197797417, 0.15896407496066817, 0.038151377990560356, 0.7549361759485618, 0.9190076602894621, 0.2899522212739191, 0.32619624893315896, 0.2899522212739191, 0.07248805531847978, 0.2310962693895989, 0.7626176889856764, 0.5282105478440213, 0.13205263696100533, 0.3081228195756791, 0.2690936856557169, 0.07688391018734769, 0.4228615060304123, 0.19220977546836923, 0.6811255405429256, 0.1702813851357314, 0.793774776983059, 0.9677706231726563, 0.2766397968740998, 0.5532795937481996, 0.7958954671834548, 0.06122272824488114, 0.06122272824488114, 0.06122272824488114, 0.914550596906633, 0.5023549078717726, 0.36281187790739133, 0.12558872696794315, 0.8809609747153689, 0.929636085825235, 0.7245796157921953, 0.12076326929869922, 0.482527960647437, 0.482527960647437, 0.7177824446430352, 0.21407546594616841, 0.05037069786968668, 0.7546100041307532, 0.7087621685727185, 0.27977454022607307, 0.5567064374645536, 0.09027671958884653, 0.06018447972589768, 0.2106456790406419, 0.06018447972589768, 0.01504611993147442, 0.5601840615161897, 0.4074065901935925, 0.931421212173824, 0.04435339105589638, 0.40663788692085373, 0.3049784151906403, 0.2649812459853104, 0.018332035885776192, 0.0033330974337774898, 0.43122383934579656, 0.0760983245904347, 0.10146443278724625, 0.3804916229521734, 0.9405597969508993, 0.2796647442865166, 0.4194971164297749, 0.06991618607162915, 0.22373179542921326, 0.771414262471911, 0.7964886740790049, 0.25812811841936417, 0.29500356390784477, 0.036875445488480596, 0.14750178195392238, 0.18437722744240298, 0.055313168232720894, 0.7215798509729393, 0.2734795777137452, 0.683698944284363, 0.16372319196831267, 0.736754363857407, 0.49678994798428355, 0.49678994798428355, 0.8897220083423216, 0.36066462769835944, 0.1352492353868848, 0.4959138630852442, 0.4175681458530248, 0.510361067153697, 0.45921146665354773, 0.3444085999901608, 0.1722042999950804, 0.8687517032871933, 0.7713985875211045, 0.8566499864046482, 0.9502236212696652, 0.7606108124901394, 0.15212216249802787, 0.8724568428285621, 0.9190015313696887, 0.8993575559778665, 0.9547964965074035, 0.5335723782688764, 0.1778574594229588, 0.3723580726684967, 0.13963427725068625, 0.4654475908356209, 0.29262142129081964, 0.6437671268398033, 0.18649708016610983, 0.05328488004745995, 0.2397819602135698, 0.26642440023729974, 0.2131395201898398, 0.8896308801516705, 0.721591913690263, 0.6972979558063281, 0.17432448895158204, 0.11855894837726555, 0.35567684513179665, 0.4742357935090622, 0.2390358432429828, 0.597589608107457, 0.8678931819507738, 0.23452409455335954, 0.6396111669637078, 0.09594167504455617, 0.021320372232123595, 0.8606766918896586, 0.057378446125977235, 0.13828801728252837, 0.6914400864126418, 0.13828801728252837, 0.8579443523487015, 0.9712016475714866, 0.26221834133786026, 0.6555458533446508, 0.6420259240527891, 0.32101296202639457, 0.4060057854231213, 0.478506818534393, 0.05800082648901733, 0.043500619866763, 0.20506599530772404, 0.7177309835770342, 0.1441396499296228, 0.720698249648114, 0.8642770432028444, 0.10371324518434132, 0.8565064402518762, 0.9262932141893764, 0.052931040810821506, 0.7723652359409523, 0.2231277348273862, 0.735198949518268, 0.04084438608434822, 0.2246441234639152, 0.9586277740719726, 0.29426438608889927, 0.6790716602051521, 0.6161987957333219, 0.2549788120275815, 0.10624117167815895, 0.30308750879607516, 0.17828676988004422, 0.3209161857840796, 0.06418323715681591, 0.12836647431363182, 0.9570502956227068, 0.450407305628877, 0.23845092650940547, 0.2914400212892734, 0.21229369774543538, 0.7642573118835674, 0.7714025842972523, 0.7684080467634411, 0.8797508127303583, 0.544321501652894, 0.18144050055096467, 0.20412056311983523, 0.022680062568870583, 0.04536012513774117, 0.36429835949879563, 0.5100177032983139, 0.17212209845491555, 0.7745494430471199, 0.8391594627436286, 0.6185899495437623, 0.30929497477188117, 0.08635240420061732, 0.7771716378055559, 0.8892307199705295, 0.7082237149337575, 0.7595893303007725, 0.7743617201494599, 0.3484704060992615, 0.09956297317121757, 0.49781486585608786, 0.7743270352648324, 0.9340869727222499, 0.8460138308230812, 0.962179329660769, 0.2595222645105502, 0.5495765601399887, 0.061064062237776516, 0.10686210891610891, 0.8892247363561693, 0.2271296006019424, 0.567824001504856, 0.1135648003009712, 0.1796393242078356, 0.1796393242078356, 0.6287376347274246, 0.4068818620387055, 0.11625196058248728, 0.17437794087373093, 0.2906299014562182, 0.1438333716732139, 0.755125201284373, 0.08090627156618282, 0.017979171459151736, 0.3141221261593133, 0.12564885046372531, 0.5025954018549013, 0.07076069037717916, 0.07076069037717916, 0.2122820711315375, 0.07076069037717916, 0.5660855230174333, 0.26437219266327033, 0.26437219266327033, 0.32997008249616827, 0.4949551237442524, 0.8086035568608505, 0.16172071137217012, 0.3993555018839581, 0.14859739604984487, 0.4550795254026499, 0.8498279866510344, 0.1395239978083788, 0.36941115245905387, 0.250671853454358, 0.02638651088993242, 0.10554604355972969, 0.06596627722483105, 0.17151232078456075, 0.7390060835809958, 0.33717023104243043, 0.3793165099227342, 0.2739508127219747, 0.09907784899732906, 0.0371541933739984, 0.2972335469919872, 0.1114625801219952, 0.04953892449866453, 0.4086961271139824, 0.1729765903745898, 0.6054180663110643, 0.0864882951872949, 0.431169701585705, 0.24638268662040289, 0.08212756220680095, 0.22585079606870265, 0.8544546068191677, 0.699068069759476, 0.2097204209278428, 0.9708719438666708, 0.850282442004938, 0.9616839735056155, 0.8687696756014828, 0.09977651739290792, 0.3991060695716317, 0.4489943282680856, 0.03955748840169096, 0.22152193504946938, 0.21361043736913118, 0.11076096752473469, 0.15031845592642565, 0.15822995360676384, 0.11076096752473469, 0.8370169572853342, 0.11490619764359644, 0.8043433835051751, 0.27867716366724654, 0.5573543273344931, 0.5031845036865856, 0.2515922518432928, 0.9209243176690997, 0.9027640421539825, 0.31631184694730946, 0.09489355408419284, 0.5693613245051571, 0.1803710828953845, 0.721484331581538, 0.24919253656335227, 0.6229813414083807, 0.843726434431503, 0.15936856886729536, 0.3187371377345907, 0.3984214221682384, 0.9265145534311315, 0.850262119608268, 0.9255758781693147, 0.9623612557016601, 0.4835083356913174, 0.47276370600928813, 0.02148925936405855, 0.02148925936405855, 0.7393895762256195, 0.3769330475236604, 0.4711663094045755, 0.6727141454025181, 0.26908565816100727, 0.8339966198202718, 0.5685359212904132, 0.18951197376347106, 0.9470862623511614, 0.8579539751182678, 0.9210760884286033, 0.34759256818283096, 0.5213888522742465, 0.6311435602464538, 0.35602970065184575, 0.8897067124833082, 0.0759754879598373, 0.8357303675582104, 0.5707865293986351, 0.5428105993245709, 0.2118285265656862, 0.18534996074497542, 0.05295713164142155, 0.04423794334918111, 0.13271383004754334, 0.6635691502377167, 0.13271383004754334, 0.3499154157822338, 0.12596954968160418, 0.09097800810338079, 0.18895432452240626, 0.05598646652515741, 0.006998308315644676, 0.12596954968160418, 0.05598646652515741], \"Term\": [\"abate\", \"accord\", \"accord\", \"accord\", \"accord\", \"accord\", \"accord\", \"act\", \"activism\", \"activist\", \"activist\", \"activist\", \"administration\", \"administration\", \"administration\", \"administration\", \"admit\", \"admit\", \"advocacy\", \"africa\", \"agency\", \"agency\", \"agency\", \"air\", \"allegation\", \"analyst\", \"announce\", \"announce\", \"answer\", \"answer\", \"answer\", \"answer\", \"anyone\", \"anything\", \"anything\", \"appoint\", \"aquino\", \"arm\", \"arm\", \"arm\", \"arm\", \"army\", \"army\", \"army\", \"army\", \"arrest\", \"arrest\", \"ask\", \"ask\", \"ask\", \"ask\", \"aspirant\", \"aspirant\", \"aspirant\", \"aspirant\", \"assist\", \"association\", \"association\", \"attempt\", \"attempt\", \"badoy\", \"badoy\", \"baka\", \"baka\", \"bank\", \"baseless\", \"bayan\", \"bayan\", \"become\", \"begin\", \"bill\", \"bill\", \"bishop\", \"bloc\", \"body\", \"body\", \"bomb\", \"bong\", \"bong\", \"book\", \"book\", \"brand\", \"brand\", \"break\", \"break\", \"bridge\", \"bridge\", \"brief\", \"brief\", \"budget\", \"budget\", \"budget\", \"butch\", \"butch\", \"call\", \"call\", \"call\", \"call\", \"call\", \"call\", \"campaign\", \"campaign\", \"campaign\", \"candidacy\", \"candidacy\", \"candidacy\", \"candidate\", \"candidate\", \"candidate\", \"candidate\", \"candidate\", \"case\", \"case\", \"case\", \"case\", \"case\", \"caser\", \"caser\", \"catch\", \"ceasefire\", \"ceasefire\", \"chairman\", \"chairman\", \"chairperson\", \"chairperson\", \"chairperson_senate_committee_health_demography\", \"chairperson_senate_committee_health_demography\", \"challenge\", \"challenge\", \"challenge\", \"change\", \"change\", \"change\", \"change\", \"change\", \"character\", \"chief\", \"chief\", \"chief\", \"chief\", \"child\", \"child\", \"child\", \"china\", \"choice\", \"church\", \"circus\", \"city\", \"city\", \"city\", \"city\", \"city\", \"city\", \"claim\", \"claim\", \"claim\", \"claim\", \"claim\", \"cocs\", \"cocs\", \"cocs\", \"college\", \"college\", \"college\", \"column\", \"comelec\", \"comelec\", \"comfort\", \"comfort\", \"command\", \"command\", \"command\", \"commander\", \"commission\", \"commission\", \"commission\", \"company\", \"company\", \"complain\", \"conduct\", \"conduct\", \"conduct\", \"conduct\", \"conflict\", \"conflict\", \"constitution\", \"constitution\", \"control\", \"control\", \"control\", \"control\", \"control\", \"corruption\", \"council\", \"count\", \"count\", \"count\", \"country\", \"country\", \"country\", \"country\", \"country\", \"country\", \"courage\", \"courage\", \"cover\", \"cover\", \"covid\", \"covid\", \"cppnpa\", \"crime\", \"crisis\", \"crisis\", \"dance\", \"dance\", \"daughter\", \"davao\", \"davao\", \"davao\", \"davao\", \"davao_city_mayor\", \"davao_city_mayor\", \"davao_city_mayor\", \"davao_city_mayor_sara_dutertecarpio\", \"day\", \"day\", \"day\", \"day\", \"death\", \"death\", \"debate\", \"debate\", \"debate\", \"deception\", \"decision\", \"decision\", \"decision\", \"decision\", \"decision\", \"decline\", \"defense\", \"defense\", \"deliberation\", \"deliberation\", \"democracy\", \"denounce\", \"denounce\", \"department\", \"department\", \"deputy\", \"development\", \"development\", \"development\", \"development\", \"die\", \"dinforcor\", \"dinforcor\", \"discontent\", \"discussion\", \"discussion\", \"discussion\", \"disqualification\", \"dissenter\", \"document\", \"door\", \"door\", \"drag\", \"drag\", \"drilon\", \"drilon\", \"drive\", \"drop\", \"drop\", \"drug\", \"drug\", \"duplicity\", \"duplicity\", \"duterte\", \"duterte\", \"duterte\", \"duterte\", \"effort\", \"effort\", \"effort\", \"elcac\", \"elcac\", \"eleazar\", \"election\", \"election\", \"election\", \"election\", \"election\", \"endeavor\", \"enemy\", \"enemy\", \"entry\", \"entry\", \"escape\", \"evidence\", \"evidence\", \"explain\", \"explain\", \"explain\", \"extortion\", \"face\", \"face\", \"face\", \"face\", \"face\", \"fact\", \"fact\", \"fact\", \"fact\", \"fact\", \"fact\", \"fact\", \"faith\", \"faith\", \"family\", \"farmer\", \"field\", \"fight\", \"fight\", \"file\", \"file\", \"file\", \"file\", \"filipino\", \"filipino\", \"filipino\", \"filipino\", \"finance\", \"finance\", \"firm\", \"firm\", \"firm\", \"force\", \"force\", \"force\", \"force\", \"force\", \"force\", \"forum\", \"forum\", \"forum\", \"forum\", \"foundation\", \"freedom\", \"freedom\", \"friend\", \"friend\", \"friend\", \"fund\", \"fund\", \"fund\", \"funding\", \"funding\", \"funding\", \"gabriela\", \"gain\", \"garner\", \"garner\", \"general\", \"generate\", \"genesperon\", \"gordon\", \"gordon\", \"government\", \"government\", \"government\", \"government\", \"government\", \"government\", \"government\", \"govt\", \"govt\", \"govt\", \"group\", \"group\", \"group\", \"group\", \"guillermo_eleazar\", \"gun\", \"gun\", \"hand\", \"hand\", \"hand\", \"health\", \"health\", \"health\", \"health\", \"help\", \"help\", \"help\", \"help\", \"help\", \"hero\", \"hero\", \"hide\", \"hide\", \"history\", \"history\", \"hndi\", \"hope\", \"hope\", \"iamkarendavila\", \"ibon\", \"ibon\", \"implement\", \"influence\", \"influence\", \"influence\", \"inquirerdotnet\", \"inquirerdotnet\", \"inquiry\", \"instance\", \"insurgency\", \"insurgency\", \"insurgency\", \"interview\", \"interview\", \"interview\", \"interview\", \"interview\", \"investigation\", \"investigation\", \"issue\", \"issue\", \"issue\", \"issue\", \"issue\", \"issue\", \"jabidah\", \"jail\", \"join\", \"join\", \"join\", \"join\", \"join\", \"joma\", \"joseph\", \"joseph\", \"judge\", \"judge\", \"july\", \"justice\", \"justice\", \"justice\", \"justify\", \"kabataan\", \"kid\", \"kid\", \"kid\", \"kill\", \"kill\", \"kill\", \"kind\", \"labor\", \"labor\", \"labor\", \"labor\", \"labor\", \"lacson\", \"lacson\", \"lacson\", \"lacson\", \"lakascmd\", \"landscape\", \"landscape\", \"law\", \"law\", \"law\", \"leader\", \"leader\", \"leader\", \"leni\", \"leni\", \"lie\", \"lie\", \"life\", \"life\", \"link\", \"link\", \"livelihood\", \"livelihood\", \"look\", \"look\", \"look\", \"lorenzana\", \"love\", \"love\", \"machinery\", \"machinery\", \"makabayan_bloc\", \"makabayan_bloc\", \"make\", \"make\", \"malac\", \"malac\", \"management\", \"manila\", \"manila\", \"manila\", \"manila\", \"manila\", \"manilabulletin\", \"manuel\", \"manuel\", \"marcos\", \"marcos\", \"marcos\", \"mass\", \"mass\", \"massacre\", \"mean\", \"mean\", \"medium\", \"medium\", \"medium\", \"medium\", \"medium\", \"medium\", \"medium\", \"medium\", \"meet\", \"member\", \"member\", \"member\", \"member\", \"member\", \"member\", \"member\", \"mention\", \"mention\", \"mention\", \"mention\", \"message\", \"message\", \"mind\", \"mindanao\", \"mindanao\", \"mindanao\", \"mnlf\", \"modernization\", \"monday\", \"monday\", \"monday\", \"money\", \"money\", \"money\", \"nagkokontrol\", \"name\", \"name\", \"name\", \"name\", \"name\", \"name\", \"news\", \"news\", \"news\", \"news\", \"nothing\", \"nothing\", \"nothing\", \"npa\", \"npa\", \"npas\", \"number\", \"number\", \"number\", \"oath\", \"oath\", \"officer\", \"operation\", \"opinion\", \"opinion\", \"opportunity\", \"opportunity\", \"order\", \"order\", \"order\", \"organization\", \"organization\", \"organization\", \"organization\", \"organization\", \"page\", \"page\", \"palabay\", \"panel\", \"pantry\", \"parent\", \"parlade\", \"parlade\", \"parlade\", \"parlade\", \"part\", \"part\", \"part\", \"part\", \"part\", \"partido_demokratiko_pilipinolakas_bayan_pdplaban\", \"party\", \"party\", \"party\", \"party\", \"path\", \"pay\", \"peace\", \"peace\", \"peace\", \"peace\", \"percent\", \"percent\", \"period\", \"period\", \"period\", \"person\", \"person\", \"person\", \"person\", \"petition\", \"petition\", \"phil\", \"philippinestar\", \"pilipino\", \"pilipino\", \"place\", \"place\", \"place\", \"place\", \"placeholder\", \"plan\", \"plan\", \"plan\", \"play\", \"please\", \"policeman\", \"policeman\", \"policy\", \"policy\", \"poll\", \"poll\", \"poll\", \"pop\", \"position\", \"position\", \"post\", \"post\", \"post\", \"post\", \"post\", \"post\", \"power\", \"power\", \"presidency\", \"presidency\", \"president\", \"president\", \"president\", \"president\", \"president\", \"press\", \"press\", \"press\", \"press\", \"priest\", \"problem\", \"problem\", \"problem\", \"problem\", \"product\", \"prog\", \"program\", \"program\", \"program\", \"program\", \"program\", \"program\", \"programa\", \"propaganda\", \"propaganda\", \"proposal\", \"proposal\", \"push\", \"push\", \"quality\", \"question\", \"question\", \"question\", \"quismorio\", \"quismorio\", \"race\", \"race\", \"race\", \"rappler\", \"rapplerdotcom\", \"reach\", \"react\", \"read\", \"read\", \"rebel\", \"rebellion\", \"reclamation\", \"recruit\", \"relate\", \"relate\", \"release\", \"release\", \"release\", \"remark\", \"remark\", \"report\", \"report\", \"report\", \"report\", \"report\", \"representative\", \"rescue\", \"research\", \"research\", \"respect\", \"respect\", \"respect\", \"respond\", \"respond\", \"rest\", \"retire\", \"retire\", \"retire\", \"retire\", \"retirement\", \"retirement\", \"reveal\", \"reveal\", \"reveal\", \"revolution\", \"rice\", \"rise\", \"rise\", \"road\", \"road\", \"robredo\", \"robredo\", \"robredo\", \"robredo\", \"robredos\", \"robredos\", \"ronald_dela_rosa\", \"ronald_dela_rosa\", \"roque\", \"roque\", \"round\", \"rule\", \"rule\", \"sara\", \"sara\", \"school\", \"school\", \"school\", \"secretary_delfin_lorenzana\", \"security\", \"security\", \"senate\", \"senate\", \"senate\", \"senator\", \"senator\", \"senator\", \"senator\", \"senator\", \"sent\", \"service\", \"service\", \"service\", \"share\", \"share\", \"sharpmoderato\", \"shock\", \"shout\", \"show\", \"show\", \"show\", \"show\", \"show\", \"side\", \"side\", \"sign\", \"sign\", \"silence\", \"sison\", \"sison\", \"sister\", \"sister\", \"slide\", \"soberano\", \"society\", \"solcom\", \"something\", \"something\", \"something\", \"speak\", \"speculation\", \"speech\", \"spokesman\", \"spokesperson\", \"spokesperson\", \"spokesperson\", \"spokesperson\", \"spokesperson_harry_roque\", \"staff\", \"staff\", \"staff\", \"star\", \"star\", \"star\", \"state\", \"state\", \"state\", \"state\", \"statement\", \"statement\", \"statement\", \"statement\", \"step\", \"step\", \"step\", \"story\", \"story\", \"story\", \"story\", \"story\", \"street\", \"street\", \"stress\", \"stress\", \"student\", \"student\", \"substitute\", \"substitute\", \"substitute\", \"substitution\", \"substitution\", \"support\", \"support\", \"support\", \"support\", \"support\", \"support\", \"surrender\", \"survey\", \"survey\", \"survey\", \"talk\", \"talk\", \"talk\", \"talk\", \"talk\", \"talk\", \"tama\", \"tama\", \"tama\", \"task\", \"task\", \"task\", \"task\", \"teach\", \"team\", \"team\", \"teddycasino\", \"tentorio\", \"terror\", \"terrorist\", \"think\", \"think\", \"think\", \"time\", \"time\", \"time\", \"time\", \"time\", \"time\", \"time\", \"today\", \"town\", \"town\", \"traitor\", \"traitor\", \"troop\", \"troop\", \"trouble\", \"trust\", \"truth\", \"truth\", \"truth\", \"turn\", \"turn\", \"tweet\", \"tweet\", \"twist\", \"twitter\", \"twitter\", \"twitter\", \"understand\", \"unit\", \"version\", \"viber\", \"vice\", \"vice\", \"vice\", \"vice\", \"victim\", \"video\", \"video\", \"view\", \"view\", \"violence\", \"wait\", \"wait\", \"wake\", \"waste\", \"watch\", \"wife\", \"wife\", \"withdrawal\", \"withdrawal\", \"withdrew\", \"woman\", \"woman\", \"wonder\", \"work\", \"work\", \"work\", \"work\", \"worker\", \"worker\", \"worker\", \"worker\", \"year\", \"year\", \"year\", \"year\", \"year\", \"year\", \"year\", \"year\"]}, \"R\": 30, \"lambda.step\": 0.01, \"plot.opts\": {\"xlab\": \"PC1\", \"ylab\": \"PC2\"}, \"topic.order\": [10, 5, 2, 7, 4, 9, 3, 8, 6, 1]};\n",
       "\n",
       "function LDAvis_load_lib(url, callback){\n",
       "  var s = document.createElement('script');\n",
       "  s.src = url;\n",
       "  s.async = true;\n",
       "  s.onreadystatechange = s.onload = callback;\n",
       "  s.onerror = function(){console.warn(\"failed to load library \" + url);};\n",
       "  document.getElementsByTagName(\"head\")[0].appendChild(s);\n",
       "}\n",
       "\n",
       "if(typeof(LDAvis) !== \"undefined\"){\n",
       "   // already loaded: just create the visualization\n",
       "   !function(LDAvis){\n",
       "       new LDAvis(\"#\" + \"ldavis_el56841405633523381287407386417\", ldavis_el56841405633523381287407386417_data);\n",
       "   }(LDAvis);\n",
       "}else if(typeof define === \"function\" && define.amd){\n",
       "   // require.js is available: use it to load d3/LDAvis\n",
       "   require.config({paths: {d3: \"https://d3js.org/d3.v5\"}});\n",
       "   require([\"d3\"], function(d3){\n",
       "      window.d3 = d3;\n",
       "      LDAvis_load_lib(\"https://cdn.jsdelivr.net/gh/bmabey/pyLDAvis@3.3.1/pyLDAvis/js/ldavis.v3.0.0.js\", function(){\n",
       "        new LDAvis(\"#\" + \"ldavis_el56841405633523381287407386417\", ldavis_el56841405633523381287407386417_data);\n",
       "      });\n",
       "    });\n",
       "}else{\n",
       "    // require.js not available: dynamically load d3 & LDAvis\n",
       "    LDAvis_load_lib(\"https://d3js.org/d3.v5.js\", function(){\n",
       "         LDAvis_load_lib(\"https://cdn.jsdelivr.net/gh/bmabey/pyLDAvis@3.3.1/pyLDAvis/js/ldavis.v3.0.0.js\", function(){\n",
       "                 new LDAvis(\"#\" + \"ldavis_el56841405633523381287407386417\", ldavis_el56841405633523381287407386417_data);\n",
       "            })\n",
       "         });\n",
       "}\n",
       "</script>"
      ],
      "text/plain": [
       "<IPython.core.display.HTML object>"
      ]
     },
     "execution_count": 327,
     "metadata": {},
     "output_type": "execute_result"
    }
   ],
   "source": [
    "topic_data =  gensimvis.prepare(ldamodel_parlade, doc_term_matrix, dictionary, mds = 'pcoa')\n",
    "pyLDAvis.display(topic_data)"
   ]
  },
  {
   "cell_type": "code",
   "execution_count": null,
   "id": "9dd5f723-3fd6-4d76-bfd7-15b3e8fa1fe3",
   "metadata": {},
   "outputs": [],
   "source": [
    "pyLDAvis.save_html(topic_data, 'lda_parlade.html')"
   ]
  },
  {
   "cell_type": "code",
   "execution_count": 328,
   "id": "5704a49c-4a15-406b-8b41-fbc694108b0e",
   "metadata": {},
   "outputs": [
    {
     "name": "stdout",
     "output_type": "stream",
     "text": [
      "\n",
      "Coherence Score:  0.45099234047541736\n"
     ]
    }
   ],
   "source": [
    "#Getting coherence score --\n",
    "#Coherence measures the relative distance between words within a topic. It is good for assessing the quality of the learned topics. So the higher the score is, the better the topics are extracted.\n",
    "\n",
    "from gensim.models import CoherenceModel\n",
    "# Compute Coherence Score\n",
    "coherence_model_lda_parlade = CoherenceModel(model=ldamodel_parlade, texts=final_content_parlade, dictionary=dictionary, coherence='c_v')\n",
    "coherence_lda_parlade = coherence_model_lda_parlade.get_coherence()\n",
    "print('\\nCoherence Score: ', coherence_lda_parlade)"
   ]
  },
  {
   "cell_type": "markdown",
   "id": "04a69ac1-7020-40d7-ad45-6f15aa8ddb3c",
   "metadata": {
    "tags": []
   },
   "source": [
    "### How to find the optimal number of topics for LDA? - Antonio Parlade Jr."
   ]
  },
  {
   "cell_type": "code",
   "execution_count": 335,
   "id": "ec73fe39-b84b-4841-8548-6847ac178ca5",
   "metadata": {},
   "outputs": [],
   "source": [
    "def compute_coherence_values(dictionary, corpus, texts, limit, start=15, step=2):\n",
    "    \"\"\"\n",
    "    Compute c_v coherence for various number of topics\n",
    "\n",
    "    Parameters:\n",
    "    ----------\n",
    "    dictionary : Gensim dictionary\n",
    "    corpus : Gensim corpus\n",
    "    texts : List of input texts\n",
    "    limit : Max num of topics\n",
    "\n",
    "    Returns:\n",
    "    -------\n",
    "    model_list : List of LDA topic models\n",
    "    coherence_values : Coherence values corresponding to the LDA model with respective number of topics\n",
    "    \"\"\"\n",
    "    coherence_values = []\n",
    "    model_list = []\n",
    "    for num_topics in range(start, limit, step):\n",
    "        model = Lda(corpus, num_topics=num_topics, id2word = dictionary, passes=40, iterations=500,  chunksize = 500, eval_every = None, random_state=123)\n",
    "        model_list.append(model)\n",
    "        coherencemodel = CoherenceModel(model=model, texts=texts, dictionary=dictionary, coherence='c_v')\n",
    "        coherence_values.append(coherencemodel.get_coherence())\n",
    "\n",
    "    return model_list, coherence_values"
   ]
  },
  {
   "cell_type": "code",
   "execution_count": 336,
   "id": "42349dfb-6fa5-4cf2-939c-cff78213b778",
   "metadata": {},
   "outputs": [],
   "source": [
    "# Can take a long time to run.\n",
    "model_list, coherence_values = compute_coherence_values(dictionary=dictionary, corpus=doc_term_matrix, texts=final_content_parlade, start=3, limit=15, step=1)"
   ]
  },
  {
   "cell_type": "code",
   "execution_count": 337,
   "id": "4ed849f5-03dc-4d6b-aeb4-9043e4c3d02f",
   "metadata": {},
   "outputs": [
    {
     "data": {
      "image/png": "[encoded data removed]",
      "text/plain": [
       "<Figure size 432x288 with 1 Axes>"
      ]
     },
     "metadata": {
      "needs_background": "light"
     },
     "output_type": "display_data"
    }
   ],
   "source": [
    "# Show graph\n",
    "limit=15; start=3; step=1;\n",
    "x = range(start, limit, step)\n",
    "plt.plot(x, coherence_values)\n",
    "plt.xlabel(\"Num Topics\")\n",
    "plt.ylabel(\"Coherence score\")\n",
    "plt.legend((\"coherence_values\"), loc='best')\n",
    "plt.show()"
   ]
  },
  {
   "cell_type": "code",
   "execution_count": 338,
   "id": "bbaeb0a7-b31c-4203-b239-f33d3cdb1415",
   "metadata": {},
   "outputs": [
    {
     "name": "stdout",
     "output_type": "stream",
     "text": [
      "Num Topics = 3  has Coherence Value of 0.4071\n",
      "Num Topics = 4  has Coherence Value of 0.4568\n",
      "Num Topics = 5  has Coherence Value of 0.4949\n",
      "Num Topics = 6  has Coherence Value of 0.4552\n",
      "Num Topics = 7  has Coherence Value of 0.4472\n",
      "Num Topics = 8  has Coherence Value of 0.461\n",
      "Num Topics = 9  has Coherence Value of 0.4735\n",
      "Num Topics = 10  has Coherence Value of 0.451\n",
      "Num Topics = 11  has Coherence Value of 0.4745\n",
      "Num Topics = 12  has Coherence Value of 0.4617\n",
      "Num Topics = 13  has Coherence Value of 0.4563\n",
      "Num Topics = 14  has Coherence Value of 0.4693\n"
     ]
    }
   ],
   "source": [
    "# Print the coherence scores\n",
    "for m, cv in zip(x, coherence_values):\n",
    "    print(\"Num Topics =\", m, \" has Coherence Value of\", round(cv, 4))"
   ]
  },
  {
   "cell_type": "code",
   "execution_count": 339,
   "id": "c0b9ee26-6010-4107-9f53-6fe9fa733448",
   "metadata": {},
   "outputs": [],
   "source": [
    "from pprint import pprint"
   ]
  },
  {
   "cell_type": "code",
   "execution_count": 341,
   "id": "3bec839d-0829-43f6-96b2-06d53a374e54",
   "metadata": {},
   "outputs": [
    {
     "name": "stdout",
     "output_type": "stream",
     "text": [
      "[(0,\n",
      "  '0.045*\"child\" + 0.027*\"call\" + 0.023*\"news\" + 0.021*\"elcac\" + 0.019*\"truth\" '\n",
      "  '+ 0.019*\"medium\" + 0.019*\"share\" + 0.018*\"please\" + 0.018*\"member\" + '\n",
      "  '0.017*\"time\" + 0.017*\"talk\" + 0.015*\"town\" + 0.015*\"bishop\" + '\n",
      "  '0.014*\"recruit\" + 0.013*\"bloc\" + 0.013*\"parent\" + 0.012*\"viber\" + '\n",
      "  '0.012*\"challenge\" + 0.012*\"story\" + 0.012*\"sent\"'),\n",
      " (1,\n",
      "  '0.022*\"medium\" + 0.019*\"year\" + 0.018*\"group\" + 0.018*\"president\" + '\n",
      "  '0.016*\"robredo\" + 0.014*\"look\" + 0.014*\"talk\" + 0.013*\"marcos\" + '\n",
      "  '0.013*\"book\" + 0.012*\"ibon\" + 0.011*\"philippinestar\" + 0.011*\"work\" + '\n",
      "  '0.010*\"case\" + 0.010*\"number\" + 0.010*\"covid\" + 0.010*\"rice\" + '\n",
      "  '0.010*\"support\" + 0.009*\"accord\" + 0.009*\"show\" + 0.009*\"vice\"'),\n",
      " (2,\n",
      "  '0.033*\"kill\" + 0.027*\"teddycasino\" + 0.024*\"member\" + 0.022*\"nothing\" + '\n",
      "  '0.018*\"person\" + 0.016*\"government\" + 0.015*\"watch\" + 0.014*\"time\" + '\n",
      "  '0.012*\"cppnpa\" + 0.010*\"evidence\" + 0.010*\"leader\" + 0.010*\"investigation\" '\n",
      "  '+ 0.010*\"mean\" + 0.009*\"wake\" + 0.009*\"friend\" + 0.009*\"priest\" + '\n",
      "  '0.009*\"constitution\" + 0.009*\"student\" + 0.009*\"quismorio\" + '\n",
      "  '0.009*\"activist\"'),\n",
      " (3,\n",
      "  '0.045*\"president\" + 0.028*\"candidate\" + 0.027*\"senator\" + '\n",
      "  '0.020*\"substitution\" + 0.020*\"duterte\" + 0.020*\"vice\" + 0.019*\"party\" + '\n",
      "  '0.018*\"election\" + 0.012*\"substitute\" + 0.011*\"file\" + 0.010*\"poll\" + '\n",
      "  '0.009*\"time\" + 0.008*\"budget\" + 0.008*\"year\" + 0.008*\"withdrawal\" + '\n",
      "  '0.008*\"candidacy\" + 0.007*\"sara\" + 0.007*\"comelec\" + 0.007*\"percent\" + '\n",
      "  '0.007*\"member\"'),\n",
      " (4,\n",
      "  '0.055*\"president\" + 0.037*\"decision\" + 0.026*\"control\" + 0.025*\"parlade\" + '\n",
      "  '0.024*\"statement\" + 0.020*\"school\" + 0.019*\"duterte\" + 0.018*\"defense\" + '\n",
      "  '0.015*\"retire\" + 0.014*\"senator\" + 0.012*\"claim\" + 0.012*\"army\" + '\n",
      "  '0.011*\"spokesperson\" + 0.010*\"issue\" + 0.010*\"monday\" + '\n",
      "  '0.009*\"organization\" + 0.009*\"thing\" + 0.008*\"allegation\" + 0.008*\"officer\" '\n",
      "  '+ 0.008*\"force\"')]\n"
     ]
    }
   ],
   "source": [
    "# Select the model and print the topics\n",
    "optimal_model = model_list[2]\n",
    "model_topics = optimal_model.show_topics(formatted=False)\n",
    "pprint(optimal_model.print_topics(num_words=20))"
   ]
  },
  {
   "cell_type": "code",
   "execution_count": 342,
   "id": "68e7b1e3-751a-4426-836c-67b0bfed1ad6",
   "metadata": {},
   "outputs": [
    {
     "data": {
      "text/html": [
       "\n",
       "<link rel=\"stylesheet\" type=\"text/css\" href=\"https://cdn.jsdelivr.net/gh/bmabey/pyLDAvis@3.3.1/pyLDAvis/js/ldavis.v1.0.0.css\">\n",
       "\n",
       "\n",
       "<div id=\"ldavis_el56841405628446047525060014508\"></div>\n",
       "<script type=\"text/javascript\">\n",
       "\n",
       "var ldavis_el56841405628446047525060014508_data = {\"mdsDat\": {\"x\": [-0.14910598614723017, -0.2051699837777155, -0.015351350221370554, 0.1375687642374418, 0.2320585559088744], \"y\": [0.018240121361370952, 0.03758256736542291, -0.009669052095353861, -0.22216621404276277, 0.1760125774113227], \"topics\": [1, 2, 3, 4, 5], \"cluster\": [1, 1, 1, 1, 1], \"Freq\": [49.33959985207832, 20.39182134723405, 18.212755649077035, 6.242684205259395, 5.813138946351191]}, \"tinfo\": {\"Term\": [\"decision\", \"president\", \"member\", \"child\", \"medium\", \"parlade\", \"statement\", \"time\", \"control\", \"call\", \"kill\", \"defense\", \"talk\", \"school\", \"news\", \"group\", \"substitution\", \"elcac\", \"nothing\", \"teddycasino\", \"government\", \"robredo\", \"look\", \"year\", \"truth\", \"book\", \"marcos\", \"person\", \"share\", \"party\", \"withdrawal\", \"sara\", \"comelec\", \"percent\", \"position\", \"substitution\", \"daughter\", \"rule\", \"insurgency\", \"cocs\", \"roque\", \"end\", \"agency\", \"antiinsurgency\", \"drug\", \"poll\", \"pdplaban\", \"belgica\", \"lakascmd\", \"eleazar\", \"push\", \"committee\", \"davao_city_mayor\", \"pantry\", \"budget\", \"opinion\", \"cabinet\", \"dela_rosa\", \"speculation\", \"turn\", \"party\", \"senate\", \"office\", \"substitute\", \"candidate\", \"vice\", \"senator\", \"file\", \"election\", \"peace\", \"president\", \"duterte\", \"presidency\", \"head\", \"post\", \"candidacy\", \"administration\", \"country\", \"time\", \"task\", \"problem\", \"year\", \"member\", \"force\", \"government\", \"name\", \"parlade\", \"decision\", \"defense\", \"allegation\", \"officer\", \"instance\", \"lorenzana\", \"secretary_delfin_lorenzana\", \"sison\", \"discontent\", \"commander\", \"rebellion\", \"teach\", \"trouble\", \"bayan\", \"christopher\", \"director\", \"joma\", \"act\", \"document\", \"revolution\", \"decline\", \"implement\", \"anyone\", \"modernization\", \"endeavor\", \"mario\", \"align\", \"bridge\", \"abate\", \"air\", \"jail\", \"school\", \"landscape\", \"army\", \"council\", \"statement\", \"decision\", \"control\", \"parlade\", \"problema\", \"bong\", \"organization\", \"lie\", \"claim\", \"president\", \"retire\", \"influence\", \"spokesperson\", \"issue\", \"monday\", \"security\", \"duterte\", \"thing\", \"department\", \"senator\", \"chief\", \"problem\", \"force\", \"aspirant\", \"candidacy\", \"year\", \"look\", \"book\", \"ibon\", \"rice\", \"think\", \"reveal\", \"aquino\", \"court\", \"foundation\", \"activism\", \"shout\", \"platform\", \"count\", \"history\", \"page\", \"firm\", \"study\", \"team\", \"chance\", \"business\", \"bongbong\", \"target\", \"tentorio\", \"pop\", \"inquiry\", \"hour\", \"generate\", \"board\", \"china\", \"proposal\", \"leni\", \"covid\", \"philippinestar\", \"robredo\", \"group\", \"number\", \"medium\", \"vote\", \"show\", \"davao\", \"marcos\", \"case\", \"fact\", \"year\", \"talk\", \"accord\", \"work\", \"race\", \"campaign\", \"support\", \"city\", \"president\", \"plan\", \"time\", \"name\", \"vice\", \"candidate\", \"election\", \"kill\", \"teddycasino\", \"watch\", \"cppnpa\", \"constitution\", \"student\", \"palabay\", \"bomb\", \"complain\", \"baka\", \"hndi\", \"character\", \"enemy\", \"kind\", \"duplicity\", \"evidence\", \"path\", \"investigation\", \"dictator\", \"mean\", \"speech\", \"react\", \"luck\", \"person\", \"thinking\", \"troop\", \"love\", \"ceasefire\", \"measure\", \"tomorrow\", \"wake\", \"nothing\", \"wife\", \"terrorist\", \"fight\", \"oath\", \"someone\", \"priest\", \"family\", \"member\", \"quismorio\", \"leader\", \"activist\", \"release\", \"friend\", \"government\", \"time\", \"use\", \"year\", \"press\", \"child\", \"bishop\", \"viber\", \"sent\", \"govt\", \"version\", \"silence\", \"please\", \"manilabulletin\", \"rappler\", \"farmer\", \"understand\", \"dinforcor\", \"town\", \"phil\", \"reclamation\", \"npas\", \"recruit\", \"terror\", \"sister\", \"inquirerdotnet\", \"kabataan\", \"share\", \"sharpmoderato\", \"malac\", \"gratus_lhentwit\", \"gabriela\", \"opportunity\", \"alliance\", \"dissenter\", \"tweet\", \"democracy\", \"bloc\", \"parent\", \"elcac\", \"truth\", \"call\", \"news\", \"challenge\", \"quismorio\", \"forum\", \"story\", \"medium\", \"talk\", \"member\", \"time\", \"question\", \"report\", \"health\"], \"Freq\": [176.0, 582.0, 112.0, 43.0, 111.0, 130.0, 105.0, 131.0, 117.0, 48.0, 34.0, 59.0, 89.0, 75.0, 40.0, 76.0, 160.0, 33.0, 32.0, 28.0, 98.0, 59.0, 41.0, 152.0, 30.0, 38.0, 76.0, 23.0, 23.0, 162.0, 62.402216355032294, 58.635356544408005, 57.70049263389383, 56.76301165639344, 53.92552174572903, 157.84947504280223, 46.404583660027136, 37.949466127484385, 32.61600073703996, 32.299456419414305, 28.540583238389925, 26.660520747941167, 25.736088503036406, 26.58104060658132, 22.894050752189646, 77.90045776556333, 21.030951614115214, 19.15232393521694, 19.151220374802474, 19.150290675481493, 18.535647787191103, 18.20378905240412, 17.265565047493652, 16.970652710131723, 65.8572791709416, 16.286686828574858, 15.394832492356612, 15.386401144380724, 15.383952448137673, 14.752278493152337, 151.5158508355958, 48.58000686644735, 36.13113896615884, 96.77188988802074, 221.03822434384998, 155.33845234290985, 215.0290139563956, 86.14036820646714, 145.3121063555769, 29.792500238992808, 351.66200380681056, 157.34458242730673, 38.44374406569313, 33.060349429431874, 52.03748909673133, 60.43256415816643, 40.16400991005667, 53.90132760198229, 70.27357788007238, 41.127218669160065, 49.00991959772925, 65.59351542106602, 54.90777836021186, 48.47859643578968, 48.72589645517013, 44.62491588542671, 48.46939826888566, 48.530202068571114, 57.97361919146398, 27.033921905263743, 26.173005804825582, 21.007167319098446, 21.00712344914337, 19.280424708767924, 19.525822648155064, 17.56070129124932, 16.697941139940962, 17.240170759147386, 16.365897013767583, 14.108852873739679, 14.101021330380348, 14.104818350629898, 14.09086467940207, 12.681730710889818, 12.375615997301063, 12.641896035303654, 10.961717600392014, 10.959674621966908, 10.10284599113603, 9.795116409373415, 13.260745287426195, 8.943050694182261, 8.91456926041796, 8.060554357740136, 22.17738778141069, 7.21934948194406, 7.219056763450718, 7.20300716730028, 64.96778495038927, 12.39134261981673, 39.62377909730663, 20.16649493379155, 78.95920249266578, 120.24106015682602, 83.12047044092776, 81.18071045632628, 16.17581757497229, 17.906289131484144, 29.14763382552089, 21.66402156712913, 40.58342377526137, 178.26819464245258, 47.39192583328318, 24.745891962139613, 34.276911998343195, 33.49160349634029, 31.321399176003787, 24.798000392225664, 62.93116615601163, 28.18294258997551, 20.941527277007523, 45.836433374478574, 23.7766216109387, 24.661850743030552, 25.078961737607493, 22.929097948854828, 22.483743779752356, 22.023442058026056, 40.788459533565046, 37.715870300314805, 34.329025045452745, 28.124195329751245, 24.01827351900542, 15.134839248864866, 14.16508152708626, 14.156751969864873, 13.707311220307242, 13.704456337191461, 12.986724129959004, 13.175589577769033, 12.731751857213364, 12.727039205860859, 12.009466428920717, 11.751855449726843, 11.289012422333439, 11.04163470613953, 18.09811739906623, 11.034557622485739, 10.319055412689437, 10.311718241482504, 9.854123578245868, 9.138057958009774, 9.137902581029977, 9.557076570474889, 9.136635245316487, 9.136200865325137, 9.134492394099436, 8.87217822128226, 24.227440658106378, 28.513294415875887, 32.996339125364294, 45.94290843932661, 52.45935411908752, 28.68681132029014, 64.12954342823213, 22.380296153487457, 26.863971828624265, 20.98519327395758, 38.23232716791591, 29.804582504129247, 21.080781191929795, 56.34845343449291, 40.02366971912031, 27.5298094757081, 31.19406343919875, 24.791161851858103, 23.033088889789052, 27.895977621822784, 21.081174363243893, 52.40059730084848, 21.40103341385768, 26.09825515671743, 22.56847794258637, 26.491904761693917, 26.241247915674165, 22.332176578395856, 33.24669238995199, 27.114197351919984, 14.758384841562306, 12.347787733230902, 9.086683731946081, 9.08412921494289, 6.664126334252019, 6.178315644778335, 6.177615884953857, 6.176980497475906, 5.6935779821169055, 5.693040310934762, 5.690990121164434, 5.68384525381033, 4.542938496808831, 10.056183139010088, 3.571953200005024, 9.603253751520375, 3.557954298632205, 9.599018143740972, 3.092530192370538, 7.799357210109372, 3.0817147119331683, 17.446510123298804, 2.602237057270696, 2.6023016611724263, 2.601098731891101, 6.6396639163509, 5.690434851786836, 7.413385714547221, 9.264142082457123, 22.032359041058452, 7.642800884692971, 6.567304304639941, 8.544026703164068, 8.817573053292616, 8.278517171032869, 9.097813201239173, 7.21771739973551, 24.144916816073348, 9.01079197716345, 9.808093041715372, 8.954399022943251, 8.70553090016533, 9.143349921306214, 15.498585319192635, 13.958091157562482, 7.970347760680862, 8.530207488629037, 7.572565560417408, 41.9596711675004, 14.04417193696073, 11.447306274267705, 11.015031655276418, 10.112538049268885, 9.55388455229511, 8.25766357556059, 16.794703061515996, 7.675428750083599, 6.804783866762653, 6.372494154203143, 6.372692095569278, 5.943044188693735, 14.194096781372311, 5.078590687058182, 5.0774966189843616, 5.075531436401626, 13.009425036218014, 10.152637778836201, 9.02144556461239, 3.6222368700999388, 8.237477006173304, 17.333883268012258, 2.757240215630733, 2.75720830351506, 2.756159084901104, 7.225504574901041, 4.625048367949982, 6.3752511022504175, 2.3259447379723635, 5.924501955753229, 10.059117167632069, 12.228522628352387, 11.679044295879443, 19.80087093236372, 17.90787528025984, 25.42585568903952, 21.665400977287167, 11.390790779900207, 10.375223923166654, 9.938098662593053, 11.286313100655226, 17.390165890184303, 15.96311817653415, 16.42225244704686, 16.066280559119633, 9.209122441865281, 8.486293184607844, 8.394778724243054], \"Total\": [176.0, 582.0, 112.0, 43.0, 111.0, 130.0, 105.0, 131.0, 117.0, 48.0, 34.0, 59.0, 89.0, 75.0, 40.0, 76.0, 160.0, 33.0, 32.0, 28.0, 98.0, 59.0, 41.0, 152.0, 30.0, 38.0, 76.0, 23.0, 23.0, 162.0, 63.34764577494579, 59.5850878340378, 58.64667523690736, 57.70681915662823, 54.881227721361576, 160.93203611432602, 47.35866142209023, 38.899198441983735, 33.57995892255301, 33.25941777550744, 29.498022203507936, 27.613489202292442, 26.68035951047193, 27.61293275611547, 23.84984769406747, 81.37076220543005, 21.978125354860808, 20.09882328960948, 20.098108647787942, 20.098428410004697, 19.4881714420388, 19.157072705332247, 18.216054656366996, 17.930008205765745, 69.7011643957209, 17.270773973717965, 16.338696128558947, 16.3378732506759, 16.336594636768982, 15.71570647032888, 162.98658128221658, 52.18202419577679, 38.74873689701037, 109.30328264573554, 259.2518363035337, 184.78042177533396, 284.1860899337597, 105.0051993059522, 188.53164577173132, 33.08093686043063, 582.6782325936164, 232.65527233306844, 45.44041266706241, 38.17506654869654, 69.48440276161696, 90.99628533428249, 50.69797153016217, 82.6871786147183, 131.12675382108276, 54.67816513880803, 74.294218963585, 152.6610720486702, 112.5181726514971, 85.93229012572084, 98.15362596654354, 75.78864208908352, 130.2702026787942, 176.08672780417228, 59.04753103477169, 28.01033908444596, 27.15052665945871, 21.98084167606833, 21.98084302872396, 20.256621129610732, 20.56145676397719, 18.533416328219936, 17.671592523019722, 18.266879614600875, 17.406155016543664, 15.084022132744277, 15.08050382011495, 15.085817732447657, 15.085655685251835, 13.662986029216002, 13.356658042469718, 13.644265957090852, 11.94207380698775, 11.940286761604332, 11.080086616952233, 10.772595116862641, 14.661312489592232, 9.915092968832873, 9.913972650842545, 9.04839915878897, 25.02949605948266, 8.191406582578706, 8.191399475184719, 8.186087199248023, 75.39570098551643, 14.336716647926904, 48.69072736323127, 23.936638779586534, 105.51563625378184, 176.08672780417228, 117.38806315528524, 130.2702026787942, 19.598180751806996, 22.261721596103122, 41.29381239145486, 28.831412823131124, 68.13228845578283, 582.6782325936164, 90.1178714954931, 35.740797050341584, 64.96169944967882, 64.2168693443921, 58.195414707807565, 41.52952108982202, 232.65527233306844, 58.50232662881356, 31.38741129077319, 284.1860899337597, 55.572208953914156, 74.294218963585, 85.93229012572084, 64.92676905827635, 90.99628533428249, 152.6610720486702, 41.82185270435677, 38.74447581933114, 35.35812716293272, 29.151198609625695, 25.047699832313434, 16.175830368175045, 15.19925561875085, 15.199355903754414, 14.736313108252931, 14.734672692003656, 14.016821485107783, 14.228259700378262, 13.763115228227653, 13.76286021792002, 13.045016487356275, 12.786678854045146, 12.325357190456293, 12.069618521666293, 19.792083030557464, 12.067874528586904, 11.350677325156166, 11.350715025932136, 10.886781836105506, 10.169355735458305, 10.170107651102121, 10.637815937230897, 10.171804246511373, 10.1715906016154, 10.171146597132395, 9.917219705068911, 27.734338828530536, 34.26837383277952, 40.85661346339568, 59.572375933298765, 76.08966492999853, 40.163525084917545, 111.75295119572822, 31.127370346873104, 40.41203264394802, 29.07428801922666, 76.99731026801614, 55.153674505246755, 32.387677247547444, 152.6610720486702, 89.97758939662782, 49.587036220510505, 67.92606211381286, 48.04242813245686, 45.96948808189871, 77.87622151196948, 40.323669973574845, 582.6782325936164, 58.19516815216464, 131.12675382108276, 75.78864208908352, 184.78042177533396, 259.2518363035337, 188.53164577173132, 34.36408180492313, 28.22838140449648, 15.900391423408157, 13.462765562511509, 10.207586154975436, 10.207970728173287, 7.778637164496157, 7.293928287622066, 7.2933145549413725, 7.294732782318313, 6.808105338007574, 6.808708578881204, 6.8086838469040964, 6.8073553866590615, 5.6644520518101515, 13.052485168374066, 4.69735589492804, 12.679987257475862, 4.706878173521546, 12.882948718020828, 4.20983809625015, 10.649942729288048, 4.217012114178577, 23.98354018157905, 3.72416843913638, 3.7256689232282896, 3.7264341084244186, 9.520191270764519, 8.246781256301468, 10.82953456320282, 13.564177410235537, 32.923557398883965, 11.326259088935378, 9.74440270501479, 13.532618620335652, 14.547202046337425, 14.57790951211294, 17.888591849748718, 12.285382733972442, 112.5181726514971, 20.336923744669477, 25.434126058410925, 21.131027594932796, 20.10201241095996, 23.149073735665326, 98.15362596654354, 131.12675382108276, 18.9861691878436, 152.6610720486702, 38.978991196487264, 43.09906302617005, 15.179138035508513, 12.581923037126735, 12.148899574421748, 11.254981302123664, 10.701334849604946, 9.39907335249378, 19.221468931451877, 8.810370214147875, 7.948571718046675, 7.513889914484685, 7.514470966115478, 7.079359484861486, 17.214331298961337, 6.21316893893928, 6.213411331695755, 6.214027034800068, 16.054427061708367, 13.156026720778083, 11.769817660226485, 4.761131332478712, 10.848542479121003, 23.277172968417165, 3.8953890736452426, 3.896784514697485, 3.8959910191425435, 10.274070885563974, 6.766049164451049, 9.391830407779647, 3.462146830132851, 8.820263539651126, 15.176350722157025, 19.109932652446066, 18.429419594304154, 33.54525140881515, 30.226079973727202, 48.18885523708259, 40.57218049137299, 20.16729418193055, 20.336923744669477, 22.6557954976052, 30.87168573945349, 111.75295119572822, 89.97758939662782, 112.5181726514971, 131.12675382108276, 39.60509961838516, 36.00436850813575, 43.77855582024897], \"Category\": [\"Default\", \"Default\", \"Default\", \"Default\", \"Default\", \"Default\", \"Default\", \"Default\", \"Default\", \"Default\", \"Default\", \"Default\", \"Default\", \"Default\", \"Default\", \"Default\", \"Default\", \"Default\", \"Default\", \"Default\", \"Default\", \"Default\", \"Default\", \"Default\", \"Default\", \"Default\", \"Default\", \"Default\", \"Default\", \"Default\", \"Topic1\", \"Topic1\", \"Topic1\", \"Topic1\", \"Topic1\", \"Topic1\", \"Topic1\", \"Topic1\", \"Topic1\", \"Topic1\", \"Topic1\", \"Topic1\", \"Topic1\", \"Topic1\", \"Topic1\", \"Topic1\", \"Topic1\", \"Topic1\", \"Topic1\", \"Topic1\", \"Topic1\", \"Topic1\", \"Topic1\", \"Topic1\", \"Topic1\", \"Topic1\", \"Topic1\", \"Topic1\", \"Topic1\", \"Topic1\", \"Topic1\", \"Topic1\", \"Topic1\", \"Topic1\", \"Topic1\", \"Topic1\", \"Topic1\", \"Topic1\", \"Topic1\", \"Topic1\", \"Topic1\", \"Topic1\", \"Topic1\", \"Topic1\", \"Topic1\", \"Topic1\", \"Topic1\", \"Topic1\", \"Topic1\", \"Topic1\", \"Topic1\", \"Topic1\", \"Topic1\", \"Topic1\", \"Topic1\", \"Topic1\", \"Topic1\", \"Topic1\", \"Topic2\", \"Topic2\", \"Topic2\", \"Topic2\", \"Topic2\", \"Topic2\", \"Topic2\", \"Topic2\", \"Topic2\", \"Topic2\", \"Topic2\", \"Topic2\", \"Topic2\", \"Topic2\", \"Topic2\", \"Topic2\", \"Topic2\", \"Topic2\", \"Topic2\", \"Topic2\", \"Topic2\", \"Topic2\", \"Topic2\", \"Topic2\", \"Topic2\", \"Topic2\", \"Topic2\", \"Topic2\", \"Topic2\", \"Topic2\", \"Topic2\", \"Topic2\", \"Topic2\", \"Topic2\", \"Topic2\", \"Topic2\", \"Topic2\", \"Topic2\", \"Topic2\", \"Topic2\", \"Topic2\", \"Topic2\", \"Topic2\", \"Topic2\", \"Topic2\", \"Topic2\", \"Topic2\", \"Topic2\", \"Topic2\", \"Topic2\", \"Topic2\", \"Topic2\", \"Topic2\", \"Topic2\", \"Topic2\", \"Topic2\", \"Topic2\", \"Topic2\", \"Topic2\", \"Topic2\", \"Topic3\", \"Topic3\", \"Topic3\", \"Topic3\", \"Topic3\", \"Topic3\", \"Topic3\", \"Topic3\", \"Topic3\", \"Topic3\", \"Topic3\", \"Topic3\", \"Topic3\", \"Topic3\", \"Topic3\", \"Topic3\", \"Topic3\", \"Topic3\", \"Topic3\", \"Topic3\", \"Topic3\", \"Topic3\", \"Topic3\", \"Topic3\", \"Topic3\", \"Topic3\", \"Topic3\", \"Topic3\", \"Topic3\", \"Topic3\", \"Topic3\", \"Topic3\", \"Topic3\", \"Topic3\", \"Topic3\", \"Topic3\", \"Topic3\", \"Topic3\", \"Topic3\", \"Topic3\", \"Topic3\", \"Topic3\", \"Topic3\", \"Topic3\", \"Topic3\", \"Topic3\", \"Topic3\", \"Topic3\", \"Topic3\", \"Topic3\", \"Topic3\", \"Topic3\", \"Topic3\", \"Topic3\", \"Topic3\", \"Topic3\", \"Topic3\", \"Topic3\", \"Topic4\", \"Topic4\", \"Topic4\", \"Topic4\", \"Topic4\", \"Topic4\", \"Topic4\", \"Topic4\", \"Topic4\", \"Topic4\", \"Topic4\", \"Topic4\", \"Topic4\", \"Topic4\", \"Topic4\", \"Topic4\", \"Topic4\", \"Topic4\", \"Topic4\", \"Topic4\", \"Topic4\", \"Topic4\", \"Topic4\", \"Topic4\", \"Topic4\", \"Topic4\", \"Topic4\", \"Topic4\", \"Topic4\", \"Topic4\", \"Topic4\", \"Topic4\", \"Topic4\", \"Topic4\", \"Topic4\", \"Topic4\", \"Topic4\", \"Topic4\", \"Topic4\", \"Topic4\", \"Topic4\", \"Topic4\", \"Topic4\", \"Topic4\", \"Topic4\", \"Topic4\", \"Topic4\", \"Topic4\", \"Topic4\", \"Topic4\", \"Topic5\", \"Topic5\", \"Topic5\", \"Topic5\", \"Topic5\", \"Topic5\", \"Topic5\", \"Topic5\", \"Topic5\", \"Topic5\", \"Topic5\", \"Topic5\", \"Topic5\", \"Topic5\", \"Topic5\", \"Topic5\", \"Topic5\", \"Topic5\", \"Topic5\", \"Topic5\", \"Topic5\", \"Topic5\", \"Topic5\", \"Topic5\", \"Topic5\", \"Topic5\", \"Topic5\", \"Topic5\", \"Topic5\", \"Topic5\", \"Topic5\", \"Topic5\", \"Topic5\", \"Topic5\", \"Topic5\", \"Topic5\", \"Topic5\", \"Topic5\", \"Topic5\", \"Topic5\", \"Topic5\", \"Topic5\", \"Topic5\", \"Topic5\", \"Topic5\", \"Topic5\", \"Topic5\", \"Topic5\", \"Topic5\"], \"logprob\": [30.0, 29.0, 28.0, 27.0, 26.0, 25.0, 24.0, 23.0, 22.0, 21.0, 20.0, 19.0, 18.0, 17.0, 16.0, 15.0, 14.0, 13.0, 12.0, 11.0, 10.0, 9.0, 8.0, 7.0, 6.0, 5.0, 4.0, 3.0, 2.0, 1.0, -4.836, -4.8982, -4.9143, -4.9307, -4.982, -3.9079, -5.1322, -5.3333, -5.4848, -5.4945, -5.6183, -5.6864, -5.7217, -5.6894, -5.8387, -4.6141, -5.9236, -6.0172, -6.0172, -6.0173, -6.0499, -6.0679, -6.1209, -6.1381, -4.7821, -6.1792, -6.2355, -6.2361, -6.2363, -6.2782, -3.9489, -5.0864, -5.3824, -4.3972, -3.5712, -3.924, -3.5988, -4.5136, -3.9907, -5.5753, -3.1069, -3.9111, -5.3204, -5.4712, -5.0176, -4.8681, -5.2766, -4.9824, -4.7172, -5.2529, -5.0776, -4.7861, -4.9639, -5.0885, -5.0834, -5.1713, -5.0886, -5.0874, -4.026, -4.7889, -4.8213, -5.0411, -5.0411, -5.1269, -5.1142, -5.2203, -5.2707, -5.2387, -5.2908, -5.4392, -5.4397, -5.4395, -5.4405, -5.5458, -5.5703, -5.549, -5.6916, -5.6918, -5.7732, -5.8041, -5.5012, -5.8951, -5.8983, -5.999, -4.9869, -6.1092, -6.1093, -6.1115, -3.9121, -5.569, -4.4066, -5.082, -3.7171, -3.2965, -3.6657, -3.6893, -5.3025, -5.2008, -4.7136, -5.0103, -4.3826, -2.9027, -4.2275, -4.8773, -4.5515, -4.5747, -4.6417, -4.8752, -3.9439, -4.7473, -5.0443, -4.2609, -4.9173, -4.8807, -4.864, -4.9536, -4.9732, -4.9939, -4.2646, -4.3429, -4.437, -4.6363, -4.7942, -5.256, -5.3222, -5.3228, -5.355, -5.3553, -5.409, -5.3946, -5.4289, -5.4292, -5.4873, -5.509, -5.5491, -5.5713, -5.0772, -5.5719, -5.639, -5.6397, -5.6851, -5.7605, -5.7605, -5.7157, -5.7607, -5.7607, -5.7609, -5.7901, -4.7855, -4.6226, -4.4766, -4.1456, -4.0129, -4.6165, -3.8121, -4.8648, -4.6822, -4.9292, -4.3293, -4.5783, -4.9246, -3.9414, -4.2835, -4.6577, -4.5327, -4.7625, -4.836, -4.6445, -4.9246, -4.0141, -4.9095, -4.7111, -4.8564, -4.6961, -4.7056, -4.8669, -3.3983, -3.6022, -4.2105, -4.3888, -4.6955, -4.6957, -5.0055, -5.0812, -5.0813, -5.0814, -5.1629, -5.163, -5.1634, -5.1646, -5.3887, -4.5941, -5.6291, -4.6402, -5.6331, -4.6406, -5.7733, -4.8482, -5.7768, -4.0431, -5.9459, -5.9459, -5.9463, -5.0092, -5.1635, -4.899, -4.6761, -3.8098, -4.8685, -5.0202, -4.757, -4.7255, -4.7886, -4.6942, -4.9257, -3.7182, -4.7038, -4.6191, -4.7101, -4.7383, -4.6892, -4.1615, -4.2662, -4.8265, -4.7586, -4.8777, -3.0943, -4.1888, -4.3932, -4.4317, -4.5172, -4.574, -4.7198, -4.0099, -4.7929, -4.9133, -4.979, -4.979, -5.0488, -4.1781, -5.2059, -5.2062, -5.2065, -4.2653, -4.5132, -4.6314, -5.5439, -4.7223, -3.9783, -5.8167, -5.8168, -5.8171, -4.8534, -5.2995, -4.9785, -5.9868, -5.0519, -4.5225, -4.3272, -4.3732, -3.8452, -3.9457, -3.5952, -3.7553, -4.3982, -4.4916, -4.5346, -4.4074, -3.9751, -4.0607, -4.0323, -4.0542, -4.6108, -4.6925, -4.7034], \"loglift\": [30.0, 29.0, 28.0, 27.0, 26.0, 25.0, 24.0, 23.0, 22.0, 21.0, 20.0, 19.0, 18.0, 17.0, 16.0, 15.0, 14.0, 13.0, 12.0, 11.0, 10.0, 9.0, 8.0, 7.0, 6.0, 5.0, 4.0, 3.0, 2.0, 1.0, 0.6914, 0.6904, 0.6902, 0.69, 0.6889, 0.6871, 0.6861, 0.6817, 0.6773, 0.6772, 0.6734, 0.6713, 0.6704, 0.6684, 0.6655, 0.6629, 0.6624, 0.6582, 0.6582, 0.6581, 0.6563, 0.6554, 0.6529, 0.6515, 0.6497, 0.6478, 0.6469, 0.6464, 0.6464, 0.6432, 0.6335, 0.6349, 0.6365, 0.5847, 0.547, 0.5329, 0.4276, 0.5084, 0.4461, 0.6017, 0.2015, 0.3153, 0.5392, 0.5626, 0.4173, 0.2972, 0.4735, 0.2785, 0.0827, 0.4216, 0.2904, -0.1383, -0.011, 0.134, 0.0061, 0.1768, -0.2822, -0.5823, 1.5717, 1.5546, 1.5534, 1.5447, 1.5447, 1.5406, 1.5384, 1.5361, 1.5334, 1.5322, 1.5284, 1.5232, 1.5229, 1.5228, 1.5218, 1.5155, 1.5137, 1.5137, 1.5044, 1.5043, 1.4977, 1.4949, 1.4896, 1.4869, 1.4838, 1.4744, 1.4691, 1.4637, 1.4637, 1.4621, 1.4412, 1.4442, 1.384, 1.4186, 1.3001, 1.2086, 1.2448, 1.1171, 1.3981, 1.3723, 1.2417, 1.3042, 1.0719, 0.4057, 0.9474, 1.2224, 0.9507, 0.9391, 0.9705, 1.0744, 0.2825, 0.8597, 1.1854, -0.2345, 0.7411, 0.4873, 0.3585, 0.5492, 0.192, -0.3461, 1.678, 1.6761, 1.6735, 1.6672, 1.6611, 1.6365, 1.6326, 1.632, 1.6307, 1.6306, 1.6267, 1.6262, 1.6252, 1.6248, 1.6203, 1.6187, 1.6152, 1.614, 1.6136, 1.6135, 1.6078, 1.607, 1.6034, 1.5961, 1.596, 1.5959, 1.5957, 1.5957, 1.5956, 1.5917, 1.5679, 1.5192, 1.4894, 1.4433, 1.3312, 1.3665, 1.1477, 1.3731, 1.2947, 1.377, 1.003, 1.0876, 1.2736, 0.7064, 0.893, 1.1146, 0.9249, 1.0415, 1.012, 0.6764, 1.0545, -0.7057, 0.7027, 0.0888, 0.4917, -0.2393, -0.5874, -0.4302, 2.7407, 2.7335, 2.6992, 2.6873, 2.6574, 2.6571, 2.6191, 2.6078, 2.6077, 2.6074, 2.595, 2.5948, 2.5944, 2.5934, 2.5531, 2.513, 2.4999, 2.4958, 2.4939, 2.4795, 2.4653, 2.4622, 2.4601, 2.4555, 2.4153, 2.4149, 2.4142, 2.4134, 2.4027, 2.3948, 2.3925, 2.3721, 2.3804, 2.3792, 2.3139, 2.2731, 2.2079, 2.0976, 2.2419, 1.2347, 1.9597, 1.8209, 1.9152, 1.9369, 1.8448, 0.928, 0.5337, 1.9058, -0.1108, 1.1353, 2.8183, 2.7673, 2.7505, 2.7471, 2.738, 2.7316, 2.7156, 2.7101, 2.7071, 2.6897, 2.6803, 2.6802, 2.6701, 2.6521, 2.6434, 2.6432, 2.6427, 2.6347, 2.5859, 2.5791, 2.5717, 2.5697, 2.5502, 2.4995, 2.4991, 2.4989, 2.493, 2.4646, 2.4576, 2.4473, 2.4471, 2.4338, 2.3986, 2.3889, 2.3179, 2.3216, 2.2057, 2.2177, 2.2738, 2.172, 2.021, 1.8388, 0.9847, 1.1158, 0.9206, 0.7456, 1.3863, 1.3999, 1.1935]}, \"token.table\": {\"Topic\": [2, 1, 2, 3, 4, 2, 3, 2, 3, 4, 5, 1, 2, 3, 1, 2, 2, 2, 1, 5, 1, 2, 3, 2, 4, 5, 1, 2, 3, 4, 2, 1, 5, 4, 5, 3, 4, 1, 2, 3, 3, 1, 2, 1, 3, 3, 1, 1, 2, 3, 5, 1, 3, 1, 2, 3, 4, 1, 2, 3, 1, 3, 4, 2, 4, 1, 5, 3, 5, 4, 1, 2, 5, 3, 2, 1, 3, 1, 2, 1, 1, 2, 1, 4, 4, 1, 2, 3, 1, 2, 3, 1, 2, 3, 3, 1, 3, 4, 1, 1, 3, 1, 1, 2, 3, 2, 2, 1, 4, 5, 1, 2, 4, 5, 2, 2, 5, 2, 1, 4, 1, 2, 3, 1, 5, 1, 1, 2, 3, 1, 2, 4, 1, 4, 1, 2, 3, 4, 3, 4, 5, 1, 4, 1, 2, 3, 4, 3, 1, 2, 3, 5, 1, 3, 5, 3, 1, 2, 4, 1, 5, 3, 1, 2, 3, 4, 5, 5, 1, 3, 1, 5, 1, 2, 3, 5, 3, 4, 3, 3, 2, 1, 2, 5, 3, 2, 1, 2, 4, 1, 2, 3, 4, 5, 2, 2, 3, 5, 4, 4, 1, 2, 4, 1, 3, 4, 1, 3, 2, 5, 3, 2, 4, 4, 5, 5, 1, 3, 2, 1, 4, 3, 4, 1, 2, 3, 5, 1, 3, 4, 5, 2, 5, 1, 2, 3, 1, 2, 3, 1, 3, 5, 1, 4, 5, 1, 3, 1, 4, 1, 2, 2, 1, 4, 5, 1, 2, 3, 4, 3, 4, 1, 3, 5, 1, 2, 1, 2, 4, 1, 1, 5, 1, 1, 4, 5, 2, 3, 1, 3, 4, 5, 3, 4, 5, 1, 3, 3, 1, 1, 2, 3, 4, 1, 2, 3, 1, 2, 3, 1, 2, 3, 4, 3, 4, 1, 2, 1, 2, 3, 1, 1, 2, 5, 4, 5, 1, 2, 3, 5, 2, 4, 2, 5, 1, 5, 1, 2, 4, 1, 3, 4, 5, 1, 2, 3, 3, 2, 3, 1, 3, 1, 1, 1, 1, 2, 3, 2, 1, 2, 3, 1, 3, 1, 2, 3, 5, 5, 1, 3, 5, 5, 3, 1, 3, 5, 2, 3, 5, 2, 4, 1, 4, 1, 2, 1, 2, 3, 3, 4, 5, 4, 3, 1, 2, 1, 2, 1, 2, 3, 1, 2, 3, 4, 5, 3, 1, 2, 2, 3, 4, 3, 1, 5, 1, 4, 1, 2, 3, 3, 4, 1, 2, 3, 4, 5, 1, 4, 1, 5, 4, 2, 2, 4, 5, 1, 2, 5, 5, 2, 3, 4, 5, 5, 1, 2, 3, 1, 3, 4, 5, 4, 2, 4, 1, 1, 2, 3, 4, 5, 1, 2, 3, 4], \"Freq\": [0.8545540902447009, 0.24199873423845572, 0.10083280593268988, 0.5646637132230634, 0.08066624474615192, 0.8984283315365268, 0.9501398702665208, 0.09464755043335414, 0.14197132565003123, 0.42591397695009364, 0.28394265130006247, 0.7889862018681055, 0.05917396514010792, 0.13807258532691846, 0.9744996123382486, 0.8545548317117262, 0.8841342937694532, 0.9639297803071939, 0.21295103437380172, 0.6388531031214052, 0.9778026926176567, 0.9282814300100004, 0.9210977399925188, 0.8215116546031708, 0.08215116546031707, 0.10268895682539635, 0.6314806757625597, 0.35424525713509447, 0.015401967701525845, 0.822511280268331, 0.9283509468248844, 0.945328974051056, 0.9223185115814772, 0.3139728490477962, 0.6279456980955924, 0.8848173655918344, 0.8226020003764108, 0.17968062275561802, 0.8085628024002811, 0.8810046936879529, 0.980784981508004, 0.07990572384066363, 0.8789629622473, 0.9468995327723949, 0.043040887853290674, 0.9115109685589392, 0.9180659143161983, 0.2697719200018713, 0.12451011692394058, 0.08300674461596039, 0.5187921538497524, 0.4785783117881377, 0.5003318714148712, 0.6593675750563329, 0.24176811085398875, 0.03296837875281665, 0.05494729792136108, 0.8524529783513347, 0.04628703954848876, 0.10028858568839233, 0.32636084832911116, 0.5439347472151852, 0.12691810768354322, 0.21007981280184826, 0.735279344806469, 0.39668187154069595, 0.545437573368457, 0.9094545517118827, 0.05052525287288238, 0.8812243805837715, 0.5578327833919323, 0.43187054198085084, 0.9744991433919876, 0.8848559908218624, 0.9280239393246676, 0.4711872707134841, 0.5207859307885877, 0.3962878777735864, 0.6017704810635942, 0.9621334990285102, 0.9889733691757449, 0.9619959252599969, 0.9396007561734532, 0.8226712223641685, 0.8816971871075683, 0.2129688430665142, 0.7070565589808272, 0.07666878350394511, 0.1253308798960712, 0.8355391993071413, 0.9445535973816065, 0.6530637627825411, 0.22978169431237558, 0.10884396046375684, 0.92109166261064, 0.14590712779073384, 0.8462613411862562, 0.8913473197078664, 0.9713112368193648, 0.24076255952926312, 0.7222876785877893, 0.9332426983061366, 0.27827196638291424, 0.6814823666520349, 0.039753138054702035, 0.9212509062489223, 0.9822595286134009, 0.9181121538802149, 0.2635679731728997, 0.6589199329322493, 0.31859906850424624, 0.6690580438589171, 0.8498201679622651, 0.8475343020552085, 0.9280339079783451, 0.9712186723282243, 0.5776762506410669, 0.9527811932780429, 0.9643667454413613, 0.8826979122194499, 0.6748181480075782, 0.2707869001559072, 0.05157845717255375, 0.3875362220890618, 0.5962095724447104, 0.9453475472013565, 0.7691016508473162, 0.11138713563995614, 0.11669128495614453, 0.9777829886763636, 0.907707071259001, 0.8812275815579534, 0.15322752519542895, 0.7661376259771449, 0.06175188126994967, 0.15437970317487418, 0.6483947533344715, 0.12350376253989934, 0.32559018197608985, 0.5697828184581573, 0.798521147938789, 0.2955821125402252, 0.6650597532155067, 0.8190070641113969, 0.04761668977391842, 0.08571004159305316, 0.04761668977391842, 0.938476686321384, 0.5585793178533347, 0.29092672804861186, 0.09309655297555579, 0.046548276487777894, 0.08827763298849547, 0.44138816494247735, 0.44138816494247735, 0.9500341026385652, 0.17279309080247465, 0.388784454305568, 0.388784454305568, 0.19466480446520826, 0.6813268156282288, 0.8847987812080372, 0.49921742082867165, 0.15282165943734846, 0.1935741019539747, 0.15282165943734846, 0.8884954787186661, 0.7700223088964565, 0.30227495443907776, 0.6834042448187845, 0.8644385716500279, 0.10478043292727611, 0.45684467258623834, 0.2512645699224311, 0.09136893451724767, 0.18273786903449535, 0.9445710988965265, 0.8813024625961399, 0.9400425857154918, 0.9615893919755881, 0.9025200204392149, 0.27979230530071314, 0.6994807632517829, 0.8401364551138193, 0.8849463849111452, 0.9553774286479565, 0.9827290163192101, 0.15772886513122014, 0.7886443256561007, 0.32701687600773516, 0.5138836622978695, 0.0467166965725336, 0.0934333931450672, 0.015572232190844533, 0.8551093861598521, 0.9514757588276591, 0.18435656253816401, 0.7374262501526561, 0.9603050122896719, 0.8813995537472155, 0.9453625877423644, 0.8370117297209194, 0.06975097747674329, 0.4718070505918432, 0.15726901686394773, 0.3931725421598693, 0.10816915515987985, 0.8653532412790388, 0.7630566054796192, 0.20810634694898705, 0.9803487255773545, 0.955377369856005, 0.8050591833135716, 0.7114041692963843, 0.7698655105728617, 0.9080208669498853, 0.493523733072333, 0.493523733072333, 0.9078096457362256, 0.23286594285697676, 0.7762198095232559, 0.24251886134020775, 0.7275565840206233, 0.21475942910863732, 0.05368985727715933, 0.5726918109563662, 0.15212126228528478, 0.48880992913341814, 0.15108670536851104, 0.21329887816730972, 0.1421992521115398, 0.8866873282476201, 0.06820671755750923, 0.42958710966357233, 0.5326880159828297, 0.03436696877308579, 0.5937565149551839, 0.10555671376981046, 0.3034755520882051, 0.12323715263622985, 0.3204165968541976, 0.5422434715994113, 0.30373388509769533, 0.6682145472149298, 0.8046311951973784, 0.2738803423440237, 0.7220481752706079, 0.34370870660030867, 0.6186756718805556, 0.9290625419786923, 0.05161458566548291, 0.9576241494726995, 0.9264205544203298, 0.14779673864239992, 0.7389836932119995, 0.09686681292783082, 0.7022843937267734, 0.14530021939174623, 0.04843340646391541, 0.9198915165519994, 0.8999005676662654, 0.9481311890606563, 0.32556641131847563, 0.6511328226369513, 0.36846492147059196, 0.6217845549816239, 0.9325921115972551, 0.06749021860243293, 0.8515428869928701, 0.9554955056872273, 0.9068666986842244, 0.06045777991228163, 0.9877515488297878, 0.25017157411183183, 0.7088194599835236, 0.8047423221769995, 0.17133089129551696, 0.8077027732502942, 0.3952218153208393, 0.3608547009451141, 0.08591778593931289, 0.1374684575029006, 0.9136746358132887, 0.05202516017720743, 0.8844277230125263, 0.9585752656842494, 0.03686827944939421, 0.8850118172795334, 0.9839430027725387, 0.7483693884280558, 0.07195859504115922, 0.1007420330576229, 0.08635031404939106, 0.8362600110703745, 0.08802736958635522, 0.04401368479317761, 0.6041070016176479, 0.30548592695437876, 0.08924307978442525, 0.4874420660150962, 0.07696453673922572, 0.23089361021767715, 0.20523876463793525, 0.44721239475942187, 0.5031139441043496, 0.6595398765012543, 0.3364999369904359, 0.15307543276553326, 0.8164023080828441, 0.9075124145328656, 0.9749503721531438, 0.6564811160815889, 0.1009970947817829, 0.22724346325901154, 0.44254480731674056, 0.4917164525741562, 0.41629869216556625, 0.06244480382483494, 0.5203733652069579, 0.8806613626076986, 0.18779443710057403, 0.7511777484022961, 0.9306460850824108, 0.8047109281972175, 0.12457623011475927, 0.8097454957459352, 0.3979701055023856, 0.1492387895633946, 0.4477163686901838, 0.44439051878897834, 0.13887203712155574, 0.16664644454586688, 0.22219525939448917, 0.4327665462221934, 0.5215391710882843, 0.033289734324784104, 0.9273094276205802, 0.9211130476821783, 0.9605093901955177, 0.21822194928998087, 0.7721699744107016, 0.9831167594873967, 0.9768838824963233, 0.9901806331868228, 0.026526711388812494, 0.8621181201364061, 0.10610684555524998, 0.9379649191456798, 0.33710959415400277, 0.6019814181321478, 0.07223777017585774, 0.939020682987719, 0.0574910622237379, 0.7565465292481903, 0.16186576904845004, 0.0598199581266011, 0.021112926397623917, 0.9054317992025683, 0.1288816302594154, 0.08592108683961026, 0.7303292381366873, 0.7701412986694672, 0.9274570567808038, 0.32168636788297855, 0.6681178409877246, 0.851147735524101, 0.97269372640168, 0.1699261668902961, 0.7646677510063324, 0.3429847054439079, 0.5487755287102526, 0.9181840116323452, 0.712616478688861, 0.46181057845075085, 0.5233853222441843, 0.22745444042318236, 0.7487041997263085, 0.01895453670193186, 0.5506663984427093, 0.06478428216973049, 0.3563135519335177, 0.8816639702111045, 0.8924690643868287, 0.8874390379874327, 0.10978627274071333, 0.9817809046283171, 0.012427606387700216, 0.3980675923681703, 0.24397691145145922, 0.35954492213899253, 0.2778469635344215, 0.044455514165507436, 0.44455514165507437, 0.055569392706884296, 0.17782205666202974, 0.8810017674792947, 0.7498422797457791, 0.23775486918768607, 0.9192150698872218, 0.9113792602685653, 0.9564841714834981, 0.9185450898662693, 0.15202158238560606, 0.7601079119280303, 0.2052460330863311, 0.7183611158021589, 0.4102400944200999, 0.47861344349011653, 0.10256002360502497, 0.958171814604636, 0.8055489565062982, 0.5338346139149621, 0.038131043851068726, 0.19828142802555737, 0.10676692278299242, 0.12201934032341992, 0.2770202156419134, 0.6463805031644647, 0.11618226495505371, 0.813275854685376, 0.8052245279487964, 0.9281344111534356, 0.29775611021418874, 0.09925203673806292, 0.5955122204283775, 0.9544591602241917, 0.22675059435685607, 0.6802517830705682, 0.79845940280499, 0.10533983871167403, 0.4213593548466961, 0.4213593548466961, 0.9344628628613714, 0.8742701705884866, 0.8388334570880966, 0.016235486266221226, 0.14070754764058396, 0.2570085397786787, 0.7067734843913664, 0.6635124068200844, 0.22117080227336144, 0.9433730026241604, 0.26487121444455564, 0.7063232385188151, 0.9787261900823663, 0.13249700806915815, 0.2502721263528543, 0.4563785833493225, 0.07360944892731008, 0.07360944892731008, 0.43233025364159894, 0.14411008454719965, 0.3668256697565082, 0.058954125496581675], \"Term\": [\"abate\", \"accord\", \"accord\", \"accord\", \"accord\", \"act\", \"activism\", \"activist\", \"activist\", \"activist\", \"activist\", \"administration\", \"administration\", \"administration\", \"agency\", \"air\", \"align\", \"allegation\", \"alliance\", \"alliance\", \"antiinsurgency\", \"anyone\", \"aquino\", \"army\", \"army\", \"army\", \"aspirant\", \"aspirant\", \"aspirant\", \"baka\", \"bayan\", \"belgica\", \"bishop\", \"bloc\", \"bloc\", \"board\", \"bomb\", \"bong\", \"bong\", \"bongbong\", \"book\", \"bridge\", \"bridge\", \"budget\", \"budget\", \"business\", \"cabinet\", \"call\", \"call\", \"call\", \"call\", \"campaign\", \"campaign\", \"candidacy\", \"candidacy\", \"candidacy\", \"candidacy\", \"candidate\", \"candidate\", \"candidate\", \"case\", \"case\", \"case\", \"ceasefire\", \"ceasefire\", \"challenge\", \"challenge\", \"chance\", \"chance\", \"character\", \"chief\", \"chief\", \"child\", \"china\", \"christopher\", \"city\", \"city\", \"claim\", \"claim\", \"cocs\", \"comelec\", \"commander\", \"committee\", \"complain\", \"constitution\", \"control\", \"control\", \"control\", \"council\", \"council\", \"count\", \"country\", \"country\", \"country\", \"court\", \"covid\", \"covid\", \"cppnpa\", \"daughter\", \"davao\", \"davao\", \"davao_city_mayor\", \"decision\", \"decision\", \"decision\", \"decline\", \"defense\", \"dela_rosa\", \"democracy\", \"democracy\", \"department\", \"department\", \"dictator\", \"dinforcor\", \"director\", \"discontent\", \"dissenter\", \"document\", \"drug\", \"duplicity\", \"duterte\", \"duterte\", \"duterte\", \"elcac\", \"elcac\", \"eleazar\", \"election\", \"election\", \"election\", \"end\", \"endeavor\", \"enemy\", \"evidence\", \"evidence\", \"fact\", \"fact\", \"fact\", \"fact\", \"family\", \"family\", \"farmer\", \"fight\", \"fight\", \"file\", \"file\", \"file\", \"file\", \"firm\", \"force\", \"force\", \"force\", \"force\", \"forum\", \"forum\", \"forum\", \"foundation\", \"friend\", \"friend\", \"friend\", \"gabriela\", \"gabriela\", \"generate\", \"government\", \"government\", \"government\", \"government\", \"govt\", \"gratus_lhentwit\", \"group\", \"group\", \"head\", \"head\", \"health\", \"health\", \"health\", \"health\", \"history\", \"hndi\", \"hour\", \"ibon\", \"implement\", \"influence\", \"influence\", \"inquirerdotnet\", \"inquiry\", \"instance\", \"insurgency\", \"investigation\", \"investigation\", \"issue\", \"issue\", \"issue\", \"issue\", \"issue\", \"jail\", \"joma\", \"kabataan\", \"kabataan\", \"kill\", \"kind\", \"lakascmd\", \"landscape\", \"landscape\", \"leader\", \"leader\", \"leader\", \"leni\", \"leni\", \"lie\", \"lie\", \"look\", \"lorenzana\", \"love\", \"luck\", \"malac\", \"manilabulletin\", \"marcos\", \"marcos\", \"mario\", \"mean\", \"mean\", \"measure\", \"measure\", \"medium\", \"medium\", \"medium\", \"medium\", \"member\", \"member\", \"member\", \"member\", \"modernization\", \"modernization\", \"monday\", \"monday\", \"monday\", \"name\", \"name\", \"name\", \"news\", \"news\", \"news\", \"nothing\", \"nothing\", \"npas\", \"number\", \"number\", \"oath\", \"oath\", \"office\", \"office\", \"officer\", \"opinion\", \"opportunity\", \"opportunity\", \"organization\", \"organization\", \"organization\", \"organization\", \"page\", \"palabay\", \"pantry\", \"parent\", \"parent\", \"parlade\", \"parlade\", \"party\", \"party\", \"path\", \"pdplaban\", \"peace\", \"peace\", \"percent\", \"person\", \"person\", \"phil\", \"philippinestar\", \"philippinestar\", \"plan\", \"plan\", \"plan\", \"plan\", \"platform\", \"please\", \"please\", \"poll\", \"poll\", \"pop\", \"position\", \"post\", \"post\", \"post\", \"post\", \"presidency\", \"presidency\", \"presidency\", \"president\", \"president\", \"president\", \"press\", \"press\", \"press\", \"press\", \"priest\", \"priest\", \"problem\", \"problem\", \"problema\", \"problema\", \"proposal\", \"push\", \"question\", \"question\", \"question\", \"quismorio\", \"quismorio\", \"race\", \"race\", \"race\", \"rappler\", \"react\", \"react\", \"rebellion\", \"reclamation\", \"recruit\", \"recruit\", \"release\", \"release\", \"release\", \"report\", \"report\", \"report\", \"report\", \"retire\", \"retire\", \"retire\", \"reveal\", \"revolution\", \"rice\", \"robredo\", \"robredo\", \"roque\", \"rule\", \"sara\", \"school\", \"school\", \"school\", \"secretary_delfin_lorenzana\", \"security\", \"security\", \"security\", \"senate\", \"senate\", \"senator\", \"senator\", \"senator\", \"senator\", \"sent\", \"share\", \"share\", \"share\", \"sharpmoderato\", \"shout\", \"show\", \"show\", \"silence\", \"sison\", \"sister\", \"sister\", \"someone\", \"someone\", \"speculation\", \"speech\", \"spokesperson\", \"spokesperson\", \"statement\", \"statement\", \"statement\", \"story\", \"story\", \"story\", \"student\", \"study\", \"substitute\", \"substitute\", \"substitution\", \"substitution\", \"support\", \"support\", \"support\", \"talk\", \"talk\", \"talk\", \"talk\", \"talk\", \"target\", \"task\", \"task\", \"teach\", \"team\", \"teddycasino\", \"tentorio\", \"terror\", \"terror\", \"terrorist\", \"terrorist\", \"thing\", \"thing\", \"thing\", \"think\", \"thinking\", \"time\", \"time\", \"time\", \"time\", \"time\", \"tomorrow\", \"tomorrow\", \"town\", \"town\", \"troop\", \"trouble\", \"truth\", \"truth\", \"truth\", \"turn\", \"tweet\", \"tweet\", \"understand\", \"use\", \"use\", \"use\", \"version\", \"viber\", \"vice\", \"vice\", \"vice\", \"vote\", \"vote\", \"wake\", \"wake\", \"watch\", \"wife\", \"wife\", \"withdrawal\", \"work\", \"work\", \"work\", \"work\", \"work\", \"year\", \"year\", \"year\", \"year\"]}, \"R\": 30, \"lambda.step\": 0.01, \"plot.opts\": {\"xlab\": \"PC1\", \"ylab\": \"PC2\"}, \"topic.order\": [4, 5, 2, 3, 1]};\n",
       "\n",
       "function LDAvis_load_lib(url, callback){\n",
       "  var s = document.createElement('script');\n",
       "  s.src = url;\n",
       "  s.async = true;\n",
       "  s.onreadystatechange = s.onload = callback;\n",
       "  s.onerror = function(){console.warn(\"failed to load library \" + url);};\n",
       "  document.getElementsByTagName(\"head\")[0].appendChild(s);\n",
       "}\n",
       "\n",
       "if(typeof(LDAvis) !== \"undefined\"){\n",
       "   // already loaded: just create the visualization\n",
       "   !function(LDAvis){\n",
       "       new LDAvis(\"#\" + \"ldavis_el56841405628446047525060014508\", ldavis_el56841405628446047525060014508_data);\n",
       "   }(LDAvis);\n",
       "}else if(typeof define === \"function\" && define.amd){\n",
       "   // require.js is available: use it to load d3/LDAvis\n",
       "   require.config({paths: {d3: \"https://d3js.org/d3.v5\"}});\n",
       "   require([\"d3\"], function(d3){\n",
       "      window.d3 = d3;\n",
       "      LDAvis_load_lib(\"https://cdn.jsdelivr.net/gh/bmabey/pyLDAvis@3.3.1/pyLDAvis/js/ldavis.v3.0.0.js\", function(){\n",
       "        new LDAvis(\"#\" + \"ldavis_el56841405628446047525060014508\", ldavis_el56841405628446047525060014508_data);\n",
       "      });\n",
       "    });\n",
       "}else{\n",
       "    // require.js not available: dynamically load d3 & LDAvis\n",
       "    LDAvis_load_lib(\"https://d3js.org/d3.v5.js\", function(){\n",
       "         LDAvis_load_lib(\"https://cdn.jsdelivr.net/gh/bmabey/pyLDAvis@3.3.1/pyLDAvis/js/ldavis.v3.0.0.js\", function(){\n",
       "                 new LDAvis(\"#\" + \"ldavis_el56841405628446047525060014508\", ldavis_el56841405628446047525060014508_data);\n",
       "            })\n",
       "         });\n",
       "}\n",
       "</script>"
      ],
      "text/plain": [
       "<IPython.core.display.HTML object>"
      ]
     },
     "execution_count": 342,
     "metadata": {},
     "output_type": "execute_result"
    }
   ],
   "source": [
    "topic_data =  gensimvis.prepare(optimal_model, doc_term_matrix, dictionary, mds = 'pcoa')\n",
    "pyLDAvis.display(topic_data)"
   ]
  },
  {
   "cell_type": "code",
   "execution_count": 344,
   "id": "9e9facb0-4380-4e72-b94c-92ffa7888980",
   "metadata": {},
   "outputs": [
    {
     "name": "stderr",
     "output_type": "stream",
     "text": [
      "/opt/conda/lib/python3.7/site-packages/past/builtins/misc.py:45: DeprecationWarning: the imp module is deprecated in favour of importlib; see the module's documentation for alternative uses\n",
      "  from imp import reload\n",
      "/opt/conda/lib/python3.7/site-packages/past/builtins/misc.py:45: DeprecationWarning: the imp module is deprecated in favour of importlib; see the module's documentation for alternative uses\n",
      "  from imp import reload\n",
      "/opt/conda/lib/python3.7/site-packages/past/builtins/misc.py:45: DeprecationWarning: the imp module is deprecated in favour of importlib; see the module's documentation for alternative uses\n",
      "  from imp import reload\n",
      "/opt/conda/lib/python3.7/site-packages/past/builtins/misc.py:45: DeprecationWarning: the imp module is deprecated in favour of importlib; see the module's documentation for alternative uses\n",
      "  from imp import reload\n",
      "/opt/conda/lib/python3.7/site-packages/past/builtins/misc.py:45: DeprecationWarning: the imp module is deprecated in favour of importlib; see the module's documentation for alternative uses\n",
      "  from imp import reload\n",
      "/opt/conda/lib/python3.7/site-packages/past/builtins/misc.py:45: DeprecationWarning: the imp module is deprecated in favour of importlib; see the module's documentation for alternative uses\n",
      "  from imp import reload\n",
      "/opt/conda/lib/python3.7/site-packages/past/builtins/misc.py:45: DeprecationWarning: the imp module is deprecated in favour of importlib; see the module's documentation for alternative uses\n",
      "  from imp import reload\n",
      "/opt/conda/lib/python3.7/site-packages/past/builtins/misc.py:45: DeprecationWarning: the imp module is deprecated in favour of importlib; see the module's documentation for alternative uses\n",
      "  from imp import reload\n"
     ]
    }
   ],
   "source": [
    "# import dill\n",
    "dill.dump_session('notebook_env.db')"
   ]
  },
  {
   "cell_type": "markdown",
   "id": "687f91d1-b623-46df-92a4-504219aa942a",
   "metadata": {
    "tags": []
   },
   "source": [
    "### Topic Modeling - Ferdinand Marcos Jr."
   ]
  },
  {
   "cell_type": "code",
   "execution_count": null,
   "id": "9fbc8baa-c817-42b9-bb39-162fcaf59b7d",
   "metadata": {},
   "outputs": [],
   "source": [
    "final_df_marcos = final_df[final_df['candidate'] == 'Ferdinand Marcos Jr.']\n",
    "final_df_marcos.shape"
   ]
  },
  {
   "cell_type": "code",
   "execution_count": null,
   "id": "aa62bfef-13f4-490c-ac61-1f0d6dec375b",
   "metadata": {},
   "outputs": [],
   "source": [
    "final_content_marcos = final_df_marcos['lemma_noun'].map(noun_only)"
   ]
  },
  {
   "cell_type": "code",
   "execution_count": null,
   "id": "a4b0849a-9ce9-4cd3-9c4e-0d1f29a172aa",
   "metadata": {},
   "outputs": [],
   "source": [
    "dictionary = corpora.Dictionary(final_content_marcos)\n",
    "dictionary.filter_extremes(no_below=5, no_above=0.5, keep_n=10000)"
   ]
  },
  {
   "cell_type": "code",
   "execution_count": null,
   "id": "f3bf6242-7ad7-41b1-9099-93946a1a0597",
   "metadata": {},
   "outputs": [],
   "source": [
    "doc_term_matrix = [dictionary.doc2bow(doc) for doc in final_content_marcos]"
   ]
  },
  {
   "cell_type": "code",
   "execution_count": null,
   "id": "d163d89f-4dc7-4334-b1a3-f0407ca27ee2",
   "metadata": {},
   "outputs": [],
   "source": [
    "Lda = gensim.models.ldamodel.LdaModel\n",
    "ldamodel_marcos = Lda(doc_term_matrix, num_topics=3, id2word = dictionary, passes=40,\\\n",
    "               iterations=200,  chunksize = 10000, eval_every = None, random_state=123)"
   ]
  },
  {
   "cell_type": "code",
   "execution_count": null,
   "id": "186b2b02-65cb-4900-b301-4fab8528baee",
   "metadata": {},
   "outputs": [],
   "source": [
    "ldamodel_marcos.show_topics(3, num_words=10, formatted=False)"
   ]
  },
  {
   "cell_type": "code",
   "execution_count": null,
   "id": "91bda778-efd5-4bdd-9a84-eea1c0adfdd6",
   "metadata": {},
   "outputs": [],
   "source": [
    "topic_data =  gensimvis.prepare(ldamodel_marcos, doc_term_matrix, dictionary, mds = 'pcoa')\n",
    "pyLDAvis.display(topic_data)"
   ]
  },
  {
   "cell_type": "code",
   "execution_count": null,
   "id": "6d90ebff-5b7c-4779-846f-7fe1e638da56",
   "metadata": {},
   "outputs": [],
   "source": [
    "pyLDAvis.save_html(topic_data, 'lda_marcos.html')"
   ]
  },
  {
   "cell_type": "code",
   "execution_count": null,
   "id": "c0d6f43e-7fff-4fbf-9b98-5f57586a753b",
   "metadata": {},
   "outputs": [],
   "source": [
    "#Getting coherence score --\n",
    "#Coherence measures the relative distance between words within a topic. It is good for assessing the quality of the learned topics. So the higher the score is, the better the topics are extracted.\n",
    "\n",
    "coherence_model_lda_marcos = CoherenceModel(model=ldamodel_marcos, texts=final_content_marcos, dictionary=dictionary, coherence='c_v')\n",
    "coherence_lda_marcos = coherence_model_lda_marcos.get_coherence()\n",
    "print('\\nCoherence Score: ', coherence_lda_parlade)"
   ]
  },
  {
   "cell_type": "markdown",
   "id": "6bed28eb-853b-40cd-90e9-43834954dec3",
   "metadata": {
    "tags": []
   },
   "source": [
    "### Optimize Number of Topics - Ferdinand Marcos Jr."
   ]
  },
  {
   "cell_type": "code",
   "execution_count": null,
   "id": "81ef0a02-013e-4439-a6ae-5a534ef95f2d",
   "metadata": {},
   "outputs": [],
   "source": [
    "def compute_coherence_values(dictionary, corpus, texts, limit, start=15, step=2):\n",
    "    \"\"\"\n",
    "    Compute c_v coherence for various number of topics\n",
    "\n",
    "    Parameters:\n",
    "    ----------\n",
    "    dictionary : Gensim dictionary\n",
    "    corpus : Gensim corpus\n",
    "    texts : List of input texts\n",
    "    limit : Max num of topics\n",
    "\n",
    "    Returns:\n",
    "    -------\n",
    "    model_list : List of LDA topic models\n",
    "    coherence_values : Coherence values corresponding to the LDA model with respective number of topics\n",
    "    \"\"\"\n",
    "    coherence_values = []\n",
    "    model_list = []\n",
    "    for num_topics in range(start, limit, step):\n",
    "        model = Lda(corpus, num_topics=num_topics, id2word = dictionary)\n",
    "        model_list.append(model)\n",
    "        coherencemodel = CoherenceModel(model=model, texts=texts, dictionary=dictionary, coherence='c_v')\n",
    "        coherence_values.append(coherencemodel.get_coherence())\n",
    "\n",
    "    return model_list, coherence_values"
   ]
  },
  {
   "cell_type": "code",
   "execution_count": null,
   "id": "c7aa0561-dd1d-434b-828e-018e53235fe3",
   "metadata": {},
   "outputs": [],
   "source": [
    "# Can take a long time to run.\n",
    "model_list, coherence_values = compute_coherence_values(dictionary=dictionary, corpus=doc_term_matrix, texts=final_content_marcos, start=3, limit=15, step=1)"
   ]
  },
  {
   "cell_type": "code",
   "execution_count": null,
   "id": "27e9ccb9-122f-45e4-a4c6-57f6e98f0ba7",
   "metadata": {},
   "outputs": [],
   "source": [
    "# Show graph\n",
    "limit=15; start=3; step=1;\n",
    "x = range(start, limit, step)\n",
    "plt.plot(x, coherence_values)\n",
    "plt.xlabel(\"Num Topics\")\n",
    "plt.ylabel(\"Coherence score\")\n",
    "plt.legend((\"coherence_values\"), loc='best')\n",
    "plt.show()"
   ]
  },
  {
   "cell_type": "code",
   "execution_count": null,
   "id": "c4ed2fd7-4226-4a64-b3cf-1f95d8e2a7f2",
   "metadata": {},
   "outputs": [],
   "source": [
    "# Print the coherence scores\n",
    "for m, cv in zip(x, coherence_values):\n",
    "    print(\"Num Topics =\", m, \" has Coherence Value of\", round(cv, 4))"
   ]
  },
  {
   "cell_type": "code",
   "execution_count": null,
   "id": "fdb01894-6360-4270-b0fd-cd509a2f66fe",
   "metadata": {},
   "outputs": [],
   "source": [
    "# Select the model and print the topics\n",
    "optimal_model = model_list[9]\n",
    "model_topics = optimal_model.show_topics(formatted=False)\n",
    "pprint(optimal_model.print_topics(num_words=20))"
   ]
  },
  {
   "cell_type": "code",
   "execution_count": null,
   "id": "da08a57d-d7fa-4f1b-820a-48f9edd66272",
   "metadata": {},
   "outputs": [],
   "source": [
    "topic_data =  gensimvis.prepare(optimal_model, doc_term_matrix, dictionary, mds = 'pcoa')\n",
    "pyLDAvis.display(topic_data)"
   ]
  },
  {
   "cell_type": "markdown",
   "id": "f8cb3d68-fc36-4f72-91f9-cfb149fadbce",
   "metadata": {},
   "source": [
    "### Topic Modeling - Francisco Moreno Domagoso"
   ]
  },
  {
   "cell_type": "code",
   "execution_count": null,
   "id": "7af97ffe-1065-4546-8150-cf9d96662a1c",
   "metadata": {},
   "outputs": [],
   "source": [
    "final_df_moreno = final_df[final_df['candidate'] == 'Francisco Moreno Domagoso']\n",
    "final_df_moreno.shape"
   ]
  },
  {
   "cell_type": "code",
   "execution_count": null,
   "id": "a80e8da0-6e16-4812-88a9-2a0d5cb69ddc",
   "metadata": {},
   "outputs": [],
   "source": [
    "final_content_moreno = final_df_moreno['lemma_noun'].map(noun_only)"
   ]
  },
  {
   "cell_type": "code",
   "execution_count": null,
   "id": "1e3cc5b3-aaac-4abf-9d33-06af9c687ba1",
   "metadata": {},
   "outputs": [],
   "source": [
    "dictionary = corpora.Dictionary(final_content_moreno)"
   ]
  },
  {
   "cell_type": "code",
   "execution_count": null,
   "id": "32c17153-37cb-4c82-9371-b36bbe41179b",
   "metadata": {},
   "outputs": [],
   "source": [
    "doc_term_matrix = [dictionary.doc2bow(doc) for doc in final_content_moreno]"
   ]
  },
  {
   "cell_type": "code",
   "execution_count": null,
   "id": "cf2226ec-42ed-4a95-9a41-9e0200cfccba",
   "metadata": {},
   "outputs": [],
   "source": [
    "Lda = gensim.models.ldamodel.LdaModel\n",
    "ldamodel_moreno = Lda(doc_term_matrix, num_topics=10, id2word = dictionary, passes=40,\\\n",
    "               iterations=200,  chunksize = 100, eval_every = None, random_state=123)"
   ]
  },
  {
   "cell_type": "code",
   "execution_count": null,
   "id": "09cab0c7-93ab-4507-9ed2-b2b3805a0a8f",
   "metadata": {},
   "outputs": [],
   "source": [
    "ldamodel_moreno.show_topics(10, num_words=10, formatted=False)"
   ]
  },
  {
   "cell_type": "code",
   "execution_count": null,
   "id": "8f2cd1c7-03f5-42eb-9460-0fc37a99c7d5",
   "metadata": {},
   "outputs": [],
   "source": [
    "topic_data =  gensimvis.prepare(ldamodel_moreno, doc_term_matrix, dictionary, mds = 'pcoa')\n",
    "pyLDAvis.display(topic_data)"
   ]
  },
  {
   "cell_type": "code",
   "execution_count": null,
   "id": "305eb07d-865b-4b39-8fb6-0ca4cfa53940",
   "metadata": {},
   "outputs": [],
   "source": [
    "pyLDAvis.save_html(topic_data, 'lda_moreno.html')"
   ]
  },
  {
   "cell_type": "code",
   "execution_count": null,
   "id": "289c2e58-dc5d-4bff-9bb9-e3ce64e2b401",
   "metadata": {},
   "outputs": [],
   "source": [
    "#Getting coherence score --\n",
    "#Coherence measures the relative distance between words within a topic. It is good for assessing the quality of the learned topics. So the higher the score is, the better the topics are extracted.\n",
    "\n",
    "from gensim.models import CoherenceModel\n",
    "# Compute Coherence Score\n",
    "coherence_model_lda_moreno = CoherenceModel(model=ldamodel_moreno, texts=final_content_moreno, dictionary=dictionary, coherence='c_v')\n",
    "coherence_lda_moreno = coherence_model_lda_moreno.get_coherence()\n",
    "print('\\nCoherence Score: ', coherence_lda_moreno)"
   ]
  },
  {
   "cell_type": "markdown",
   "id": "9df7e0a6-6d8f-4cd7-8db9-3ad66cf94c5b",
   "metadata": {},
   "source": [
    "### Optimize Number of Topics - Francisco Moreno Domagoso"
   ]
  },
  {
   "cell_type": "code",
   "execution_count": null,
   "id": "3b1eeaf3-013d-41ad-b78e-ead959674b1c",
   "metadata": {},
   "outputs": [],
   "source": [
    "def compute_coherence_values(dictionary, corpus, texts, limit, start=15, step=2):\n",
    "    \"\"\"\n",
    "    Compute c_v coherence for various number of topics\n",
    "\n",
    "    Parameters:\n",
    "    ----------\n",
    "    dictionary : Gensim dictionary\n",
    "    corpus : Gensim corpus\n",
    "    texts : List of input texts\n",
    "    limit : Max num of topics\n",
    "\n",
    "    Returns:\n",
    "    -------\n",
    "    model_list : List of LDA topic models\n",
    "    coherence_values : Coherence values corresponding to the LDA model with respective number of topics\n",
    "    \"\"\"\n",
    "    coherence_values = []\n",
    "    model_list = []\n",
    "    for num_topics in range(start, limit, step):\n",
    "        model = Lda(corpus, num_topics=num_topics, id2word = dictionary)\n",
    "        model_list.append(model)\n",
    "        coherencemodel = CoherenceModel(model=model, texts=texts, dictionary=dictionary, coherence='c_v')\n",
    "        coherence_values.append(coherencemodel.get_coherence())\n",
    "\n",
    "    return model_list, coherence_values\n",
    "\n",
    "\n",
    "# Can take a long time to run.\n",
    "model_list, coherence_values = compute_coherence_values(dictionary=dictionary, corpus=doc_term_matrix, texts=final_content_moreno, start=3, limit=15, step=1)\n",
    "\n",
    "\n",
    "# Show graph\n",
    "limit=15; start=3; step=1;\n",
    "x = range(start, limit, step)\n",
    "plt.plot(x, coherence_values)\n",
    "plt.xlabel(\"Num Topics\")\n",
    "plt.ylabel(\"Coherence score\")\n",
    "plt.legend((\"coherence_values\"), loc='best')\n",
    "plt.show()"
   ]
  },
  {
   "cell_type": "code",
   "execution_count": null,
   "id": "97cc53d5-db70-420e-9128-9866a0edca98",
   "metadata": {},
   "outputs": [],
   "source": [
    "# Print the coherence scores\n",
    "for m, cv in zip(x, coherence_values):\n",
    "    print(\"Num Topics =\", m, \" has Coherence Value of\", round(cv, 4))"
   ]
  },
  {
   "cell_type": "code",
   "execution_count": null,
   "id": "813e6f69-5709-42ea-be81-85685932b3e2",
   "metadata": {},
   "outputs": [],
   "source": [
    "# Select the model and print the topics\n",
    "optimal_model = model_list[2]\n",
    "model_topics = optimal_model.show_topics(formatted=False)\n",
    "pprint(optimal_model.print_topics(num_words=20))"
   ]
  },
  {
   "cell_type": "code",
   "execution_count": null,
   "id": "932dd12b-24ee-4146-b31f-b19cc3b77db1",
   "metadata": {},
   "outputs": [],
   "source": []
  },
  {
   "cell_type": "markdown",
   "id": "8fedb2ca-0814-4628-aeb3-813d80482f58",
   "metadata": {
    "tags": []
   },
   "source": [
    "### Dominant topic and its percentage contribution in each document"
   ]
  },
  {
   "cell_type": "code",
   "execution_count": null,
   "id": "961961dd-c939-41e2-a75b-7e1420904079",
   "metadata": {},
   "outputs": [],
   "source": [
    "def format_topics_sentences(ldamodel=ldamodel, corpus=doc_term_matrix, texts=content):\n",
    "    # Init output\n",
    "    sent_topics_df = pd.DataFrame()\n",
    "\n",
    "    # Get main topic in each document\n",
    "    for i, row in enumerate(ldamodel[corpus]):\n",
    "        row = sorted(row, key=lambda x: (x[1]), reverse=True)\n",
    "        # Get the Dominant topic, Perc Contribution and Keywords for each document\n",
    "        for j, (topic_num, prop_topic) in enumerate(row):\n",
    "            if j == 0:  # => dominant topic\n",
    "                wp = ldamodel.show_topic(topic_num)\n",
    "                topic_keywords = \", \".join([word for word, prop in wp])\n",
    "                sent_topics_df = sent_topics_df.append(pd.Series([int(topic_num), round(prop_topic,4), topic_keywords]), ignore_index=True)\n",
    "            else:\n",
    "                break\n",
    "    sent_topics_df.columns = ['Dominant_Topic', 'Perc_Contribution', 'Topic_Keywords']\n",
    "\n",
    "    # Add original text to the end of the output\n",
    "    contents = pd.Series(texts)\n",
    "    sent_topics_df = pd.concat([sent_topics_df, contents], axis=1)\n",
    "    return(sent_topics_df)\n",
    "\n",
    "\n",
    "df_topic_sents_keywords = format_topics_sentences(ldamodel=ldamodel, corpus=doc_term_matrix, texts=content)\n",
    "\n",
    "# Format\n",
    "df_dominant_topic = df_topic_sents_keywords.reset_index()\n",
    "df_dominant_topic.columns = ['Document_No', 'Dominant_Topic', 'Topic_Perc_Contrib', 'Keywords', 'Text']"
   ]
  },
  {
   "cell_type": "code",
   "execution_count": null,
   "id": "0c12629b-945b-4b7a-ba07-df88c2495d32",
   "metadata": {},
   "outputs": [],
   "source": [
    "# Show\n",
    "df_dominant_topic.head(20)"
   ]
  },
  {
   "cell_type": "markdown",
   "id": "639fe71d-af8e-46b8-afe9-506a0c61cf6f",
   "metadata": {
    "jp-MarkdownHeadingCollapsed": true,
    "tags": []
   },
   "source": [
    "### The most representative sentence for each topic"
   ]
  },
  {
   "cell_type": "code",
   "execution_count": null,
   "id": "758d05ac-6a90-4475-b620-e85647537764",
   "metadata": {},
   "outputs": [],
   "source": [
    "# Display setting to show more characters in column\n",
    "pd.options.display.max_colwidth = 100\n",
    "\n",
    "sent_topics_sorteddf = pd.DataFrame()\n",
    "sent_topics_outdf_grpd = df_topic_sents_keywords.groupby('Dominant_Topic')\n",
    "\n",
    "for i, grp in sent_topics_outdf_grpd:\n",
    "    sent_topics_sorteddf = pd.concat([sent_topics_sorteddf, \n",
    "                                             grp.sort_values(['Perc_Contribution'], ascending=False).head(1)], \n",
    "                                            axis=0)\n",
    "\n",
    "# Reset Index    \n",
    "sent_topics_sorteddf.reset_index(drop=True, inplace=True)\n",
    "\n",
    "# Format\n",
    "sent_topics_sorteddf.columns = ['Topic_Num', \"Topic_Perc_Contrib\", \"Keywords\", \"Representative Text\"]\n",
    "\n",
    "# Show\n",
    "sent_topics_sorteddf.head(20)"
   ]
  },
  {
   "cell_type": "code",
   "execution_count": null,
   "id": "32272a39-6f4f-4462-a720-0836a7ed6093",
   "metadata": {},
   "outputs": [],
   "source": [
    "sent_topics_sorteddf.to_excel('topic_content_example.xlsx')"
   ]
  },
  {
   "cell_type": "markdown",
   "id": "7f39816f-1ad2-4b57-8808-93da84a23425",
   "metadata": {
    "jp-MarkdownHeadingCollapsed": true,
    "tags": []
   },
   "source": [
    "### Frequency Distribution of Word Counts in Documents"
   ]
  },
  {
   "cell_type": "code",
   "execution_count": null,
   "id": "b714f0a7-4b72-47cd-9c31-885f98763c1d",
   "metadata": {},
   "outputs": [],
   "source": [
    "doc_lens = [len(d) for d in final_df.content]\n",
    "\n",
    "# Plot\n",
    "plt.figure(figsize=(16,7), dpi=160)\n",
    "plt.hist(doc_lens, bins = 5000, color='navy')\n",
    "plt.text(3750, 15000, \"Mean   : \" + str(round(np.mean(doc_lens))))\n",
    "plt.text(3750, 13000, \"Median : \" + str(round(np.median(doc_lens))))\n",
    "plt.text(3750, 11000, \"Stdev   : \" + str(round(np.std(doc_lens))))\n",
    "plt.text(3750, 9000, \"1st Percentile    : \" + str(round(np.quantile(doc_lens, q=0.01))))\n",
    "plt.text(3750, 7000, \"99th Percentile  : \" + str(round(np.quantile(doc_lens, q=0.99))))\n",
    "\n",
    "plt.gca().set(xlim=(0, 5000), ylabel='Number of Documents', xlabel='Document Word Count')\n",
    "plt.tick_params(size=16)\n",
    "plt.xticks(np.linspace(0,5000,9))\n",
    "plt.title('Distribution of Document Word Counts', fontdict=dict(size=22))\n",
    "plt.show()"
   ]
  },
  {
   "cell_type": "markdown",
   "id": "51f7ce1f-24ec-4d6a-8f14-079956b78a27",
   "metadata": {
    "jp-MarkdownHeadingCollapsed": true,
    "tags": []
   },
   "source": [
    "### Word Clouds of Top N Keywords in Each Topic"
   ]
  },
  {
   "cell_type": "code",
   "execution_count": null,
   "id": "cd6bcaec-86b8-487f-b288-34156cc99159",
   "metadata": {},
   "outputs": [],
   "source": [
    "from wordcloud import WordCloud, STOPWORDS\n",
    "import matplotlib.colors as mcolors\n",
    "\n",
    "cols = [color for name, color in mcolors.TABLEAU_COLORS.items()]  \n",
    "\n",
    "cloud = WordCloud(background_color='white',\n",
    "                  width=2500,\n",
    "                  height=1800,\n",
    "                  max_words=20,\n",
    "                  colormap='tab20',\n",
    "                  color_func=lambda *args, **kwargs: cols[i],\n",
    "                  prefer_horizontal=1.0)\n",
    "\n",
    "topics = ldamodel.show_topics(formatted=False)\n",
    "\n",
    "fig, axes = plt.subplots(5, 3, figsize=(10,10), sharex=True, sharey=True)\n",
    "\n",
    "for i, ax in enumerate(axes.flatten()):\n",
    "    fig.add_subplot(ax)\n",
    "    topic_words = dict(topics[i][1])\n",
    "    cloud.generate_from_frequencies(topic_words, max_font_size=300)\n",
    "    plt.gca().imshow(cloud)\n",
    "    plt.gca().set_title('Topic ' + str(i), fontdict=dict(size=16))\n",
    "    plt.gca().axis('off')\n",
    "\n",
    "\n",
    "plt.subplots_adjust(wspace=0, hspace=0)\n",
    "plt.axis('off')\n",
    "plt.margins(x=0, y=0)\n",
    "plt.tight_layout()\n",
    "plt.show()"
   ]
  },
  {
   "cell_type": "code",
   "execution_count": null,
   "id": "0750b155-f509-44ae-beb5-9a4581a058da",
   "metadata": {},
   "outputs": [],
   "source": []
  },
  {
   "cell_type": "code",
   "execution_count": null,
   "id": "a09bc41b-12ba-450e-acf1-1adab47c416a",
   "metadata": {},
   "outputs": [],
   "source": [
    "### Checkpoint\n",
    "# !pip install dill\n",
    "# import dill\n",
    "# dill.dump_session('notebook_env.db')\n",
    "dill.load_session('notebook_env.db')"
   ]
  },
  {
   "cell_type": "code",
   "execution_count": null,
   "id": "7c915528-fd29-4b54-a663-8c1eaee8c63f",
   "metadata": {},
   "outputs": [],
   "source": [
    "### Checkpoint\n",
    "# !pip install dill\n",
    "# import dill\n",
    "# dill.dump_session('notebook_env.db')\n",
    "# dill.load_session('notebook_env.db')"
   ]
  },
  {
   "cell_type": "code",
   "execution_count": null,
   "id": "a7259312-9ec2-421f-a379-ca9457ad3594",
   "metadata": {},
   "outputs": [],
   "source": [
    "topic_words = lda_model"
   ]
  },
  {
   "cell_type": "markdown",
   "id": "3e64e767-c8f5-4209-95c8-a5bc72a71be0",
   "metadata": {
    "jp-MarkdownHeadingCollapsed": true,
    "tags": []
   },
   "source": [
    "### Cosine Similarity b/w Documents"
   ]
  },
  {
   "cell_type": "code",
   "execution_count": null,
   "id": "e3b53212-e3a1-44bb-893d-e603eed26a56",
   "metadata": {},
   "outputs": [],
   "source": [
    "### Given a keyword, Document Recommender system can suggest you the best documents from the pool of documents.\n",
    "words_list=list(chain.from_iterable(final_content))"
   ]
  },
  {
   "cell_type": "code",
   "execution_count": null,
   "id": "254a6941-e16e-483a-93df-2b5da6c61565",
   "metadata": {},
   "outputs": [],
   "source": [
    "title = [x for x in final_df['content']]"
   ]
  },
  {
   "cell_type": "code",
   "execution_count": null,
   "id": "6f34ac25-73ca-4087-9be2-02b0f792d71e",
   "metadata": {},
   "outputs": [],
   "source": [
    "# Cosine similarity\n",
    "def cosine_sim(text1, text2):\n",
    "    tfidf_score = TfidfVectorizer().fit_transform([text1, text2])\n",
    "    return ((tfidf_score * tfidf_score.T).A)[0, 1]\n",
    "\n",
    "# Most similar article\n",
    "def closest_doc_name(sentence, docs):\n",
    "    cos = []\n",
    "    for i in range(len(docs)):\n",
    "        cos.append(cosine_sim(', '.join(sentence.split(' ')),', '.join(docs[i])))\n",
    "    return [title[x] for x in np.argsort(cos)[-20:][::-1]]"
   ]
  },
  {
   "cell_type": "code",
   "execution_count": null,
   "id": "0fde76fc-319d-48b6-87f7-dc5c40daf120",
   "metadata": {},
   "outputs": [],
   "source": [
    "from sklearn.feature_extraction.text import TfidfVectorizer\n",
    "tfidf = TfidfVectorizer().fit(words_list)"
   ]
  },
  {
   "cell_type": "code",
   "execution_count": null,
   "id": "67362391-5c12-4b3b-86e7-b0447faa5f72",
   "metadata": {},
   "outputs": [],
   "source": [
    "closest_doc_name('corruption', final_content)"
   ]
  },
  {
   "cell_type": "code",
   "execution_count": null,
   "id": "6fc3d5a7-9e0a-4559-a562-a8dc99f5bad9",
   "metadata": {},
   "outputs": [],
   "source": [
    "### Checkpoint\n",
    "# !pip install dill\n",
    "# import dill\n",
    "dill.dump_session('notebook_env.db')\n",
    "# dill.load_session('notebook_env.db')"
   ]
  },
  {
   "cell_type": "code",
   "execution_count": null,
   "id": "4ff4fb50-96a9-420d-bbf7-23827c2ab6fa",
   "metadata": {},
   "outputs": [],
   "source": [
    "import dill"
   ]
  },
  {
   "cell_type": "code",
   "execution_count": null,
   "id": "104ae7e8-8908-438e-8c1d-1e6f959d316a",
   "metadata": {},
   "outputs": [],
   "source": [
    "dill.dump_session('notebook_env.db')"
   ]
  },
  {
   "cell_type": "code",
   "execution_count": null,
   "id": "bca9c968-114f-4c8c-9181-c73febaf3152",
   "metadata": {},
   "outputs": [],
   "source": [
    "final_df_export.to_excel('final_data.xlsx')"
   ]
  },
  {
   "cell_type": "code",
   "execution_count": null,
   "id": "df6ca273-0e85-4627-983b-2b8ec497c8d6",
   "metadata": {},
   "outputs": [],
   "source": [
    "import openpyxl"
   ]
  },
  {
   "cell_type": "code",
   "execution_count": null,
   "id": "2b42b00f-21a7-4eda-9ad9-e300ff4546b8",
   "metadata": {},
   "outputs": [],
   "source": [
    "!pip install openpyxl"
   ]
  },
  {
   "cell_type": "code",
   "execution_count": null,
   "id": "3f065068-ab37-4dd4-a0ce-ad4cc38995ae",
   "metadata": {},
   "outputs": [],
   "source": []
  }
 ],
 "metadata": {
  "environment": {
   "kernel": "python3",
   "name": "common-cpu.m86",
   "type": "gcloud",
   "uri": "gcr.io/deeplearning-platform-release/base-cpu:m86"
  },
  "kernelspec": {
   "display_name": "Python 3",
   "language": "python",
   "name": "python3"
  },
  "language_info": {
   "codemirror_mode": {
    "name": "ipython",
    "version": 3
   },
   "file_extension": ".py",
   "mimetype": "text/x-python",
   "name": "python",
   "nbconvert_exporter": "python",
   "pygments_lexer": "ipython3",
   "version": "3.7.12"
  }
 },
 "nbformat": 4,
 "nbformat_minor": 5
}
